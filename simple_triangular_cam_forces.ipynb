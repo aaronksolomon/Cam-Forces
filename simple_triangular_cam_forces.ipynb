{
 "cells": [
  {
   "cell_type": "markdown",
   "metadata": {},
   "source": [
    "## Forces for a Triangluar Camming Device\n",
    "\n",
    "Approximation of a Tricam. \n",
    "\n",
    "It is simplest to start modeling the tricam as a triangle with the force applied straight down from the top. It's not clear that this simplification is warranted, but it gives a chance to get some results for a similar shaped object and similar mode of camming.\n",
    "\n",
    "Unlike the SLCD in symmetric placement, because of the lack of symmetry, we have an underconstrained system (thanks to @RadostW for pointing this out).\n",
    "\n",
    "In order to give the simplified rigid body FBD enough constraints to be solved, a coefficient of friction $\\mu$ is used for the right side to relate $F_n$ and $F_{R,y}$. \n",
    "\n",
    "$\n",
    "F_{R,y} = \\mu F_n\n",
    "$ \n",
    "\n",
    "It's not clear that this choice is entirely warranted, though it allows the calculation to proceed. Another approach would be to fix the reactive force from the right wall to be normal to base of the triangle (also not clearly warranted, but interesting). A finite element model of the system with accurate boundary conditions would likely be the way to fully model the system. Anyone have a 3D model of a Tricam? Any research findings out there?\n",
    "\n",
    "It is assumed that the left side is a fixed pivot point for the initial calculation (e.g. assume we are guaranteed no slipping on the left). This makes the model simpler to work with. After computing the forces, the required \"equivalent\" minimal coefficient of friction $\\mu_l$ for the left side to maintain non-slipping is calculated. We can require $\\mu_l \\leq \\mu$ guaranteeing at least as much frictional force without slipping is available on the left as right. \n",
    "\n",
    "This simplified model is sufficient to generate some data points that can be tested."
   ]
  },
  {
   "cell_type": "markdown",
   "metadata": {},
   "source": [
    "<img src=\"triangle_force_diagram.png\" alt=\"Triangular Cam\" width=\"600\"/>"
   ]
  },
  {
   "cell_type": "markdown",
   "metadata": {},
   "source": [
    "Below is a modification where $F_a$ moved to act on the right surface. This is closer to an actual tricam."
   ]
  },
  {
   "cell_type": "markdown",
   "metadata": {},
   "source": [
    "### Equation setup in Sympy"
   ]
  },
  {
   "cell_type": "code",
   "execution_count": 1,
   "metadata": {
    "trusted": true
   },
   "outputs": [
    {
     "data": {
      "image/png": "[encoded data removed]",
      "text/latex": [
       "$\\displaystyle F_{L y} + F_{R y} - F_{a} = 0$"
      ],
      "text/plain": [
       "F_L_y + F_R_y - Fₐ = 0"
      ]
     },
     "metadata": {},
     "output_type": "display_data"
    },
    {
     "data": {
      "image/png": "[encoded data removed]",
      "text/latex": [
       "$\\displaystyle F_{n} r_{1} \\sin{\\left(t_{1} \\right)} + r_{1} \\left(F_{R y} - F_{a}\\right) \\cos{\\left(t_{1} \\right)} = 0$"
      ],
      "text/plain": [
       "Fₙ⋅r₁⋅sin(t₁) + r₁⋅(F_R_y - Fₐ)⋅cos(t₁) = 0"
      ]
     },
     "metadata": {},
     "output_type": "display_data"
    },
    {
     "data": {
      "image/png": "[encoded data removed]",
      "text/latex": [
       "$\\displaystyle F_{R y} = F_{n} µ$"
      ],
      "text/plain": [
       "F_R_y = Fₙ⋅µ"
      ]
     },
     "metadata": {},
     "output_type": "display_data"
    }
   ],
   "source": [
    "# Setup for a triangle \n",
    "# Assume left end is a pivot point.\n",
    "# F_L is force on left end. F_R is force on right end.\n",
    "\n",
    "# Imports for all code in this file\n",
    "import sympy as sp\n",
    "import numpy as np\n",
    "from sympy import init_printing\n",
    "from IPython.display import display\n",
    "import matplotlib.pyplot as plt\n",
    "from cam_force_utilities import draw_triangle, calculate_triangle_angles, plot_sympy_expression\n",
    "\n",
    "# Set up nice printing in sympy\n",
    "init_printing()\n",
    "\n",
    "# Define the variables\n",
    "F_L_y, F_R_y, F_a = sp.symbols('F_L_y F_R_y F_a')\n",
    "F_n = sp.symbols('F_n')\n",
    "r1, r2, theta1, theta2, mu = sp.symbols('r1 r2 t_1 t_2 µ')\n",
    "\n",
    "# Define the equations\n",
    "eq1 = sp.Eq(F_L_y + F_R_y - F_a, 0) # vertical force balance\n",
    "eq2 = sp.Eq(r1 * (F_R_y - F_a) * sp.cos(theta1) + r1 * F_n * sp.sin(theta1), 0) # torque balance\n",
    "eq3 = sp.Eq(F_R_y, mu * F_n)  # in order to be able to solve, need an additional contraint. Use friction force.\n",
    "\n",
    "display(eq1, eq2, eq3)"
   ]
  },
  {
   "cell_type": "markdown",
   "metadata": {},
   "source": [
    "### Solution"
   ]
  },
  {
   "cell_type": "code",
   "execution_count": 2,
   "metadata": {
    "trusted": true
   },
   "outputs": [
    {
     "data": {
      "image/png": "[encoded data removed]",
      "text/latex": [
       "$\\displaystyle \\left\\{ F_{L y} : \\frac{F_{a} \\sin{\\left(t_{1} \\right)}}{µ \\cos{\\left(t_{1} \\right)} + \\sin{\\left(t_{1} \\right)}}, \\  F_{R y} : \\frac{F_{a} µ \\cos{\\left(t_{1} \\right)}}{µ \\cos{\\left(t_{1} \\right)} + \\sin{\\left(t_{1} \\right)}}, \\  F_{n} : \\frac{F_{a} \\cos{\\left(t_{1} \\right)}}{µ \\cos{\\left(t_{1} \\right)} + \\sin{\\left(t_{1} \\right)}}\\right\\}$"
      ],
      "text/plain": [
       "⎧           Fₐ⋅sin(t₁)                 Fₐ⋅µ⋅cos(t₁)              Fₐ⋅cos(t₁)    ↪\n",
       "⎨F_L_y: ───────────────────, F_R_y: ───────────────────, Fₙ: ───────────────── ↪\n",
       "⎩       µ⋅cos(t₁) + sin(t₁)         µ⋅cos(t₁) + sin(t₁)      µ⋅cos(t₁) + sin(t ↪\n",
       "\n",
       "↪   ⎫\n",
       "↪ ──⎬\n",
       "↪ ₁)⎭"
      ]
     },
     "execution_count": 2,
     "metadata": {},
     "output_type": "execute_result"
    }
   ],
   "source": [
    "# Solve the system of equations\n",
    "solution = sp.solve([eq1, eq2, eq3], (F_L_y, F_R_y, F_n))\n",
    "\n",
    "solution"
   ]
  },
  {
   "cell_type": "code",
   "execution_count": 3,
   "metadata": {
    "trusted": true
   },
   "outputs": [
    {
     "data": {
      "image/png": "[encoded data removed]",
      "text/latex": [
       "$\\displaystyle F_{a}$"
      ],
      "text/plain": [
       "Fₐ"
      ]
     },
     "execution_count": 3,
     "metadata": {},
     "output_type": "execute_result"
    }
   ],
   "source": [
    "F_n_solution = solution[F_n]\n",
    "F_L_y_solution = solution[F_L_y]\n",
    "F_R_y_solution = solution[F_R_y]\n",
    "sp.simplify(F_R_y_solution + F_L_y_solution) # check force balance in vertical direction.\n"
   ]
  },
  {
   "cell_type": "code",
   "execution_count": 4,
   "metadata": {
    "trusted": true
   },
   "outputs": [
    {
     "data": {
      "image/png": "[encoded data removed]",
      "text/latex": [
       "$\\displaystyle \\frac{\\cos{\\left(t_{1} \\right)}}{µ \\cos{\\left(t_{1} \\right)} + \\sin{\\left(t_{1} \\right)}}$"
      ],
      "text/plain": [
       "      cos(t₁)      \n",
       "───────────────────\n",
       "µ⋅cos(t₁) + sin(t₁)"
      ]
     },
     "execution_count": 4,
     "metadata": {},
     "output_type": "execute_result"
    }
   ],
   "source": [
    "# force multiplier\n",
    "F_mult = F_n_solution / F_a\n",
    "F_mult"
   ]
  },
  {
   "cell_type": "code",
   "execution_count": 10,
   "metadata": {
    "trusted": true
   },
   "outputs": [
    {
     "data": {
      "image/png": "[encoded data removed]",
      "text/latex": [
       "$\\displaystyle \\tan{\\left(t_{1} \\right)}$"
      ],
      "text/plain": [
       "tan(t₁)"
      ]
     },
     "execution_count": 10,
     "metadata": {},
     "output_type": "execute_result"
    }
   ],
   "source": [
    "# apparent coeff. of friction on left/right side:\n",
    "mu_l = sp.simplify(F_L_y_solution / F_n_solution)\n",
    "mu_l"
   ]
  },
  {
   "cell_type": "markdown",
   "metadata": {},
   "source": [
    "### Test particular values for $\\theta_1, \\theta_2, r_1, r_2, \\mu$\n",
    "\n",
    "(It seems the coeff. of friction for aluminum on granite is somewhere between 0.4 and 0.6 can anyone confirm?)"
   ]
  },
  {
   "cell_type": "code",
   "execution_count": 6,
   "metadata": {
    "trusted": true
   },
   "outputs": [],
   "source": [
    "th1_val = np.round(np.radians(10), 3) # 10 degrees\n",
    "th2_val = np.round(np.radians(60), 3) # 60 degrees \n",
    "subs_dict = {theta1: th1_val, theta2: th2_val, mu: 0.5, F_a:12, r1:2, r2:3}"
   ]
  },
  {
   "cell_type": "code",
   "execution_count": 7,
   "metadata": {
    "trusted": true
   },
   "outputs": [
    {
     "data": {
      "image/png": "[encoded data removed]",
      "text/latex": [
       "$\\displaystyle \\left\\{ F_{a} : 12, \\  r_{1} : 2, \\  r_{2} : 3, \\  t_{1} : 0.175, \\  t_{2} : 1.047, \\  µ : 0.5\\right\\}$"
      ],
      "text/plain": [
       "{Fₐ: 12, r₁: 2, r₂: 3, t₁: 0.175, t₂: 1.047, µ: 0.5}"
      ]
     },
     "metadata": {},
     "output_type": "display_data"
    }
   ],
   "source": [
    "display(subs_dict)"
   ]
  },
  {
   "cell_type": "code",
   "execution_count": 8,
   "metadata": {
    "trusted": true
   },
   "outputs": [
    {
     "data": {
      "image/png": "[encoded data removed]",
      "text/plain": [
       "<Figure size 640x480 with 1 Axes>"
      ]
     },
     "metadata": {},
     "output_type": "display_data"
    }
   ],
   "source": [
    "draw_triangle(subs_dict[r1], subs_dict[theta1], subs_dict[r2], subs_dict[theta2])"
   ]
  },
  {
   "cell_type": "code",
   "execution_count": 11,
   "metadata": {
    "trusted": true
   },
   "outputs": [
    {
     "data": {
      "text/latex": [
       "$\\displaystyle \n",
       "F_{Ly} = 3.13, \\quad \n",
       "F_{Ry} = 8.87, \\quad \n",
       "F_n = 17.73, \\quad\n",
       "F_{\\text{mult}} = 1.48, \\quad\n",
       "\\mu_l = 0.18\n",
       "$"
      ],
      "text/plain": [
       "<IPython.core.display.Math object>"
      ]
     },
     "metadata": {},
     "output_type": "display_data"
    }
   ],
   "source": [
    "from IPython.display import display, Math\n",
    "\n",
    "F_L_y_val = float(solution[F_L_y].subs(subs_dict).evalf())\n",
    "F_R_y_val = float(solution[F_R_y].subs(subs_dict).evalf())\n",
    "F_n_val =  float(solution[F_n].subs(subs_dict).evalf())\n",
    "F_mult_val = float(F_mult.subs(subs_dict).evalf())\n",
    "mu_l_val = float(mu_l.subs(subs_dict).evalf())\n",
    "\n",
    "latex_str = fr\"\"\"\n",
    "F_{{Ly}} = {F_L_y_val:.2f}, \\quad \n",
    "F_{{Ry}} = {F_R_y_val:.2f}, \\quad \n",
    "F_n = {F_n_val:.2f}, \\quad\n",
    "F_{{\\text{{mult}}}} = {F_mult_val:.2f}, \\quad\n",
    "\\mu_l = {mu_l_val:.2f}\n",
    "\"\"\"\n",
    "display(Math(latex_str))"
   ]
  },
  {
   "cell_type": "markdown",
   "metadata": {},
   "source": [
    "- **Note this gives a force multiplier of 1.32 compared to 2 for a SLCD** \n",
    "\n",
    "- *However, the geometry of this triangle does not match exactly a tricam, and there are some subtleties in the way the cam strap acts on the device. I have found that for a variety of triangle geometries the outward force multiplier appears to be consistently less than 2*."
   ]
  },
  {
   "cell_type": "markdown",
   "metadata": {},
   "source": [
    "### Right side force explorations\n",
    "Find the angle that bisects the angle of the triangle that is in contact with the right side. Use this as the force direction. The idea is that the force will somehow balance between the angles. This is not justified by anything. Just curious to see what results it gives. "
   ]
  },
  {
   "cell_type": "code",
   "execution_count": 11,
   "metadata": {
    "trusted": true
   },
   "outputs": [
    {
     "name": "stdout",
     "output_type": "stream",
     "text": [
      "right side angle: 91.7305430004448\n",
      "split force angle: beta = 55.89203291501181\n",
      "force decomposition: F_R,y / F_R,x = tan(beta)) = 1.4765515236828177\n",
      "implies µ_r = F_R,x / F_R,y = 1/tan(beta) = 0.6772537117470835\n"
     ]
    }
   ],
   "source": [
    "angles_rad, _ = calculate_triangle_angles(subs_dict[r1], subs_dict[theta1], subs_dict[r2], subs_dict[theta2])\n",
    "angle_right_side = angles_rad[1]\n",
    "\n",
    "print(f\"right side angle: {np.rad2deg(angle_right_side)}\")\n",
    "\n",
    "beta = subs_dict[theta1] + angle_right_side / 2\n",
    "split_force_decomp = np.tan(beta)\n",
    "mu_split_force = 1 / split_force_decomp\n",
    "print(f\"split force angle: beta = {np.rad2deg(beta)}\")\n",
    "print(f\"force decomposition: F_R,y / F_R,x = tan(beta)) = {split_force_decomp}\")\n",
    "print(f\"implies µ_r = F_R,x / F_R,y = 1/tan(beta) = {mu_split_force}\")"
   ]
  },
  {
   "cell_type": "code",
   "execution_count": 12,
   "metadata": {
    "trusted": true
   },
   "outputs": [
    {
     "data": {
      "image/png": "[encoded data removed]",
      "text/latex": [
       "$\\displaystyle 0.175$"
      ],
      "text/plain": [
       "0.175"
      ]
     },
     "execution_count": 12,
     "metadata": {},
     "output_type": "execute_result"
    }
   ],
   "source": [
    "subs_dict[theta1]"
   ]
  },
  {
   "cell_type": "code",
   "execution_count": 13,
   "metadata": {
    "trusted": true
   },
   "outputs": [
    {
     "data": {
      "image/png": "[encoded data removed]",
      "text/latex": [
       "$\\displaystyle 1.601$"
      ],
      "text/plain": [
       "1.601"
      ]
     },
     "execution_count": 13,
     "metadata": {},
     "output_type": "execute_result"
    }
   ],
   "source": [
    "angle_right_side"
   ]
  },
  {
   "cell_type": "code",
   "execution_count": 14,
   "metadata": {
    "trusted": true
   },
   "outputs": [],
   "source": [
    "def calculate_triangle_angles(r1, theta1, r2, theta2, decimals=3):\n",
    "    \"\"\"\n",
    "    Calculate the angles of the triangle formed by two vectors (r1, theta1) and (r2, theta2)\n",
    "    with a third side connecting the endpoints of the vectors.\n",
    "    \n",
    "    Parameters:\n",
    "    r1 (float): Magnitude of the first vector.\n",
    "    theta1 (float): Angle of the first vector in radians.\n",
    "    r2 (float): Magnitude of the second vector.\n",
    "    theta2 (float): Angle of the second vector in radians.\n",
    "    decimals (int): Number of decimal places to round the results to.\n",
    "    \n",
    "    Returns:\n",
    "    tuple: Two numpy arrays containing the angles of the triangle, \n",
    "           one in radians and the other in degrees, rounded to the specified decimal places.\n",
    "    \"\"\"\n",
    "    # Convert the vectors from polar to Cartesian coordinates\n",
    "    x1, y1 = r1 * np.cos(theta1), r1 * np.sin(theta1)\n",
    "    x2, y2 = r2 * np.cos(theta2), r2 * np.sin(theta2)\n",
    "    \n",
    "    print(f\"x1 = {x1}, y1 = {y1}\")\n",
    "    print(f\"x2 = {x2}, y2 = {y2}\")\n",
    "    \n",
    "    # Calculate the angle at the origin\n",
    "    angle_A = abs(theta2 - theta1)\n",
    "    \n",
    "    # Calculate the vector from the endpoint of the first vector to the endpoint of the second vector\n",
    "    x3, y3 = x2 - x1, y2 - y1\n",
    "    \n",
    "    print(f\"x3 = {x3}, y3 = {y3}\")\n",
    "    # Calculate the angle of this new vector using absolute values of x3, y3.\n",
    "    theta3 = np.arctan2(abs(y3), abs(x3))\n",
    "    \n",
    "    # Calculate the other two angles\n",
    "    angle_B = abs(theta1 - theta3)\n",
    "    angle_C = abs(theta2 - theta3)\n",
    "    \n",
    "    # Ensure the angles are within the correct range\n",
    "    angle_A = angle_A % (2 * np.pi)\n",
    "    angle_B = angle_B % (2 * np.pi)\n",
    "    angle_C = angle_C % (2 * np.pi)\n",
    "    \n",
    "    # Create numpy arrays for the angles in radians and degrees\n",
    "    angles_radians = np.array([angle_A, angle_B, angle_C])\n",
    "    angles_degrees = np.degrees(angles_radians)\n",
    "    \n",
    "    # Round the results to the specified number of decimal places\n",
    "    angles_radians_rounded = np.round(angles_radians, decimals=decimals)\n",
    "    angles_degrees_rounded = np.round(angles_degrees, decimals=decimals)\n",
    "    \n",
    "    return angles_radians_rounded, angles_degrees_rounded\n"
   ]
  },
  {
   "cell_type": "code",
   "execution_count": 15,
   "metadata": {
    "trusted": true
   },
   "outputs": [
    {
     "data": {
      "image/png": "[encoded data removed]",
      "text/latex": [
       "$\\displaystyle \\left\\{ F_{a} : 12, \\  r_{1} : 2, \\  r_{2} : 3, \\  t_{1} : 0.175, \\  t_{2} : 1.047, \\  µ : 0.5\\right\\}$"
      ],
      "text/plain": [
       "{Fₐ: 12, r₁: 2, r₂: 3, t₁: 0.175, t₂: 1.047, µ: 0.5}"
      ]
     },
     "metadata": {},
     "output_type": "display_data"
    }
   ],
   "source": [
    "display(subs_dict)"
   ]
  },
  {
   "cell_type": "code",
   "execution_count": 16,
   "metadata": {
    "trusted": true
   },
   "outputs": [
    {
     "name": "stdout",
     "output_type": "stream",
     "text": [
      "x1 = 1.969453077809867, y1 = 0.3482162751871919\n",
      "x2 = 1.5005132237912102, y2 = 2.597779833863468\n",
      "x3 = -0.4689398540186567, y3 = 2.249563558676276\n"
     ]
    }
   ],
   "source": [
    "_, angles_deg = calculate_triangle_angles(subs_dict[r1], subs_dict[theta1], subs_dict[r2], subs_dict[theta2])"
   ]
  },
  {
   "cell_type": "code",
   "execution_count": 17,
   "metadata": {
    "trusted": true
   },
   "outputs": [
    {
     "data": {
      "text/plain": [
       "array([49.962, 68.198, 18.236])"
      ]
     },
     "execution_count": 17,
     "metadata": {},
     "output_type": "execute_result"
    }
   ],
   "source": [
    "angles_deg"
   ]
  },
  {
   "cell_type": "code",
   "execution_count": 18,
   "metadata": {
    "trusted": true
   },
   "outputs": [
    {
     "data": {
      "image/png": "[encoded data removed]",
      "text/latex": [
       "$\\displaystyle \\frac{- r_{1} \\sin{\\left(t_{1} \\right)} + r_{2} µ \\cos{\\left(t_{2} \\right)}}{r_{1} \\cos{\\left(t_{1} \\right)} - r_{2} \\cos{\\left(t_{2} \\right)}}$"
      ],
      "text/plain": [
       "-r₁⋅sin(t₁) + r₂⋅µ⋅cos(t₂)\n",
       "──────────────────────────\n",
       " r₁⋅cos(t₁) - r₂⋅cos(t₂)  "
      ]
     },
     "execution_count": 18,
     "metadata": {},
     "output_type": "execute_result"
    }
   ],
   "source": [
    "mu_l"
   ]
  },
  {
   "cell_type": "code",
   "execution_count": 19,
   "metadata": {
    "trusted": true
   },
   "outputs": [
    {
     "data": {
      "image/png": "[encoded data removed]",
      "text/latex": [
       "$\\displaystyle \\frac{3 m \\cos{\\left(a + t_{1} \\right)} - 2 \\sin{\\left(t_{1} \\right)}}{2 \\cos{\\left(t_{1} \\right)} - 3 \\cos{\\left(a + t_{1} \\right)}}$"
      ],
      "text/plain": [
       "3⋅m⋅cos(a + t₁) - 2⋅sin(t₁)\n",
       "───────────────────────────\n",
       " 2⋅cos(t₁) - 3⋅cos(a + t₁) "
      ]
     },
     "execution_count": 19,
     "metadata": {},
     "output_type": "execute_result"
    }
   ],
   "source": [
    "r1_val = 2\n",
    "r2_val = 3\n",
    "alpha, m = sp.symbols(\"a m\")\n",
    "mu_l_fcn = mu_l.subs({r1:r1_val, r2:r2_val, mu:m, theta2:(theta1 + alpha)})\n",
    "mu_l_fcn"
   ]
  },
  {
   "cell_type": "code",
   "execution_count": 20,
   "metadata": {
    "trusted": true
   },
   "outputs": [
    {
     "data": {
      "image/png": "[encoded data removed]",
      "text/plain": [
       "<Figure size 640x480 with 1 Axes>"
      ]
     },
     "metadata": {},
     "output_type": "display_data"
    },
    {
     "name": "stdout",
     "output_type": "stream",
     "text": [
      "a_val = 0.85\n"
     ]
    }
   ],
   "source": [
    "a_val = 0.85#np.round(np.radians(50), 3)\n",
    "t_val = np.radians(0)\n",
    "draw_triangle(r1_val, t_val, r2_val, a_val)\n",
    "print(f\"a_val = {a_val}\")"
   ]
  },
  {
   "cell_type": "code",
   "execution_count": 23,
   "metadata": {
    "trusted": true
   },
   "outputs": [
    {
     "data": {
      "image/png": "[encoded data removed]",
      "text/plain": [
       "<Figure size 800x600 with 2 Axes>"
      ]
     },
     "metadata": {},
     "output_type": "display_data"
    }
   ],
   "source": [
    "plot_sympy_expression(mu_l_fcn, m, theta1, (0, 0.6), (np.radians(5), np.radians(20)), {alpha:0.85}, below=0.5)"
   ]
  },
  {
   "cell_type": "markdown",
   "metadata": {},
   "source": [
    "## Hertzian Contact Code\n",
    "\n",
    "This section calculates and visualizes the **contact area** and **pressure distribution** for a **cylindrical section** (representing the vertex of a triangular wedge) in contact with a **flat surface**. The code is based on **Hertzian contact theory**, specifically for the case of a **cylinder-flat contact**.\n",
    "\n",
    "## Key Variables and Assumptions\n",
    "- **$R$**: Radius of curvature of the cylindrical section.\n",
    "- **$L$**: Length (or height) of the cylindrical section in the $z$-direction.\n",
    "- **$F_n$**: Normal force applied to the body in newtons.\n",
    "- **$E_{\\text{Al}}$, $\\nu_{\\text{Al}}$**: Young's modulus and Poisson's ratio for aluminum.\n",
    "- **$E_{\\text{Granite}}$, $\\nu_{\\text{Granite}}$**: Young's modulus and Poisson's ratio for granite.\n",
    "- **$E^*$**: The **effective modulus**, which accounts for the elastic properties of both materials.\n",
    "\n",
    "## Steps in the Code\n",
    "\n",
    "### 1. **Effective Modulus Calculation**\n",
    "The **effective modulus** $E^*$ is computed as:\n",
    "\n",
    "$\n",
    "\\frac{1}{E^*} = \\frac{1 - \\nu_{\\text{Al}}^2}{E_{\\text{Al}}} + \\frac{1 - \\nu_{\\text{Granite}}^2}{E_{\\text{Granite}}}\n",
    "$\n",
    "\n",
    "This accounts for the elasticity of both the aluminum (triangle) and granite (flat surface).\n",
    "\n",
    "### 2. **Contact Width Calculation**\n",
    "The **half-width** of the contact area $a$ is computed using the formula:\n",
    "\n",
    "$\n",
    "a = \\sqrt{\\frac{2 F_n R}{\\pi L E^*}}\n",
    "$\n",
    "\n",
    "This gives the distance from the center of the contact area to the edge in the plane perpendicular to the cylindrical section.\n",
    "\n",
    "### 3. **Maximum Pressure Calculation**\n",
    "The **maximum pressure** at the center of the contact area, $p_0$, is given by:\n",
    "\n",
    "$\n",
    "p_0 = \\frac{2 F_n}{\\pi a L}\n",
    "$\n",
    "\n",
    "### 4. **Pressure Distribution**\n",
    "The **pressure distribution** across the contact area is calculated using:\n",
    "\n",
    "$\n",
    "p(x) = p_0 \\left(1 - \\frac{x^2}{a^2}\\right)^{1/2}\n",
    "$\n",
    "\n",
    "Where $x$ is the distance from the center of the contact area, and $p(x)$ is the pressure at that point.\n",
    "\n",
    "### 5. **Visualization**\n",
    "The contact pressure $p(x)$ is plotted over the contact width $[-a, a]$, showing how the pressure is highest at the center and decreases toward the edges.\n",
    "\n",
    "## Output\n",
    "- The script prints the **contact half-width** $a$ and the **maximum pressure** $p_0$.\n",
    "- It generates a plot of the **pressure distribution** across the contact area.\n"
   ]
  },
  {
   "cell_type": "code",
   "execution_count": 24,
   "metadata": {
    "trusted": true
   },
   "outputs": [
    {
     "data": {
      "image/png": "[encoded data removed]",
      "text/plain": [
       "<Figure size 800x600 with 1 Axes>"
      ]
     },
     "metadata": {},
     "output_type": "display_data"
    },
    {
     "name": "stdout",
     "output_type": "stream",
     "text": [
      "Contact half-width a: 0.0087 mm\n",
      "Maximum contact pressure p_0: 11.6616 MPa\n"
     ]
    }
   ],
   "source": [
    "import numpy as np\n",
    "import matplotlib.pyplot as plt\n",
    "\n",
    "# Constants for the problem\n",
    "R = 25 * 1e-3  # Radius of curvature in meters (from mm)\n",
    "L = 2.5 * 1e-2  # Length/height of the cylindrical section in meters (from cm)\n",
    "F_n = 4  # Normal force in Newtons (adjustable)\n",
    "\n",
    "# Material properties\n",
    "E_Al = 69e9  # Young's modulus for aluminum in Pa\n",
    "nu_Al = 0.33  # Poisson's ratio for aluminum\n",
    "E_Granite = 55e9  # Young's modulus for granite in Pa\n",
    "nu_Granite = 0.25  # Poisson's ratio for granite\n",
    "\n",
    "# Effective modulus calculation\n",
    "E_star = 1 / ((1 - nu_Al**2) / E_Al + (1 - nu_Granite**2) / E_Granite)\n",
    "\n",
    "# Contact width calculation (half-width a)\n",
    "a = np.sqrt((2 * F_n * R) / (np.pi * L * E_star))\n",
    "\n",
    "# Maximum pressure calculation\n",
    "p_0 = (2 * F_n) / (np.pi * a * L)\n",
    "\n",
    "# Generate x values for pressure distribution across contact width [-a, a]\n",
    "x_vals = np.linspace(-a, a, 500)\n",
    "\n",
    "# Pressure distribution across the contact width\n",
    "p_x = p_0 * np.sqrt(1 - (x_vals / a)**2)\n",
    "\n",
    "# Plotting the pressure distribution\n",
    "plt.figure(figsize=(8, 6))\n",
    "plt.plot(x_vals * 1e3, p_x * 1e-6, label='Pressure Distribution $p(x)$', color='b')\n",
    "plt.xlabel('Distance from Center of Contact (mm)')\n",
    "plt.ylabel('Contact Pressure (MPa)')\n",
    "plt.title('Contact Pressure Distribution Along Contact Width')\n",
    "plt.grid(True)\n",
    "plt.legend()\n",
    "plt.show()\n",
    "\n",
    "# Print contact width and maximum pressure\n",
    "print(f\"Contact half-width a: {a * 1e3:.4f} mm\")\n",
    "print(f\"Maximum contact pressure p_0: {p_0 * 1e-6:.4f} MPa\")\n"
   ]
  },
  {
   "cell_type": "code",
   "execution_count": 29,
   "metadata": {
    "trusted": true
   },
   "outputs": [
    {
     "data": {
      "image/png": "[encoded data removed]",
      "text/latex": [
       "$\\displaystyle \\left\\{ F_{a} : 12, \\  r_{1} : 2, \\  r_{2} : 3, \\  t_{1} : 0.175, \\  t_{2} : 1.047, \\  µ : 0.5\\right\\}$"
      ],
      "text/plain": [
       "{Fₐ: 12, r₁: 2, r₂: 3, t₁: 0.175, t₂: 1.047, µ: 0.5}"
      ]
     },
     "execution_count": 29,
     "metadata": {},
     "output_type": "execute_result"
    }
   ],
   "source": [
    "subs_dict"
   ]
  },
  {
   "cell_type": "code",
   "execution_count": 27,
   "metadata": {
    "trusted": true
   },
   "outputs": [],
   "source": [
    "import numpy as np\n",
    "import scipy.optimize as opt\n",
    "\n",
    "# Define parameters\n",
    "F_a_val = subs_dict[F_a]  # Applied vertical force (N)\n",
    "mu_L_val = subs_dict[mu]  # Coefficient of friction on the left side\n",
    "mu_R_val = subs_dict[mu]  # Coefficient of friction on the right side\n",
    "\n",
    "# Convert polar coordinates to Cartesian\n",
    "def polar_to_cartesian(r, alpha):\n",
    "    return np.array([r * np.cos(alpha), r * np.sin(alpha)])\n",
    "\n",
    "r1_val = subs_dict[r1]\n",
    "r2_val = subs_dict[r2]\n",
    "theta1_val = subs_dict[theta1]\n",
    "theta2_val = subs_dict[theta2]\n",
    "\n",
    "# v1_cartesian = polar_to_cartesian(r1, theta1_val)\n",
    "# v2_cartesian = polar_to_cartesian(r2, theta2_val)\n",
    "\n",
    "# Reaction force direction based on normal and friction forces\n",
    "def reaction_force_angle(F_R_x, F_R_y):\n",
    "    return np.arctan2(F_R_y, F_R_x)  # Angle of the total reaction force\n",
    "\n",
    "# Deflection calculation based on normal force\n",
    "def deflection(F_R_x, F_R_y, R, L, E_star):\n",
    "    # Calculate the normal force F_n\n",
    "    F_n = np.sqrt(F_R_x**2 + F_R_y**2)\n",
    "    \n",
    "    # Calculate the contact half-width a\n",
    "    a = np.sqrt((2 * F_n * R) / (np.pi * L * E_star))\n",
    "    \n",
    "    # Compute the deflection delta\n",
    "    delta = F_n * R / (2 * a * L * E_star)\n",
    "    \n",
    "    return delta\n",
    "\n",
    "# Force balance equations\n",
    "def force_balance(F_R_x, F_R_y, F_L_y, F_a, mu_L, mu_R):\n",
    "    # Vertical force balance: F_a = F_L_y + F_R_y\n",
    "    vertical_balance = F_L_y + F_R_y - F_a_val\n",
    "    \n",
    "    # Horizontal force balance: Normal forces must balance horizontally\n",
    "    # Normal force on left side is is F_L_x. \n",
    "    # Coefficient of friction governs normal force as a function of vertical force:\n",
    "    # F_L_y = mu_L * F_L_x => F_L_x = F_L_y / mu_L\n",
    "    F_L_x = F_L_y / mu_L \n",
    "    horizontal_balance = F_L_x - F_R_x  # F_R_x is the normal force on the right\n",
    "    \n",
    "    return horizontal_balance, vertical_balance #, horizontal_balance\n",
    "\n",
    "# Moment balance around the left side (origin)\n",
    "def moment_balance(F_R_y, F_R_x, r1, r2, alpha1, alpha2, alpha_comp, R, L, E_star):\n",
    "    # r1 and r2 are the distances from the pivot to the contact points\n",
    "    # Compute lever arms (distances)    \n",
    "    \n",
    "    delta = deflection(F_R_x, F_R_y, R, L, E_star)\n",
    "    delta_along_v1 = delta * (np.cos(alpha_comp) * np.cos(alpha1) + np.sin(alpha_comp) * np.sin(alpha1))\n",
    "\n",
    "    # Perpendicular distance from F_R to pivot, taking into account compression\n",
    "    lever_arm_R = r1 - delta_along_v1\n",
    "    lever_arm_F_a = r2  # Lever arm for the applied force F_a\n",
    "    \n",
    "    # Moment balance: moment from F_R should balance the moment from F_a\n",
    "    moment_R = lever_arm_R * (F_R_x * np.sin(alpha1) + F_R_y * np.cos(alpha1))\n",
    "    moment_a = lever_arm_F_a * F_a_val * np.cos(alpha2)   \n",
    "    moment = moment_a - moment_R\n",
    "    print(f\"  Delta along v1 or right lever arm = {delta_along_v1}\")\n",
    "    print(f\"  Moment equation = {moment_a} - {moment_R}\")\n",
    "    print(f\"  Adjusted lever arm = {lever_arm_R}\")\n",
    "    \n",
    "    return moment\n",
    "\n",
    "# Function to solve system of equations\n",
    "def equations(variables):\n",
    "    F_R_x, F_R_y, F_L_y = variables\n",
    "    \n",
    "    # Calculate the total reaction force angle based on components\n",
    "    alpha_comp = reaction_force_angle(F_R_x, F_R_y)\n",
    "    \n",
    "    # Get force balance equations\n",
    "    horizontal_balance, vertical_balance = force_balance(F_R_x, F_R_y, F_L_y, F_a, mu_L_val, mu_R_val)\n",
    "    \n",
    "    # Get moment balance equation\n",
    "    moment_eq = moment_balance(F_R_y, F_R_x, r1_val, r2_val, theta1_val, theta2_val, alpha_comp, R, L, E_star)\n",
    "    \n",
    "    # Track values during iterations\n",
    "    print(f\"Iteration:\")\n",
    "    print(f\"  F_R_x = {F_R_x}, F_R_y = {F_R_y}, F_L_y = {F_L_y}\")\n",
    "    print(f\"  Vertical balance = {vertical_balance}\")\n",
    "    \n",
    "    return [horizontal_balance, vertical_balance, moment_eq]"
   ]
  },
  {
   "cell_type": "code",
   "execution_count": 28,
   "metadata": {
    "trusted": true
   },
   "outputs": [
    {
     "name": "stdout",
     "output_type": "stream",
     "text": [
      "  Delta along v1 or right lever arm = 8.187288121333203e-06\n",
      "  Moment equation = 18.006158685494523 - 13.905959191702065\n",
      "  Adjusted lever arm = 1.9999918127118788\n",
      "Iteration:\n",
      "  F_R_x = 6.0, F_R_y = 6.0, F_L_y = 6.0\n",
      "  Vertical balance = 0.0\n",
      "  Delta along v1 or right lever arm = 8.187288121333203e-06\n",
      "  Moment equation = 18.006158685494523 - 13.905959191702065\n",
      "  Adjusted lever arm = 1.9999918127118788\n",
      "Iteration:\n",
      "  F_R_x = 6.0, F_R_y = 6.0, F_L_y = 6.0\n",
      "  Vertical balance = 0.0\n",
      "  Delta along v1 or right lever arm = 8.187288121333203e-06\n",
      "  Moment equation = 18.006158685494523 - 13.905959191702065\n",
      "  Adjusted lever arm = 1.9999918127118788\n",
      "Iteration:\n",
      "  F_R_x = 6.0, F_R_y = 6.0, F_L_y = 6.0\n",
      "  Vertical balance = 0.0\n",
      "  Delta along v1 or right lever arm = 8.187288194503475e-06\n",
      "  Moment equation = 18.006158685494523 - 13.905959222834388\n",
      "  Adjusted lever arm = 1.9999918127118055\n",
      "Iteration:\n",
      "  F_R_x = 6.000000089406967, F_R_y = 6.0, F_L_y = 6.0\n",
      "  Vertical balance = 0.0\n",
      "  Delta along v1 or right lever arm = 8.187288109162981e-06\n",
      "  Moment equation = 18.006158685494523 - 13.905959367784252\n",
      "  Adjusted lever arm = 1.9999918127118907\n",
      "Iteration:\n",
      "  F_R_x = 6.0, F_R_y = 6.000000089406967, F_L_y = 6.0\n",
      "  Vertical balance = 8.940696716308594e-08\n",
      "  Delta along v1 or right lever arm = 8.187288121333203e-06\n",
      "  Moment equation = 18.006158685494523 - 13.905959191702065\n",
      "  Adjusted lever arm = 1.9999918127118788\n",
      "Iteration:\n",
      "  F_R_x = 6.0, F_R_y = 6.0, F_L_y = 6.000000089406967\n",
      "  Vertical balance = 8.940696716308594e-08\n",
      "  Delta along v1 or right lever arm = 1.0076913637467085e-05\n",
      "  Moment equation = 18.006158685494523 - 18.006156449919924\n",
      "  Adjusted lever arm = 1.9999899230863625\n",
      "Iteration:\n",
      "  F_R_x = 8.840689743548069, F_R_y = 7.579655128232511, F_L_y = 4.420344871767491\n",
      "  Vertical balance = 1.7763568394002505e-15\n",
      "  Delta along v1 or right lever arm = 1.007691112751969e-05\n",
      "  Moment equation = 18.006158685494523 - 18.006158685494448\n",
      "  Adjusted lever arm = 1.9999899230888725\n",
      "Iteration:\n",
      "  F_R_x = 8.840686231309219, F_R_y = 7.579656884345391, F_L_y = 4.420343115654609\n",
      "  Vertical balance = 0.0\n",
      "  Delta along v1 or right lever arm = 1.0076911127519606e-05\n",
      "  Moment equation = 18.006158685494523 - 18.006158685494523\n",
      "  Adjusted lever arm = 1.9999899230888725\n",
      "Iteration:\n",
      "  F_R_x = 8.840686231309101, F_R_y = 7.579656884345449, F_L_y = 4.420343115654551\n",
      "  Vertical balance = 0.0\n",
      "Solution for forces: F_n = 8.84 N, F_R_y = 7.58 N, F_L_y = 4.42 N\n",
      "Final compression direction (deflection angle): 40.6085 degrees\n",
      "required coefficient 0.8573606941848311\n"
     ]
    }
   ],
   "source": [
    "# Initial guesses for F_R_x, F_R_y\n",
    "initial_guess = [F_a_val / 2, F_a_val / 2, F_a_val / 2]\n",
    "\n",
    "# Solve the system of equations\n",
    "solution = opt.fsolve(equations, initial_guess)\n",
    "F_R_x_sol, F_R_y_sol, F_L_y_sol = solution\n",
    "\n",
    "# Output results\n",
    "print(f\"Solution for forces: F_n = {F_R_x_sol:.2f} N, F_R_y = {F_R_y_sol:.2f} N, F_L_y = {F_L_y_sol:.2f} N\")\n",
    "\n",
    "# Calculate the final angle of deflection based on forces\n",
    "alpha_compression_final = np.rad2deg(reaction_force_angle(F_R_x_sol, F_R_y_sol))\n",
    "print(f\"Final compression direction (deflection angle): {alpha_compression_final:.4f} degrees\")\n",
    "print(f\"required coefficient {F_R_y_sol / F_R_x_sol}\")"
   ]
  },
  {
   "cell_type": "code",
   "execution_count": 30,
   "metadata": {
    "trusted": true
   },
   "outputs": [
    {
     "name": "stdout",
     "output_type": "stream",
     "text": [
      "  Delta along v1 or right lever arm = 8.187288121333203e-06\n",
      "  Moment equation = 18.006158685494523 - 13.905959191702065\n",
      "  Adjusted lever arm = 1.9999918127118788\n",
      "Iteration:\n",
      "  F_R_x = 6.0, F_R_y = 6.0, F_L_y = 6.0\n",
      "  Vertical balance = 0.0\n",
      "  Horizontal balance = 6.0\n"
     ]
    },
    {
     "data": {
      "image/png": "[encoded data removed]",
      "text/latex": [
       "$\\displaystyle \\left[ 0.0, \\  6.0, \\  4.10019949379246\\right]$"
      ],
      "text/plain": [
       "[0.0, 6.0, 4.1001994937924575]"
      ]
     },
     "execution_count": 30,
     "metadata": {},
     "output_type": "execute_result"
    }
   ],
   "source": [
    "equations([F_a_val/2, F_a_val/2, F_a_val/2])"
   ]
  },
  {
   "cell_type": "code",
   "execution_count": 41,
   "metadata": {
    "trusted": true
   },
   "outputs": [
    {
     "data": {
      "image/png": "[encoded data removed]",
      "text/latex": [
       "$\\displaystyle 0.025$"
      ],
      "text/plain": [
       "0.025"
      ]
     },
     "execution_count": 41,
     "metadata": {},
     "output_type": "execute_result"
    }
   ],
   "source": [
    "R"
   ]
  },
  {
   "cell_type": "code",
   "execution_count": null,
   "metadata": {
    "trusted": true
   },
   "outputs": [],
   "source": []
  }
 ],
 "metadata": {
  "kernelspec": {
   "display_name": "Python 3",
   "language": "python",
   "name": "python3"
  },
  "language_info": {
   "codemirror_mode": {
    "name": "ipython",
    "version": 3
   },
   "file_extension": ".py",
   "mimetype": "text/x-python",
   "name": "python",
   "nbconvert_exporter": "python",
   "pygments_lexer": "ipython3",
   "version": "3.12.5"
  }
 },
 "nbformat": 4,
 "nbformat_minor": 2
}
