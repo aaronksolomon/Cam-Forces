{
 "cells": [
  {
   "cell_type": "markdown",
   "metadata": {},
   "source": [
    "## Forces for a triangluar camming device\n",
    "\n",
    "Approximation of a Tricam. \n",
    "\n",
    "It is simplest to start modeling the tricam as a triangle with the force applied straight down from the top. It's not clear that this simplification is warranted, but it gives a chance to get some results for a similar shaped object and similar mode of camming.\n",
    "\n",
    "Unlike the SLCD in symmetric placement, because of the lack of symmetry, we have an underconstrained system (thanks to @ for pointing this out).\n",
    "\n",
    "In order to give the simplified rigid body FBD enough constraints to be solved, a coefficient of friction $\\mu$ on the right side to relate $F_n$ and $F_{R,y}$. \n",
    "\n",
    "$\n",
    "F_{R,y} = \\mu F_n\n",
    "$ \n",
    "\n",
    "It's not clear that this choice is entirely warranted either, though it allows the calculation to proceed. Another approach would be to fix the reactive force from the right wall to be normal to base of the triangle (also not clearly warranted, but interesting). A finite element model of the system with accurate boundary conditions would likely be the way to fully model the system. Anyone have a 3D model of a Tricam?\n",
    "\n",
    "It is assumed that the left side is a fixed pivot point for the initial calculation. After computing the forces, the required \"equivalent\" minimal coefficient of friction $\\mu_l$ for the left side to maintain non-slipping is calculated. We can require $\\mu_l \\leq \\mu$ guaranteeing at least as much frictional force without slipping is available on the left as right."
   ]
  },
  {
   "cell_type": "markdown",
   "metadata": {},
   "source": [
    "<img src=\"triangle_force_diagram.png\" alt=\"Triangular Cam\" width=\"600\"/>"
   ]
  },
  {
   "cell_type": "markdown",
   "metadata": {},
   "source": [
    "### Equation setup in Sympy"
   ]
  },
  {
   "cell_type": "code",
   "execution_count": 21,
   "metadata": {},
   "outputs": [],
   "source": [
    "# Setup for a triangle \n",
    "# Assume left end is a pivot point.\n",
    "# F_L is force on left end. F_R is force on right end.\n",
    "\n",
    "import sympy as sp\n",
    "import numpy as np\n",
    "from sympy import init_printing\n",
    "from IPython.display import display\n",
    "\n",
    "init_printing()\n",
    "\n",
    "# Define the variables\n",
    "F_L_y, F_R_y, F_a = sp.symbols('F_L_y F_R_y F_a')\n",
    "F_n = sp.symbols('F_n')\n",
    "r1, r2, theta1, theta2, mu = sp.symbols('r1 r2 𝜃_1 𝜃_2 µ')\n",
    "\n",
    "# Define the equations\n",
    "eq1 = sp.Eq(F_L_y + F_R_y - F_a, 0) # vertical force balance\n",
    "eq2 = sp.Eq(r1 * F_R_y * sp.cos(theta1) + r1 * F_n * sp.sin(theta1) - r2 * F_a * sp.cos(theta2), 0) # torque balance\n",
    "eq3 = sp.Eq(F_R_y, mu * F_n)  # in order to be able to solve, need an additional contraint. Use friction force."
   ]
  },
  {
   "cell_type": "markdown",
   "metadata": {},
   "source": [
    "### Solution"
   ]
  },
  {
   "cell_type": "code",
   "execution_count": 22,
   "metadata": {},
   "outputs": [
    {
     "data": {
      "image/png": "[encoded data removed]",
      "text/latex": [
       "$\\displaystyle F_{L y} + F_{R y} - F_{a} = 0$"
      ],
      "text/plain": [
       "F_L_y + F_R_y - Fₐ = 0"
      ]
     },
     "metadata": {},
     "output_type": "display_data"
    },
    {
     "data": {
      "image/png": "[encoded data removed]",
      "text/latex": [
       "$\\displaystyle F_{R y} r_{1} \\cos{\\left(𝜃_{1} \\right)} - F_{a} r_{2} \\cos{\\left(𝜃_{2} \\right)} + F_{n} r_{1} \\sin{\\left(𝜃_{1} \\right)} = 0$"
      ],
      "text/plain": [
       "F_R_y⋅r₁⋅cos(𝜃₁) - Fₐ⋅r₂⋅cos(𝜃₂) + Fₙ⋅r₁⋅sin(𝜃₁) = 0"
      ]
     },
     "metadata": {},
     "output_type": "display_data"
    },
    {
     "data": {
      "image/png": "[encoded data removed]",
      "text/latex": [
       "$\\displaystyle F_{R y} = F_{n} µ$"
      ],
      "text/plain": [
       "F_R_y = Fₙ⋅µ"
      ]
     },
     "metadata": {},
     "output_type": "display_data"
    },
    {
     "data": {
      "image/png": "[encoded data removed]",
      "text/latex": [
       "$\\displaystyle \\left\\{ F_{L y} : \\frac{F_{a} r_{1} µ \\cos{\\left(𝜃_{1} \\right)}}{r_{1} µ \\cos{\\left(𝜃_{1} \\right)} + r_{1} \\sin{\\left(𝜃_{1} \\right)}} + \\frac{F_{a} r_{1} \\sin{\\left(𝜃_{1} \\right)}}{r_{1} µ \\cos{\\left(𝜃_{1} \\right)} + r_{1} \\sin{\\left(𝜃_{1} \\right)}} - \\frac{F_{a} r_{2} µ \\cos{\\left(𝜃_{2} \\right)}}{r_{1} µ \\cos{\\left(𝜃_{1} \\right)} + r_{1} \\sin{\\left(𝜃_{1} \\right)}}, \\  F_{R y} : \\frac{F_{a} r_{2} µ \\cos{\\left(𝜃_{2} \\right)}}{r_{1} µ \\cos{\\left(𝜃_{1} \\right)} + r_{1} \\sin{\\left(𝜃_{1} \\right)}}, \\  F_{n} : \\frac{F_{a} r_{2} \\cos{\\left(𝜃_{2} \\right)}}{r_{1} µ \\cos{\\left(𝜃_{1} \\right)} + r_{1} \\sin{\\left(𝜃_{1} \\right)}}\\right\\}$"
      ],
      "text/plain": [
       "⎧            Fₐ⋅r₁⋅µ⋅cos(𝜃₁)              Fₐ⋅r₁⋅sin(𝜃₁)              Fₐ⋅r₂⋅µ⋅c\n",
       "⎨F_L_y: ───────────────────────── + ───────────────────────── - ──────────────\n",
       "⎩       r₁⋅µ⋅cos(𝜃₁) + r₁⋅sin(𝜃₁)   r₁⋅µ⋅cos(𝜃₁) + r₁⋅sin(𝜃₁)   r₁⋅µ⋅cos(𝜃₁) +\n",
       "\n",
       "os(𝜃₂)                   Fₐ⋅r₂⋅µ⋅cos(𝜃₂)                 Fₐ⋅r₂⋅cos(𝜃₂)      ⎫\n",
       "───────────, F_R_y: ─────────────────────────, Fₙ: ─────────────────────────⎬\n",
       " r₁⋅sin(𝜃₁)         r₁⋅µ⋅cos(𝜃₁) + r₁⋅sin(𝜃₁)      r₁⋅µ⋅cos(𝜃₁) + r₁⋅sin(𝜃₁)⎭"
      ]
     },
     "execution_count": 22,
     "metadata": {},
     "output_type": "execute_result"
    }
   ],
   "source": [
    "# Solve the system of equations\n",
    "solution = sp.solve([eq1, eq2, eq3], (F_L_y, F_R_y, F_n))\n",
    "\n",
    "display(eq1, eq2, eq3)\n",
    "solution"
   ]
  },
  {
   "cell_type": "code",
   "execution_count": 24,
   "metadata": {},
   "outputs": [
    {
     "data": {
      "image/png": "[encoded data removed]",
      "text/latex": [
       "$\\displaystyle F_{a}$"
      ],
      "text/plain": [
       "Fₐ"
      ]
     },
     "execution_count": 24,
     "metadata": {},
     "output_type": "execute_result"
    }
   ],
   "source": [
    "F_n_solution = solution[F_n]\n",
    "F_L_y_solution = solution[F_L_y]\n",
    "F_R_y_solution = solution[F_R_y]\n",
    "sp.simplify(F_R_y_solution + F_L_y_solution) # check force balance in vertical direction.\n"
   ]
  },
  {
   "cell_type": "code",
   "execution_count": 8,
   "metadata": {},
   "outputs": [
    {
     "data": {
      "text/latex": [
       "$\\displaystyle \\frac{2 r_{2} \\cos{\\left(𝜃_{2} \\right)}}{r_{1} µ \\cos{\\left(𝜃_{1} \\right)} + r_{1} \\sin{\\left(𝜃_{1} \\right)}}$"
      ],
      "text/plain": [
       "2*r2*cos(𝜃_2)/(r1*µ*cos(𝜃_1) + r1*sin(𝜃_1))"
      ]
     },
     "execution_count": 8,
     "metadata": {},
     "output_type": "execute_result"
    }
   ],
   "source": [
    "# force multiplier\n",
    "F_mult = 2 * F_n_solution / F_a\n",
    "F_mult"
   ]
  },
  {
   "cell_type": "code",
   "execution_count": 9,
   "metadata": {},
   "outputs": [
    {
     "data": {
      "text/latex": [
       "$\\displaystyle \\frac{r_{1} µ \\cos{\\left(𝜃_{1} \\right)} + r_{1} \\sin{\\left(𝜃_{1} \\right)} - r_{2} µ \\cos{\\left(𝜃_{2} \\right)}}{r_{2} \\cos{\\left(𝜃_{2} \\right)}}$"
      ],
      "text/plain": [
       "(r1*µ*cos(𝜃_1) + r1*sin(𝜃_1) - r2*µ*cos(𝜃_2))/(r2*cos(𝜃_2))"
      ]
     },
     "execution_count": 9,
     "metadata": {},
     "output_type": "execute_result"
    }
   ],
   "source": [
    "# apparent coeff. of friction on left side:\n",
    "mu_l = sp.simplify(F_L_y_solution / F_n_solution)\n",
    "mu_l"
   ]
  },
  {
   "cell_type": "markdown",
   "metadata": {},
   "source": [
    "### Test particular values for $\\theta_1, \\theta_2, r_1, r_2, \\mu$\n",
    "\n",
    "Let:\n",
    "\n",
    "$\n",
    "r1 = 4 \\\\\n",
    "\\theta_1 = 10 \\\\\n",
    "r2 = 6 \\\\\n",
    "\\theta_2 = 60 \\\\\n",
    "\\mu = 0.4 \\\\\n",
    "F_a = 12 \\text{ kn} \n",
    "$\n",
    "\n",
    "(It seems the coeff. of friction for aluminum on granite is somewhere between 0.4 and 0.6 can anyone confirm?)"
   ]
  },
  {
   "cell_type": "markdown",
   "metadata": {},
   "source": [
    "Results in the following forces, force multiplier, and equivalent coefficient of friction for the left side, $\\mu_l$:\n",
    "\n",
    "$\n",
    "F_{L,y} = 5.66, \\quad\n",
    "F_{R,y} = 6.34, \\quad\n",
    "F_n = 15.86, \\quad\n",
    "F_{\\text{mult}} =2.64, \\quad\n",
    "\\mu_l = 0.36 \\leq 0.4\n",
    "$"
   ]
  },
  {
   "cell_type": "markdown",
   "metadata": {},
   "source": [
    "- **Note this gives a force multiplier of 2.64 compared to 4 for a SLCD** \n",
    "\n",
    "- *However, the geometry of this triangle does not match exactly a tricam, and there are some subtleties in the way the cam strap acts on the device. I have found that for a variety of triangle geometries the outward force multiplier appears to be consistently less than 4*."
   ]
  },
  {
   "cell_type": "code",
   "execution_count": 35,
   "metadata": {},
   "outputs": [],
   "source": [
    "th1_val = np.radians(10) # 10 degrees\n",
    "th2_val = np.radians(60) # 60 degrees \n",
    "sub_dict = {theta1: th1_val, theta2: th2_val, mu: 0.4, F_a:12, r1:4, r2:6}"
   ]
  },
  {
   "cell_type": "code",
   "execution_count": 32,
   "metadata": {},
   "outputs": [],
   "source": [
    "import matplotlib.pyplot as plt\n",
    "import numpy as np\n",
    "\n",
    "\n",
    "def draw_triangle(r1, theta1, r2, theta2):\n",
    "    \"\"\"\n",
    "    Draws a triangle with one vertex at the origin, with the first side defined\n",
    "    by the polar coordinates (r1, theta1) and the second side defined by (r2, theta2).\n",
    "    The triangle is drawn with a red border and a white-filled interior.\n",
    "\n",
    "    Parameters:\n",
    "    r1 (float): Radius of the first side in polar coordinates.\n",
    "    theta1 (float): Angle of the first side in polar coordinates (in radians).\n",
    "    r2 (float): Radius of the second side in polar coordinates.\n",
    "    theta2 (float): Angle of the second side in polar coordinates (in radians).\n",
    "    \"\"\"\n",
    "    \n",
    "    # Convert polar coordinates to Cartesian coordinates\n",
    "    x1, y1 = r1 * np.cos(theta1), r1 * np.sin(theta1)\n",
    "    x2, y2 = r2 * np.cos(theta2), r2 * np.sin(theta2)\n",
    "\n",
    "    # Define the vertices of the triangle\n",
    "    vertices = np.array([[0, 0], [x1, y1], [x2, y2]])\n",
    "\n",
    "    # Create the triangle with red border and white fill\n",
    "    plt.figure()\n",
    "    plt.fill(vertices[:, 0], vertices[:, 1], edgecolor='grey', facecolor='grey')\n",
    "\n",
    "    # Set equal scaling\n",
    "    plt.gca().set_aspect('equal', adjustable='box')\n",
    "    plt.grid(True)\n",
    "    plt.title(\"Triangle with One Vertex at the Origin\")\n",
    "    plt.show()\n",
    "\n",
    "# Example usage\n",
    "# draw_triangle(3, np.pi / 4, 2, np.pi / 3)"
   ]
  },
  {
   "cell_type": "code",
   "execution_count": 33,
   "metadata": {},
   "outputs": [
    {
     "data": {
      "image/png": "[encoded data removed]",
      "text/plain": [
       "<Figure size 640x480 with 1 Axes>"
      ]
     },
     "metadata": {},
     "output_type": "display_data"
    }
   ],
   "source": [
    "draw_triangle(sub_dict[r1], sub_dict[theta1], sub_dict[r2], sub_dict[theta2])"
   ]
  },
  {
   "cell_type": "code",
   "execution_count": 37,
   "metadata": {},
   "outputs": [
    {
     "data": {
      "text/latex": [
       "$\\displaystyle \n",
       "F_{Ly} = 5.66, \\quad \n",
       "F_{Ry} = 6.34, \\quad \n",
       "F_n = 15.86, \\quad\n",
       "F_{\\text{mult}} = 2.64, \\quad\n",
       "\\mu_l = 0.36\n",
       "$"
      ],
      "text/plain": [
       "<IPython.core.display.Math object>"
      ]
     },
     "metadata": {},
     "output_type": "display_data"
    }
   ],
   "source": [
    "from IPython.display import display, Math\n",
    "\n",
    "F_L_y_val = float(solution[F_L_y].subs(sub_dict).evalf())\n",
    "F_R_y_val = float(solution[F_R_y].subs(sub_dict).evalf())\n",
    "F_n_val =  float(solution[F_n].subs(sub_dict).evalf())\n",
    "F_mult_val = float(F_mult.subs(sub_dict).evalf())\n",
    "mu_l_val = float(mu_l.subs(sub_dict).evalf())\n",
    "\n",
    "latex_str = fr\"\"\"\n",
    "F_{{Ly}} = {F_L_y_val:.2f}, \\quad \n",
    "F_{{Ry}} = {F_R_y_val:.2f}, \\quad \n",
    "F_n = {F_n_val:.2f}, \\quad\n",
    "F_{{\\text{{mult}}}} = {F_mult_val:.2f}, \\quad\n",
    "\\mu_l = {mu_l_val:.2f}\n",
    "\"\"\"\n",
    "display(Math(latex_str))"
   ]
  },
  {
   "cell_type": "code",
   "execution_count": 16,
   "metadata": {},
   "outputs": [],
   "source": [
    "import sympy as sp\n",
    "import numpy as np\n",
    "import matplotlib.pyplot as plt\n",
    "\n",
    "def plot_sympy_expression(expr, x_var, y_var, x_range, y_range, sub_dict):\n",
    "    \"\"\"\n",
    "    Plots a SymPy expression with specified values for some variables, while \n",
    "    using the remaining variables to represent the x and y axes.\n",
    "\n",
    "    Parameters:\n",
    "    -----------\n",
    "    expr : sympy.Expr\n",
    "        The SymPy expression to plot.\n",
    "    x_var : sympy.Symbol\n",
    "        The variable to be used for the x-axis.\n",
    "    y_var : sympy.Symbol\n",
    "        The variable to be used for the y-axis.\n",
    "    x_range : tuple\n",
    "        A tuple specifying the range of values for the x-axis in the form (x_min, x_max).\n",
    "    y_range : tuple\n",
    "        A tuple specifying the range of values for the y-axis in the form (y_min, y_max).\n",
    "    sub_dict : dict\n",
    "        A dictionary where the keys are SymPy Symbols and the values are the numerical values \n",
    "        to be substituted for those variables in the expression.\n",
    "\n",
    "    Returns:\n",
    "    --------\n",
    "    None\n",
    "    \"\"\"\n",
    "\n",
    "    # Substitute the given variable values into the expression\n",
    "    expr_substituted = expr.subs(sub_dict)\n",
    "\n",
    "    # Convert the sympy expression to a lambda function for numerical evaluation\n",
    "    f = sp.lambdify((x_var, y_var), expr_substituted, \"numpy\")\n",
    "\n",
    "    # Create a grid of x and y values\n",
    "    x_vals = np.linspace(x_range[0], x_range[1], 400)\n",
    "    y_vals = np.linspace(y_range[0], y_range[1], 400)\n",
    "    X, Y = np.meshgrid(x_vals, y_vals)\n",
    "\n",
    "    # Evaluate the function on the grid\n",
    "    Z = f(X, Y)\n",
    "\n",
    "    # Plotting the result\n",
    "    plt.figure(figsize=(8, 6))\n",
    "    # Set the font to a default that supports a wide range of characters\n",
    "    plt.rcParams['font.family'] = 'DejaVu Sans'\n",
    "    cp = plt.contourf(X, Y, Z, levels=50, cmap='viridis')\n",
    "    plt.colorbar(cp)\n",
    "    plt.xlabel(rf'${str(x_var)}$')\n",
    "    plt.ylabel(rf'${str(y_var)}$')\n",
    "    plt.title(rf'${sp.latex(expr)}$ | ${sub_dict}$')\n",
    "    plt.show()\n",
    "\n",
    "# Example usage\n",
    "# x, y, z = sp.symbols('x y z')\n",
    "# expr = sp.sin(x*y) + z\n",
    "\n",
    "# plot_sympy_expression(expr, x, y, x_range=(0, 10), y_range=(0, 10), z=1)"
   ]
  }
 ],
 "metadata": {
  "kernelspec": {
   "display_name": "base",
   "language": "python",
   "name": "python3"
  },
  "language_info": {
   "codemirror_mode": {
    "name": "ipython",
    "version": 3
   },
   "file_extension": ".py",
   "mimetype": "text/x-python",
   "name": "python",
   "nbconvert_exporter": "python",
   "pygments_lexer": "ipython3",
   "version": "3.11.8"
  }
 },
 "nbformat": 4,
 "nbformat_minor": 2
}
