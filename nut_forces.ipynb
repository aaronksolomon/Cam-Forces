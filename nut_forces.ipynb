{
 "cells": [
  {
   "cell_type": "markdown",
   "metadata": {},
   "source": [
    "<img src=\"Nut_FBD.png\" alt=\"Nut FBD\" width=\"800\"/>"
   ]
  },
  {
   "cell_type": "code",
   "execution_count": 3,
   "metadata": {
    "trusted": false
   },
   "outputs": [
    {
     "data": {
      "image/png": "[encoded data removed]",
      "text/latex": [
       "$\\displaystyle F_{f} = F_{n} µ$"
      ],
      "text/plain": [
       "F_f = Fₙ⋅µ"
      ]
     },
     "metadata": {},
     "output_type": "display_data"
    },
    {
     "data": {
      "image/png": "[encoded data removed]",
      "text/latex": [
       "$\\displaystyle F_{f} \\cos{\\left(\\theta \\right)} + F_{n} \\sin{\\left(\\theta \\right)} = F_{a}$"
      ],
      "text/plain": [
       "F_f⋅cos(θ) + Fₙ⋅sin(θ) = Fₐ"
      ]
     },
     "metadata": {},
     "output_type": "display_data"
    }
   ],
   "source": [
    "import sympy as sp\n",
    "import numpy as np\n",
    "#from sympy import init_printing\n",
    "from IPython.display import display\n",
    "\n",
    "sp.init_printing()\n",
    "\n",
    "# Define the variables\n",
    "µ, F_n, F_a, F_f, theta = sp.symbols('µ F_n F_a F_f theta')\n",
    "\n",
    "# Define the equations\n",
    "Ff_eq = sp.Eq(F_f, µ * F_n)\n",
    "balance_eq = sp.Eq(F_f * sp.cos(theta) + F_n * sp.sin(theta), F_a)\n",
    "\n",
    "display(Ff_eq)\n",
    "display(balance_eq)\n"
   ]
  },
  {
   "cell_type": "code",
   "execution_count": 4,
   "metadata": {},
   "outputs": [
    {
     "data": {
      "image/png": "[encoded data removed]",
      "text/latex": [
       "$\\displaystyle \\left\\{ F_{f} : \\frac{F_{a} µ}{µ \\cos{\\left(\\theta \\right)} + \\sin{\\left(\\theta \\right)}}, \\  F_{n} : \\frac{F_{a}}{µ \\cos{\\left(\\theta \\right)} + \\sin{\\left(\\theta \\right)}}\\right\\}$"
      ],
      "text/plain": [
       "⎧            Fₐ⋅µ                    Fₐ       ⎫\n",
       "⎨F_f: ─────────────────, Fₙ: ─────────────────⎬\n",
       "⎩     µ⋅cos(θ) + sin(θ)      µ⋅cos(θ) + sin(θ)⎭"
      ]
     },
     "execution_count": 4,
     "metadata": {},
     "output_type": "execute_result"
    }
   ],
   "source": [
    "# Solve for Fn\n",
    "solution = sp.solve([Ff_eq, balance_eq], [F_n, F_f])\n",
    "\n",
    "solution"
   ]
  },
  {
   "cell_type": "code",
   "execution_count": 21,
   "metadata": {
    "trusted": false
   },
   "outputs": [],
   "source": [
    "# Given values\n",
    "mu_value = .5\n",
    "theta_value = np.round(np.radians(5.71), 5)\n",
    "Fa_value = 6\n",
    "\n",
    "# Define the substitution dictionary\n",
    "subs_dict = {µ: mu_value, theta: theta_value, F_a: Fa_value}"
   ]
  },
  {
   "cell_type": "code",
   "execution_count": 22,
   "metadata": {
    "trusted": false
   },
   "outputs": [
    {
     "data": {
      "image/png": "[encoded data removed]",
      "text/latex": [
       "$\\displaystyle \\left\\{ F_{a} : 6, \\  \\theta : 0.09966, \\  µ : 0.5\\right\\}$"
      ],
      "text/plain": [
       "{Fₐ: 6, θ: 0.09966, µ: 0.5}"
      ]
     },
     "execution_count": 22,
     "metadata": {},
     "output_type": "execute_result"
    }
   ],
   "source": [
    "subs_dict"
   ]
  },
  {
   "cell_type": "code",
   "execution_count": 25,
   "metadata": {
    "trusted": false
   },
   "outputs": [
    {
     "data": {
      "image/png": "[encoded data removed]",
      "text/latex": [
       "$\\displaystyle \\left( 5.025, \\  10.05\\right)$"
      ],
      "text/plain": [
       "(5.025, 10.05)"
      ]
     },
     "execution_count": 25,
     "metadata": {},
     "output_type": "execute_result"
    }
   ],
   "source": [
    "Ff_val, Fn_val = float(solution[F_f].subs(subs_dict).evalf()), float(solution[F_n].subs(subs_dict).evalf())\n",
    "Ff_val, Fn_val = np.round(Ff_val, 4), np.round(Fn_val, 4)\n",
    "Ff_val, Fn_val\n"
   ]
  },
  {
   "cell_type": "code",
   "execution_count": 26,
   "metadata": {
    "trusted": false
   },
   "outputs": [
    {
     "data": {
      "image/png": "[encoded data removed]",
      "text/latex": [
       "$\\displaystyle 1.675$"
      ],
      "text/plain": [
       "1.675"
      ]
     },
     "execution_count": 26,
     "metadata": {},
     "output_type": "execute_result"
    }
   ],
   "source": [
    "Fn_val / Fa_value"
   ]
  },
  {
   "cell_type": "code",
   "execution_count": null,
   "metadata": {
    "trusted": false
   },
   "outputs": [],
   "source": []
  }
 ],
 "metadata": {
  "kernelspec": {
   "display_name": "Python 3",
   "language": "python",
   "name": "python3"
  },
  "language_info": {
   "codemirror_mode": {
    "name": "ipython",
    "version": 3
   },
   "file_extension": ".py",
   "mimetype": "text/x-python",
   "name": "python",
   "nbconvert_exporter": "python",
   "pygments_lexer": "ipython3",
   "version": "3.11.8"
  }
 },
 "nbformat": 4,
 "nbformat_minor": 2
}
