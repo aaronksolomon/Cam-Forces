{
 "cells": [
  {
   "metadata": {
    "trusted": false
   },
   "cell_type": "code",
   "source": "import sympy as sp\nimport numpy as np\n#from sympy import init_printing\nfrom IPython.display import display\n\nsp.init_printing()\n\n# Define the variables\nµ, Fn, Fa, Ff, theta = sp.symbols('µ Fn Fa Ff theta')\n\n# Define the equations\nFf_eq = sp.Eq(Ff, µ * Fn)\nbalance_eq = sp.Eq(Ff * sp.cos(theta) + Fn * sp.sin(theta), Fa)\n\n# Solve for Fn\nsolution = sp.solve([Ff_eq, balance_eq], [Fn, Ff])\n\nsolution",
   "execution_count": 3,
   "outputs": [
    {
     "data": {
      "image/png": "[encoded data removed]",
      "text/latex": "$\\displaystyle \\left\\{ Ff : \\frac{Fa µ}{µ \\cos{\\left(\\theta \\right)} + \\sin{\\left(\\theta \\right)}}, \\  Fn : \\frac{Fa}{µ \\cos{\\left(\\theta \\right)} + \\sin{\\left(\\theta \\right)}}\\right\\}$",
      "text/plain": "⎧           Fa⋅µ                    Fa       ⎫\n⎨Ff: ─────────────────, Fn: ─────────────────⎬\n⎩    µ⋅cos(θ) + sin(θ)      µ⋅cos(θ) + sin(θ)⎭"
     },
     "execution_count": 3,
     "metadata": {},
     "output_type": "execute_result"
    }
   ]
  },
  {
   "metadata": {
    "trusted": false
   },
   "cell_type": "code",
   "source": "# Given values\nmu_value = .6\ntheta_value = np.radians(5.71)\nFa_value = 6\n\n# Define the substitution dictionary\nsubs_dict = {µ: mu_value, theta: theta_value, Fa: Fa_value}",
   "execution_count": 4,
   "outputs": []
  },
  {
   "metadata": {
    "trusted": false
   },
   "cell_type": "code",
   "source": "subs_dict",
   "execution_count": 5,
   "outputs": [
    {
     "data": {
      "image/png": "[encoded data removed]",
      "text/latex": "$\\displaystyle \\left\\{ Fa : 6, \\  \\theta : 0.0996583002888762, \\  µ : 0.6\\right\\}$",
      "text/plain": "{Fa: 6, θ: 0.09965830028887622, µ: 0.6}"
     },
     "execution_count": 5,
     "metadata": {},
     "output_type": "execute_result"
    }
   ]
  },
  {
   "metadata": {
    "trusted": false
   },
   "cell_type": "code",
   "source": "Ff_val, Fn_val = float(solution[Ff].subs(subs_dict).evalf()), float(solution[Fn].subs(subs_dict).evalf())\nFf_val, Fn_val",
   "execution_count": 6,
   "outputs": [
    {
     "data": {
      "image/png": "[encoded data removed]",
      "text/latex": "$\\displaystyle \\left( 5.1685793137218, \\  8.61429885620299\\right)$",
      "text/plain": "(5.168579313721796, 8.614298856202995)"
     },
     "execution_count": 6,
     "metadata": {},
     "output_type": "execute_result"
    }
   ]
  },
  {
   "metadata": {
    "trusted": false
   },
   "cell_type": "code",
   "source": "Fn_val / Fa_value",
   "execution_count": 7,
   "outputs": [
    {
     "data": {
      "image/png": "[encoded data removed]",
      "text/latex": "$\\displaystyle 1.43571647603383$",
      "text/plain": "1.4357164760338323"
     },
     "execution_count": 7,
     "metadata": {},
     "output_type": "execute_result"
    }
   ]
  },
  {
   "metadata": {
    "trusted": false
   },
   "cell_type": "code",
   "source": "",
   "execution_count": null,
   "outputs": []
  }
 ],
 "metadata": {
  "kernelspec": {
   "name": "python3",
   "display_name": "Python 3",
   "language": "python"
  },
  "language_info": {
   "name": "python",
   "version": "3.10.4",
   "mimetype": "text/x-python",
   "codemirror_mode": {
    "name": "ipython",
    "version": 3
   },
   "pygments_lexer": "ipython3",
   "nbconvert_exporter": "python",
   "file_extension": ".py"
  }
 },
 "nbformat": 4,
 "nbformat_minor": 2
}