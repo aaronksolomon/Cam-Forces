{
 "cells": [
  {
   "cell_type": "code",
   "execution_count": 36,
   "metadata": {},
   "outputs": [
    {
     "data": {
      "text/plain": [
       "(Eq(F_a - 2*F_f, 0), Eq(-F_a*w*cos(theta) + F_f*h + F_n*w, 0))"
      ]
     },
     "execution_count": 36,
     "metadata": {},
     "output_type": "execute_result"
    }
   ],
   "source": [
    "import sympy as sp\n",
    "\n",
    "F_a, F_f, F_n = sp.symbols('F_a F_f, F_n')\n",
    "w, h, theta, mu = sp.symbols('w h theta mu')\n",
    "\n",
    "# friction force equation\n",
    "friction_eq = sp.Eq(F_f, mu * F_n)\n",
    "\n",
    "# Vertical force balance equation (y-axis)\n",
    "force_balance_y = sp.Eq(F_a - 2*F_f, 0)\n",
    "\n",
    "# Torque balance equation around the bottom left (BL) corner\n",
    "torque_balance = sp.Eq(-F_a * sp.cos(theta) * w + F_f * h + F_n * w, 0)\n",
    "\n",
    "# Display equations\n",
    "force_balance_y, torque_balance"
   ]
  },
  {
   "cell_type": "code",
   "execution_count": 33,
   "metadata": {},
   "outputs": [
    {
     "data": {
      "text/latex": [
       "$\\displaystyle F_{a} - 2 F_{n} \\mu = 0$"
      ],
      "text/plain": [
       "Eq(F_a - 2*F_n*mu, 0)"
      ]
     },
     "execution_count": 33,
     "metadata": {},
     "output_type": "execute_result"
    }
   ],
   "source": [
    "force_balance_y"
   ]
  },
  {
   "cell_type": "code",
   "execution_count": 34,
   "metadata": {},
   "outputs": [
    {
     "data": {
      "text/latex": [
       "$\\displaystyle - F_{a} w \\cos{\\left(\\theta \\right)} + F_{n} h \\mu + F_{n} w = 0$"
      ],
      "text/plain": [
       "Eq(-F_a*w*cos(theta) + F_n*h*mu + F_n*w, 0)"
      ]
     },
     "execution_count": 34,
     "metadata": {},
     "output_type": "execute_result"
    }
   ],
   "source": [
    "torque_balance"
   ]
  },
  {
   "cell_type": "code",
   "execution_count": 37,
   "metadata": {},
   "outputs": [],
   "source": [
    "solution = sp.solve([force_balance_y, torque_balance, friction_eq], [F_n])"
   ]
  },
  {
   "cell_type": "code",
   "execution_count": 38,
   "metadata": {},
   "outputs": [
    {
     "data": {
      "text/plain": [
       "[]"
      ]
     },
     "execution_count": 38,
     "metadata": {},
     "output_type": "execute_result"
    }
   ],
   "source": [
    "solution"
   ]
  },
  {
   "cell_type": "code",
   "execution_count": 31,
   "metadata": {},
   "outputs": [
    {
     "data": {
      "text/latex": [
       "$\\displaystyle \\frac{F_{a} w \\cos{\\left(\\theta \\right)} - F_{f} h}{w}$"
      ],
      "text/plain": [
       "(F_a*w*cos(theta) - F_f*h)/w"
      ]
     },
     "execution_count": 31,
     "metadata": {},
     "output_type": "execute_result"
    }
   ],
   "source": [
    "solution[F_n]"
   ]
  },
  {
   "cell_type": "code",
   "execution_count": null,
   "metadata": {},
   "outputs": [],
   "source": []
  }
 ],
 "metadata": {
  "kernelspec": {
   "display_name": "base",
   "language": "python",
   "name": "python3"
  },
  "language_info": {
   "codemirror_mode": {
    "name": "ipython",
    "version": 3
   },
   "file_extension": ".py",
   "mimetype": "text/x-python",
   "name": "python",
   "nbconvert_exporter": "python",
   "pygments_lexer": "ipython3",
   "version": "3.11.8"
  }
 },
 "nbformat": 4,
 "nbformat_minor": 2
}
