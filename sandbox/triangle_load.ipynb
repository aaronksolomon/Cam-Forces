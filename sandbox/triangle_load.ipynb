{
 "cells": [
  {
   "cell_type": "code",
   "execution_count": 2,
   "metadata": {},
   "outputs": [],
   "source": [
    "import numpy as np\n",
    "\n",
    "import sys\n",
    "sys.path.append('.')\n",
    "\n",
    "from sfepy.base.base import output, IndexedStruct, Struct\n",
    "from sfepy.discrete import (FieldVariable, Material, Integral, Integrals,\n",
    "                            Equation, Equations, Problem)\n",
    "from sfepy.discrete.fem import Mesh, FEDomain, Field\n",
    "from sfepy.discrete.fem.geometry_element import geometry_data\n",
    "from sfepy.terms import Term\n",
    "from sfepy.discrete.conditions import Conditions, EssentialBC\n",
    "from sfepy.solvers.ls import ScipyDirect\n",
    "from sfepy.solvers.nls import Newton\n",
    "from sfepy.mechanics.matcoefs import stiffness_from_youngpoisson\n",
    "from sfepy import data_dir\n",
    "\n",
    "\n",
    "#from sfepy.examples.linear_elasticity.its2D_2 import stress_strain\n",
    "#from sfepy.solvers.auto_fallback import AutoDirect\n",
    "from sfepy.examples.linear_elasticity.its2D_3 import nodal_stress\n"
   ]
  },
  {
   "cell_type": "code",
   "execution_count": 76,
   "metadata": {},
   "outputs": [
    {
     "name": "stdout",
     "output_type": "stream",
     "text": [
      "sfepy: reading mesh (triangle2d.mesh)...\n",
      "sfepy:   number of vertices: 279\n",
      "sfepy:   number of cells:\n",
      "sfepy:     2_3: 487\n",
      "sfepy: ...done in 0.01 s\n",
      "sfepy: updating variables...\n",
      "sfepy: ...done\n",
      "sfepy: setting up dof connectivities...\n",
      "sfepy: ...done in 0.00 s\n",
      "sfepy: matrix shape: (2084, 2084)\n",
      "sfepy: assembling matrix graph...\n",
      "sfepy: ...done in 0.00 s\n",
      "sfepy: matrix structural nonzeros: 45800 (1.05e+00% fill)\n",
      "sfepy: updating variables...\n",
      "sfepy: ...done\n",
      "sfepy: updating materials...\n",
      "sfepy:     Aluminum\n",
      "sfepy:     Load\n",
      "sfepy: ...done in 0.00 s\n",
      "sfepy: nls: iter: 0, residual: 6.092560e+03 (rel: 1.000000e+00)\n",
      "sfepy:   residual:    0.00 [s]\n",
      "sfepy:     matrix:    0.00 [s]\n",
      "sfepy:      solve:    0.01 [s]\n",
      "sfepy: warning: linear system solution precision is lower then the value set in solver options! (err = 7.472693e-10 < 1.000000e-10)\n",
      "sfepy: nls: iter: 1, residual: 7.488952e-10 (rel: 1.229196e-13)\n"
     ]
    },
    {
     "data": {
      "text/html": [
       "<pre style=\"white-space:pre;overflow-x:auto;line-height:normal;font-family:Menlo,'DejaVu Sans Mono',consolas,'Courier New',monospace\"><span style=\"color: #808000; text-decoration-color: #808000; font-weight: bold\">Warning:</span><span style=\"color: #808000; text-decoration-color: #808000\"> VTK requires 3D vectors, but 2D vectors given. Appending </span><span style=\"color: #808000; text-decoration-color: #808000; font-weight: bold\">0</span><span style=\"color: #808000; text-decoration-color: #808000\"> third component to u.</span>\n",
       "</pre>\n"
      ],
      "text/plain": [
       "\u001b[1;33mWarning:\u001b[0m\u001b[33m VTK requires 3D vectors, but 2D vectors given. Appending \u001b[0m\u001b[1;33m0\u001b[0m\u001b[33m third component to u.\u001b[0m\n"
      ]
     },
     "metadata": {},
     "output_type": "display_data"
    },
    {
     "name": "stdout",
     "output_type": "stream",
     "text": [
      "sfepy: solved in 1 steps in 0.02 seconds\n",
      "sfepy: IndexedStruct\n",
      "  condition:\n",
      "    1\n",
      "  err:\n",
      "    7.488952182009181e-10\n",
      "  err0:\n",
      "    6092.5596713144705\n",
      "  ls_n_iter:\n",
      "    -1\n",
      "  n_iter:\n",
      "    1\n",
      "  time:\n",
      "    0.010205792001215741\n",
      "  time_stats:\n",
      "    dict with keys: ['residual', 'matrix', 'solve']\n",
      "sfepy: equation \"tmp\":\n",
      "sfepy: ev_cauchy_strain.2.Omega(u)\n",
      "sfepy: updating materials...\n",
      "sfepy: ...done in 0.00 s\n",
      "sfepy: equation \"tmp\":\n",
      "sfepy: ev_cauchy_stress.2.Omega(Aluminum.D, u)\n",
      "sfepy: updating materials...\n",
      "sfepy:     Aluminum\n",
      "sfepy: ...done in 0.00 s\n"
     ]
    },
    {
     "data": {
      "text/html": [
       "<pre style=\"white-space:pre;overflow-x:auto;line-height:normal;font-family:Menlo,'DejaVu Sans Mono',consolas,'Courier New',monospace\"><span style=\"color: #808000; text-decoration-color: #808000; font-weight: bold\">Warning:</span><span style=\"color: #808000; text-decoration-color: #808000\"> VTK requires 3D vectors, but 2D vectors given. Appending </span><span style=\"color: #808000; text-decoration-color: #808000; font-weight: bold\">0</span><span style=\"color: #808000; text-decoration-color: #808000\"> third component to u.</span>\n",
       "</pre>\n"
      ],
      "text/plain": [
       "\u001b[1;33mWarning:\u001b[0m\u001b[33m VTK requires 3D vectors, but 2D vectors given. Appending \u001b[0m\u001b[1;33m0\u001b[0m\u001b[33m third component to u.\u001b[0m\n"
      ]
     },
     "metadata": {},
     "output_type": "display_data"
    },
    {
     "name": "stdout",
     "output_type": "stream",
     "text": [
      "sfepy: updating variables...\n",
      "sfepy: ...done\n",
      "sfepy: equation \"tmp\":\n",
      "sfepy: ev_cauchy_stress.ivn.Omega(Aluminum.D, u)\n",
      "sfepy: updating materials...\n",
      "sfepy:     Aluminum\n",
      "sfepy: ...done in 0.00 s\n"
     ]
    }
   ],
   "source": [
    "mesh = Mesh.from_file('triangle2d.mesh')\n",
    "domain = FEDomain('domain', mesh)\n",
    "\n",
    "omega = domain.create_region('Omega', 'all')\n",
    "top = domain.create_region('Top', 'vertex 2', 'vertex')\n",
    "bottom_left = domain.create_region('Bottom_Left', 'vertex 0', 'vertex')                                        \n",
    "bottom_right = domain.create_region('Bottom_Right', 'vertex 1', 'vertex')\n",
    "\n",
    "field = Field.from_args('fu', np.float64, 'vector', omega,\n",
    "                        approx_order=2)\n",
    "\n",
    "u = FieldVariable('u', 'unknown', field)\n",
    "v = FieldVariable('v', 'test', field, primary_var_name='u')\n",
    "\n",
    "# define elastic properties:\n",
    "# Aluminum properties in SI units\n",
    "E = 7.0e10  # Young's Modulus in Pa (70 GPa for Aluminum)\n",
    "nu = 0.33  # Poisson's ratio for Aluminum\n",
    "D = stiffness_from_youngpoisson(2, young=E, poisson=nu)\n",
    "\n",
    "aluminum = Material('Aluminum', D=D)\n",
    "\n",
    "#set up loading:\n",
    "# Define forces in Newtons\n",
    "fy = -6e3  # 1 kn is 1e3 in negative y direction (down).\n",
    "force_ratio = np.tan(np.radians(10))  # Work with an angle of 10 degrees.\n",
    "fx = -fy * force_ratio  # Horizontal force in positive x direction\n",
    "load = Material('Load', values={'.val' : [fx, fy]})\n",
    "\n",
    "integral = Integral('i', order=2)\n",
    "integral0 = Integral('i', order=0)\n",
    "\n",
    "t1 = Term.new('dw_lin_elastic(Aluminum.D, v, u)',\n",
    "                integral, omega, Aluminum=aluminum, v=v, u=u)\n",
    "t2 = Term.new('dw_point_load(Load.val, v)',\n",
    "                integral0, top, Load=load, v=v)\n",
    "eq = Equation('balance', t1 + t2)\n",
    "eqs = Equations([eq])\n",
    "\n",
    "ls = ScipyDirect({})\n",
    "\n",
    "nls_status = IndexedStruct()\n",
    "nls = Newton({}, lin_solver=ls, status=nls_status)\n",
    "\n",
    "pb = Problem('elasticity', equations=eqs)\n",
    "\n",
    "# Apply boundary conditions to the two bottom vertices\n",
    "fix_bottom_left = EssentialBC('fix_bottom_left', bottom_left, {'u.all': 0.0})  # Fix both x and y displacements\n",
    "fix_bottom_right = EssentialBC('fix_bottom_right', bottom_right, {'u.all': 0.0})  # Fix both x and y displacements\n",
    "\n",
    "# Add the boundary conditions to the problem setup\n",
    "pb.set_bcs(ebcs=Conditions([fix_bottom_left, fix_bottom_right]))\n",
    "\n",
    "pb.set_solver(nls)\n",
    "\n",
    "# Solve the problem.\n",
    "variables = pb.solve()\n",
    "output(nls_status)\n",
    "\n",
    "# Postprocess the solution.\n",
    "out = variables.create_output()\n",
    "\n",
    "ev = pb.evaluate\n",
    "strain = ev('ev_cauchy_strain.2.Omega(u)', mode='el_avg')\n",
    "stress = ev('ev_cauchy_stress.2.Omega(Aluminum.D, u)', mode='el_avg',\n",
    "                copy_materials=False)\n",
    "\n",
    "out['cauchy_strain'] = Struct(name='output_data', mode='cell',\n",
    "                                  data=strain, dofs=None)\n",
    "out['cauchy_stress'] = Struct(name='output_data', mode='cell',\n",
    "                                  data=stress, dofs=None)\n",
    "\n",
    "pb.save_state('triangle_load.vtk', out=out)\n",
    "\n",
    "## Calculate nodal stresses.\n",
    "\n",
    "# Setup\n",
    "gdata = geometry_data['2_3']\n",
    "nc = len(gdata.coors)\n",
    "\n",
    "integral_vn = Integral('ivn', coors=gdata.coors,\n",
    "                        weights=[gdata.volume / nc] * nc)\n",
    "\n",
    "integrals = Integrals([integral_vn])\n",
    "\n",
    "# Update problem time\n",
    "pb.time_update()\n",
    "\n",
    "# Evaluate stress at quadrature points\n",
    "stress1 = pb.evaluate('ev_cauchy_stress.ivn.Omega(Aluminum.D, u)', mode='qp', \n",
    "                        integrals=integrals, copy_materials=False)\n",
    "\n",
    "# Create stress field variable from quadrature points\n",
    "sfield = Field.from_args('stress1', np.float64, (3,), omega)\n",
    "svar = FieldVariable('sigma', 'parameter', sfield, \n",
    "                        primary_var_name='(set-to-None)')\n",
    "svar.set_from_qp(stress1, integrals['ivn'])\n"
   ]
  },
  {
   "cell_type": "code",
   "execution_count": 4,
   "metadata": {},
   "outputs": [
    {
     "ename": "IndexError",
     "evalue": "too many indices for array: array is 1-dimensional, but 2 were indexed",
     "output_type": "error",
     "traceback": [
      "\u001b[0;31m---------------------------------------------------------------------------\u001b[0m",
      "\u001b[0;31mIndexError\u001b[0m                                Traceback (most recent call last)",
      "Cell \u001b[0;32mIn[4], line 10\u001b[0m\n\u001b[1;32m      6\u001b[0m specific_nodes \u001b[38;5;241m=\u001b[39m [\u001b[38;5;241m0\u001b[39m, \u001b[38;5;241m1\u001b[39m, \u001b[38;5;241m2\u001b[39m]  \u001b[38;5;66;03m# Replace these with actual node indices you're interested in\u001b[39;00m\n\u001b[1;32m      8\u001b[0m \u001b[38;5;28;01mfor\u001b[39;00m node \u001b[38;5;129;01min\u001b[39;00m specific_nodes:\n\u001b[1;32m      9\u001b[0m     \u001b[38;5;66;03m# Horizontal tensile stress (sigma_xx)\u001b[39;00m\n\u001b[0;32m---> 10\u001b[0m     sigma_xx \u001b[38;5;241m=\u001b[39m \u001b[43msdata\u001b[49m\u001b[43m[\u001b[49m\u001b[43mnode\u001b[49m\u001b[43m,\u001b[49m\u001b[43m \u001b[49m\u001b[38;5;241;43m0\u001b[39;49m\u001b[43m]\u001b[49m\n\u001b[1;32m     12\u001b[0m     \u001b[38;5;66;03m# Vertical compressive stress (sigma_yy)\u001b[39;00m\n\u001b[1;32m     13\u001b[0m     sigma_yy \u001b[38;5;241m=\u001b[39m sdata[node, \u001b[38;5;241m1\u001b[39m]\n",
      "\u001b[0;31mIndexError\u001b[0m: too many indices for array: array is 1-dimensional, but 2 were indexed"
     ]
    }
   ],
   "source": [
    "# stress data\n",
    "sdata = svar()\n",
    "\n",
    "# Example node indices to print stresses for\n",
    "\n",
    "specific_nodes = [0, 1, 2]  # Replace these with actual node indices you're interested in\n",
    "\n",
    "for node in specific_nodes:\n",
    "    # Horizontal tensile stress (sigma_xx)\n",
    "    sigma_xx = sdata[node, 0]\n",
    "\n",
    "    # Vertical compressive stress (sigma_yy)\n",
    "    sigma_yy = sdata[node, 1]\n",
    "\n",
    "    # Print stress at the node\n",
    "    print(f'Node {node}: Horizontal stress (sigma_xx) = {sigma_xx:.5e} Pascals')\n",
    "    print(f'Node {node}: Vertical stress (sigma_yy) = {sigma_yy:.5e} Pascals')"
   ]
  },
  {
   "cell_type": "code",
   "execution_count": 35,
   "metadata": {},
   "outputs": [],
   "source": [
    "sfield = Field.from_args('stress', np.float64, (3,), omega)"
   ]
  },
  {
   "cell_type": "code",
   "execution_count": 36,
   "metadata": {},
   "outputs": [],
   "source": [
    "svar = FieldVariable('sigma', 'parameter', sfield, \n",
    "                        primary_var_name='(set-to-None)')\n"
   ]
  },
  {
   "cell_type": "code",
   "execution_count": null,
   "metadata": {},
   "outputs": [],
   "source": [
    "print(svar)"
   ]
  },
  {
   "cell_type": "code",
   "execution_count": 40,
   "metadata": {},
   "outputs": [],
   "source": [
    "svar.set_from_qp(stress, integrals['ivn'])"
   ]
  },
  {
   "cell_type": "code",
   "execution_count": null,
   "metadata": {},
   "outputs": [],
   "source": [
    "print(svar)"
   ]
  },
  {
   "cell_type": "code",
   "execution_count": 58,
   "metadata": {},
   "outputs": [
    {
     "name": "stdout",
     "output_type": "stream",
     "text": [
      "[[ 3.59105320e+03  1.19257400e+05  4.30668809e+04]\n",
      " [ 1.09830754e+05  2.47122980e+04 -5.02412552e+04]\n",
      " [ 9.09505089e+02  3.20571370e+05 -6.09525120e+04]\n",
      " ...\n",
      " [ 1.37729647e+04  2.53558682e+03 -5.68467343e+03]\n",
      " [-1.51793612e+03 -2.97686209e+02 -3.37364547e+03]\n",
      " [ 1.50378948e+03 -1.85661594e+03  4.48642684e+02]]\n"
     ]
    }
   ],
   "source": [
    "# Assuming 'svar' is your FieldVariable and 'Omega' is a region in your domain:\n",
    "stress_at_nodes = svar.get_state_in_region(omega, reshape=True)\n",
    "print(stress_at_nodes)"
   ]
  },
  {
   "cell_type": "code",
   "execution_count": 59,
   "metadata": {},
   "outputs": [
    {
     "data": {
      "text/plain": [
       "(1057.9618842507898, -6000.0)"
      ]
     },
     "execution_count": 59,
     "metadata": {},
     "output_type": "execute_result"
    }
   ],
   "source": [
    "fx, fy"
   ]
  },
  {
   "cell_type": "code",
   "execution_count": 74,
   "metadata": {},
   "outputs": [
    {
     "data": {
      "text/plain": [
       "(109830.75375176674, 24712.29797843522)"
      ]
     },
     "execution_count": 74,
     "metadata": {},
     "output_type": "execute_result"
    }
   ],
   "source": [
    "s_x, s_y = stress_at_nodes[1, 0:2]\n",
    "s_x, s_y"
   ]
  },
  {
   "cell_type": "code",
   "execution_count": 75,
   "metadata": {},
   "outputs": [
    {
     "data": {
      "text/plain": [
       "12.680571373186755"
      ]
     },
     "execution_count": 75,
     "metadata": {},
     "output_type": "execute_result"
    }
   ],
   "source": [
    "np.rad2deg(np.arctan2(s_y, s_x))"
   ]
  },
  {
   "cell_type": "code",
   "execution_count": 43,
   "metadata": {},
   "outputs": [
    {
     "data": {
      "text/plain": [
       "(279, 3)"
      ]
     },
     "execution_count": 43,
     "metadata": {},
     "output_type": "execute_result"
    }
   ],
   "source": [
    "stress_at_nodes.shape"
   ]
  },
  {
   "cell_type": "markdown",
   "metadata": {},
   "source": []
  },
  {
   "cell_type": "code",
   "execution_count": 5,
   "metadata": {},
   "outputs": [
    {
     "data": {
      "text/plain": [
       "array([-10110.36410068, -33841.92157777,  19750.44623483, ...,\n",
       "         -592.58826678,   2430.75331937,  -1128.51074078])"
      ]
     },
     "execution_count": 5,
     "metadata": {},
     "output_type": "execute_result"
    }
   ],
   "source": [
    "sdata"
   ]
  },
  {
   "cell_type": "code",
   "execution_count": 6,
   "metadata": {},
   "outputs": [
    {
     "data": {
      "text/plain": [
       "(837,)"
      ]
     },
     "execution_count": 6,
     "metadata": {},
     "output_type": "execute_result"
    }
   ],
   "source": [
    "sdata.shape"
   ]
  },
  {
   "cell_type": "code",
   "execution_count": 27,
   "metadata": {},
   "outputs": [
    {
     "data": {
      "text/plain": [
       "837"
      ]
     },
     "execution_count": 27,
     "metadata": {},
     "output_type": "execute_result"
    }
   ],
   "source": [
    "279*3"
   ]
  },
  {
   "cell_type": "code",
   "execution_count": null,
   "metadata": {},
   "outputs": [],
   "source": [
    "print(sfield)"
   ]
  },
  {
   "cell_type": "code",
   "execution_count": null,
   "metadata": {},
   "outputs": [],
   "source": [
    "svar = FieldVariable('sigma', 'parameter', sfield, \n",
    "                        primary_var_name='(set-to-None)')\n",
    "print(svar)"
   ]
  },
  {
   "cell_type": "code",
   "execution_count": 12,
   "metadata": {},
   "outputs": [
    {
     "data": {
      "text/plain": [
       "(487, 3, 3, 1)"
      ]
     },
     "execution_count": 12,
     "metadata": {},
     "output_type": "execute_result"
    }
   ],
   "source": [
    "stress.shape"
   ]
  },
  {
   "cell_type": "code",
   "execution_count": 17,
   "metadata": {},
   "outputs": [
    {
     "data": {
      "text/plain": [
       "array([[[-6571.11723905],\n",
       "        [-2529.68584952],\n",
       "        [ 2679.8697351 ]],\n",
       "\n",
       "       [[-5498.31167126],\n",
       "        [  109.82483099],\n",
       "        [ 2036.11533091]],\n",
       "\n",
       "       [[-5533.54716454],\n",
       "        [-2067.55462349],\n",
       "        [ 2254.78004747]]])"
      ]
     },
     "execution_count": 17,
     "metadata": {},
     "output_type": "execute_result"
    }
   ],
   "source": [
    "stress[100, :, :, :]"
   ]
  },
  {
   "cell_type": "code",
   "execution_count": 18,
   "metadata": {},
   "outputs": [
    {
     "name": "stdout",
     "output_type": "stream",
     "text": [
      "sfepy: equation \"tmp\":\n",
      "sfepy: ev_cauchy_stress.ivn.Omega(Aluminum.D, u)\n",
      "sfepy: updating materials...\n",
      "sfepy:     Aluminum\n",
      "sfepy: ...done in 0.00 s\n"
     ]
    }
   ],
   "source": [
    "stress2 = pb.evaluate('ev_cauchy_stress.ivn.Omega(Aluminum.D, u)', mode='el_avg', \n",
    "                        integrals=integrals, copy_materials=False)"
   ]
  },
  {
   "cell_type": "code",
   "execution_count": 19,
   "metadata": {},
   "outputs": [
    {
     "data": {
      "text/plain": [
       "(487, 1, 3, 1)"
      ]
     },
     "execution_count": 19,
     "metadata": {},
     "output_type": "execute_result"
    }
   ],
   "source": [
    "stress2.shape"
   ]
  },
  {
   "cell_type": "code",
   "execution_count": 20,
   "metadata": {},
   "outputs": [
    {
     "data": {
      "text/plain": [
       "array([[[-1475.260774  ],\n",
       "        [-4360.82777117],\n",
       "        [ 2540.78099961]]])"
      ]
     },
     "execution_count": 20,
     "metadata": {},
     "output_type": "execute_result"
    }
   ],
   "source": [
    "stress2[0]"
   ]
  },
  {
   "cell_type": "code",
   "execution_count": 21,
   "metadata": {},
   "outputs": [
    {
     "data": {
      "text/plain": [
       "(487, 3, 3, 1)"
      ]
     },
     "execution_count": 21,
     "metadata": {},
     "output_type": "execute_result"
    }
   ],
   "source": [
    "stress[0]"
   ]
  },
  {
   "cell_type": "code",
   "execution_count": 22,
   "metadata": {},
   "outputs": [
    {
     "data": {
      "text/plain": [
       "487"
      ]
     },
     "execution_count": 22,
     "metadata": {},
     "output_type": "execute_result"
    }
   ],
   "source": [
    "pb.domain.shape.n_el"
   ]
  },
  {
   "cell_type": "code",
   "execution_count": 23,
   "metadata": {},
   "outputs": [
    {
     "data": {
      "text/plain": [
       "3"
      ]
     },
     "execution_count": 23,
     "metadata": {},
     "output_type": "execute_result"
    }
   ],
   "source": [
    "nc"
   ]
  },
  {
   "cell_type": "code",
   "execution_count": 25,
   "metadata": {},
   "outputs": [
    {
     "name": "stdout",
     "output_type": "stream",
     "text": [
      "Struct\n",
      "  conn:\n",
      "    list: [0, 1, 2]\n",
      "  coors:\n",
      "    list: [[0.0, 0.0], [1.0, 0.0], [0.0, 1.0]]\n",
      "  edges:\n",
      "    list: [[0, 1], [1, 2], [2, 0]]\n",
      "  faces:\n",
      "    None\n",
      "  get_grid:\n",
      "    <function _get_grid_2_3 at 0x16290aa20>\n",
      "  orientation:\n",
      "    tuple: (0, (1, 2), 1, 2)\n",
      "  surface_facet_name:\n",
      "    1_2\n",
      "  volume:\n",
      "    0.5\n"
     ]
    }
   ],
   "source": [
    "print(gdata)"
   ]
  },
  {
   "cell_type": "code",
   "execution_count": 39,
   "metadata": {},
   "outputs": [
    {
     "data": {
      "text/plain": [
       "[[0.0, 0.0], [1.0, 0.0], [0.0, 1.0]]"
      ]
     },
     "execution_count": 39,
     "metadata": {},
     "output_type": "execute_result"
    }
   ],
   "source": [
    "gdata.coors"
   ]
  },
  {
   "cell_type": "code",
   "execution_count": 30,
   "metadata": {},
   "outputs": [
    {
     "data": {
      "text/plain": [
       "[Region:Omega, Region:Top, Region:Bottom_Left, Region:Bottom_Right]"
      ]
     },
     "execution_count": 30,
     "metadata": {},
     "output_type": "execute_result"
    }
   ],
   "source": [
    "pb.domain.regions"
   ]
  },
  {
   "cell_type": "code",
   "execution_count": 32,
   "metadata": {},
   "outputs": [
    {
     "name": "stdout",
     "output_type": "stream",
     "text": [
      "Region:Omega\n",
      "  can:\n",
      "    tuple: (True, True, True)\n",
      "  can_cells:\n",
      "    True\n",
      "  can_edges:\n",
      "    True\n",
      "  can_faces:\n",
      "    False\n",
      "  can_vertices:\n",
      "    True\n",
      "  cmesh:\n",
      "    CMesh: n_coor: 279, dim 2, tdim: 2, n_el 487\n",
      "  definition:\n",
      "    all\n",
      "  dim:\n",
      "    2\n",
      "  domain:\n",
      "    FEDomain:domain\n",
      "  entities:\n",
      "    list: [array([  0,   1,   2, ..., 276, 277, 278], dtype=uint32), array([  0,   1,   2, ..., 762, 763, 764], dtype=uint32), array([  0,   1,   2, ..., 484, 485, 486], dtype=uint32)]\n",
      "  extra_options:\n",
      "    None\n",
      "  is_empty:\n",
      "    False\n",
      "  kind:\n",
      "    cell\n",
      "  kind_tdim:\n",
      "    2\n",
      "  mirror_maps:\n",
      "    dict with keys: []\n",
      "  mirror_regions:\n",
      "    dict with keys: []\n",
      "  n_v_max:\n",
      "    279\n",
      "  name:\n",
      "    Omega\n",
      "  parent:\n",
      "    None\n",
      "  parse_def:\n",
      "    KW_All<>\n",
      "  shape:\n",
      "    Struct\n",
      "  tdim:\n",
      "    2\n",
      "  true_kind:\n",
      "    cell\n"
     ]
    }
   ],
   "source": [
    "print(pb.domain.regions['Omega'])"
   ]
  },
  {
   "cell_type": "code",
   "execution_count": null,
   "metadata": {},
   "outputs": [],
   "source": []
  }
 ],
 "metadata": {
  "kernelspec": {
   "display_name": "physics_env",
   "language": "python",
   "name": "python3"
  },
  "language_info": {
   "codemirror_mode": {
    "name": "ipython",
    "version": 3
   },
   "file_extension": ".py",
   "mimetype": "text/x-python",
   "name": "python",
   "nbconvert_exporter": "python",
   "pygments_lexer": "ipython3",
   "version": "3.12.5"
  }
 },
 "nbformat": 4,
 "nbformat_minor": 2
}
