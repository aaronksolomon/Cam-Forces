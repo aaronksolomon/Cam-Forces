{
 "cells": [
  {
   "cell_type": "code",
   "execution_count": 151,
   "metadata": {},
   "outputs": [],
   "source": [
    "import numpy as np\n",
    "\n",
    "import sys\n",
    "sys.path.append('.')\n",
    "\n",
    "from sfepy.base.base import output, IndexedStruct, Struct\n",
    "from sfepy.discrete import (FieldVariable, Material, Integral, Integrals,\n",
    "                            Equation, Equations, Problem)\n",
    "from sfepy.discrete.fem import Mesh, FEDomain, Field\n",
    "from sfepy.discrete.fem.geometry_element import geometry_data\n",
    "from sfepy.terms import Term\n",
    "from sfepy.discrete.conditions import Conditions, EssentialBC\n",
    "from sfepy.solvers.ls import ScipyDirect\n",
    "from sfepy.solvers.nls import Newton\n",
    "from sfepy.mechanics.matcoefs import stiffness_from_youngpoisson\n",
    "from sfepy import data_dir\n",
    "\n",
    "\n",
    "#from sfepy.examples.linear_elasticity.its2D_2 import stress_strain\n",
    "#from sfepy.solvers.auto_fallback import AutoDirect\n",
    "from sfepy.examples.linear_elasticity.its2D_3 import nodal_stress\n"
   ]
  },
  {
   "cell_type": "code",
   "execution_count": 152,
   "metadata": {},
   "outputs": [
    {
     "name": "stdout",
     "output_type": "stream",
     "text": [
      "sfepy:     reading mesh (cm_triangle2d.mesh)...\n",
      "sfepy:       number of vertices: 279\n",
      "sfepy:       number of cells:\n",
      "sfepy:         2_3: 487\n",
      "sfepy:     ...done in 0.00 s\n",
      "sfepy:     updating variables...\n",
      "sfepy:     ...done\n",
      "sfepy:     setting up dof connectivities...\n",
      "sfepy:     ...done in 0.00 s\n",
      "sfepy:     matrix shape: (2084, 2084)\n",
      "sfepy:     assembling matrix graph...\n",
      "sfepy:     ...done in 0.00 s\n",
      "sfepy:     matrix structural nonzeros: 45800 (1.05e+00% fill)\n",
      "sfepy:     updating variables...\n",
      "sfepy:     ...done\n",
      "sfepy:     updating materials...\n",
      "sfepy:         Load\n",
      "sfepy:         Aluminum\n",
      "sfepy:     ...done in 0.00 s\n",
      "sfepy:     nls: iter: 0, residual: 6.092560e+03 (rel: 1.000000e+00)\n",
      "sfepy:       residual:    0.00 [s]\n",
      "sfepy:         matrix:    0.00 [s]\n",
      "sfepy:          solve:    0.01 [s]\n",
      "sfepy:     warning: linear system solution precision is lower then the value set in solver options! (err = 7.599456e-10 < 1.000000e-10)\n",
      "sfepy:     nls: iter: 1, residual: 7.764315e-10 (rel: 1.274393e-13)\n"
     ]
    },
    {
     "data": {
      "text/html": [
       "<pre style=\"white-space:pre;overflow-x:auto;line-height:normal;font-family:Menlo,'DejaVu Sans Mono',consolas,'Courier New',monospace\"><span style=\"color: #808000; text-decoration-color: #808000; font-weight: bold\">Warning:</span><span style=\"color: #808000; text-decoration-color: #808000\"> VTK requires 3D vectors, but 2D vectors given. Appending </span><span style=\"color: #808000; text-decoration-color: #808000; font-weight: bold\">0</span><span style=\"color: #808000; text-decoration-color: #808000\"> third component to u.</span>\n",
       "</pre>\n"
      ],
      "text/plain": [
       "\u001b[1;33mWarning:\u001b[0m\u001b[33m VTK requires 3D vectors, but 2D vectors given. Appending \u001b[0m\u001b[1;33m0\u001b[0m\u001b[33m third component to u.\u001b[0m\n"
      ]
     },
     "metadata": {},
     "output_type": "display_data"
    },
    {
     "name": "stdout",
     "output_type": "stream",
     "text": [
      "sfepy:     solved in 1 steps in 0.02 seconds\n",
      "sfepy:     IndexedStruct\n",
      "  condition:\n",
      "    1\n",
      "  err:\n",
      "    7.764314679064477e-10\n",
      "  err0:\n",
      "    6092.5596713144705\n",
      "  ls_n_iter:\n",
      "    -1\n",
      "  n_iter:\n",
      "    1\n",
      "  time:\n",
      "    0.013016417040489614\n",
      "  time_stats:\n",
      "    dict with keys: ['residual', 'matrix', 'solve']\n",
      "sfepy:     equation \"tmp\":\n",
      "sfepy:     ev_cauchy_strain.2.Omega(u)\n",
      "sfepy:     updating materials...\n",
      "sfepy:     ...done in 0.00 s\n",
      "sfepy:     equation \"tmp\":\n",
      "sfepy:     ev_cauchy_stress.2.Omega(Aluminum.D, u)\n",
      "sfepy:     updating materials...\n",
      "sfepy:         Aluminum\n",
      "sfepy:     ...done in 0.00 s\n"
     ]
    },
    {
     "data": {
      "text/html": [
       "<pre style=\"white-space:pre;overflow-x:auto;line-height:normal;font-family:Menlo,'DejaVu Sans Mono',consolas,'Courier New',monospace\"><span style=\"color: #808000; text-decoration-color: #808000; font-weight: bold\">Warning:</span><span style=\"color: #808000; text-decoration-color: #808000\"> VTK requires 3D vectors, but 2D vectors given. Appending </span><span style=\"color: #808000; text-decoration-color: #808000; font-weight: bold\">0</span><span style=\"color: #808000; text-decoration-color: #808000\"> third component to u.</span>\n",
       "</pre>\n"
      ],
      "text/plain": [
       "\u001b[1;33mWarning:\u001b[0m\u001b[33m VTK requires 3D vectors, but 2D vectors given. Appending \u001b[0m\u001b[1;33m0\u001b[0m\u001b[33m third component to u.\u001b[0m\n"
      ]
     },
     "metadata": {},
     "output_type": "display_data"
    },
    {
     "name": "stdout",
     "output_type": "stream",
     "text": [
      "sfepy:     updating variables...\n",
      "sfepy:     ...done\n",
      "sfepy:     equation \"tmp\":\n",
      "sfepy:     ev_cauchy_stress.ivn.Omega(Aluminum.D, u)\n",
      "sfepy:     updating materials...\n",
      "sfepy:         Aluminum\n",
      "sfepy:     ...done in 0.00 s\n"
     ]
    }
   ],
   "source": [
    "mesh = Mesh.from_file('cm_triangle2d.mesh')\n",
    "domain = FEDomain('domain', mesh)\n",
    "\n",
    "omega = domain.create_region('Omega', 'all')\n",
    "top = domain.create_region('Top', 'vertex 2', 'vertex')\n",
    "bottom_left = domain.create_region('Bottom_Left', 'vertex 0', 'vertex')                                        \n",
    "bottom_right = domain.create_region('Bottom_Right', 'vertex 1', 'vertex')\n",
    "\n",
    "field = Field.from_args('fu', np.float64, 'vector', omega,\n",
    "                        approx_order=2)\n",
    "\n",
    "u = FieldVariable('u', 'unknown', field)\n",
    "v = FieldVariable('v', 'test', field, primary_var_name='u')\n",
    "\n",
    "# define elastic properties:\n",
    "# Aluminum properties in SI units\n",
    "E = 7.0e10  # Young's Modulus in Pa (70 GPa for Aluminum)\n",
    "nu = 0.33  # Poisson's ratio for Aluminum\n",
    "D = stiffness_from_youngpoisson(2, young=E, poisson=nu)\n",
    "\n",
    "aluminum = Material('Aluminum', D=D)\n",
    "\n",
    "#set up loading:\n",
    "# Define forces in Newtons\n",
    "fy = -6e3  # 1 kn is 1e3 in negative y direction (down).\n",
    "force_ratio = np.tan(np.radians(10))  # Work with an angle of 10 degrees.\n",
    "fx = -fy * force_ratio  # Horizontal force in positive x direction\n",
    "load = Material('Load', values={'.val' : [fx, fy]})\n",
    "\n",
    "integral = Integral('i', order=2)\n",
    "integral0 = Integral('i', order=0)\n",
    "\n",
    "t1 = Term.new('dw_lin_elastic(Aluminum.D, v, u)',\n",
    "                integral, omega, Aluminum=aluminum, v=v, u=u)\n",
    "t2 = Term.new('dw_point_load(Load.val, v)',\n",
    "                integral0, top, Load=load, v=v)\n",
    "eq = Equation('balance', t1 + t2)\n",
    "eqs = Equations([eq])\n",
    "\n",
    "ls = ScipyDirect({})\n",
    "\n",
    "nls_status = IndexedStruct()\n",
    "nls = Newton({}, lin_solver=ls, status=nls_status)\n",
    "\n",
    "pb = Problem('elasticity', equations=eqs)\n",
    "\n",
    "# Apply boundary conditions to the two bottom vertices\n",
    "fix_bottom_left = EssentialBC('fix_bottom_left', bottom_left, {'u.all': 0.0})  # Fix both x and y displacements\n",
    "fix_bottom_right = EssentialBC('fix_bottom_right', bottom_right, {'u.all': 0.0})  # Fix both x and y displacements\n",
    "\n",
    "# Add the boundary conditions to the problem setup\n",
    "pb.set_bcs(ebcs=Conditions([fix_bottom_left, fix_bottom_right]))\n",
    "\n",
    "pb.set_solver(nls)\n",
    "\n",
    "# Solve the problem.\n",
    "variables = pb.solve()\n",
    "output(nls_status)\n",
    "\n",
    "# Postprocess the solution.\n",
    "out = variables.create_output()\n",
    "\n",
    "ev = pb.evaluate\n",
    "strain = ev('ev_cauchy_strain.2.Omega(u)', mode='el_avg')\n",
    "stress = ev('ev_cauchy_stress.2.Omega(Aluminum.D, u)', mode='el_avg',\n",
    "                copy_materials=False)\n",
    "\n",
    "out['cauchy_strain'] = Struct(name='output_data', mode='cell',\n",
    "                                  data=strain, dofs=None)\n",
    "out['cauchy_stress'] = Struct(name='output_data', mode='vector',\n",
    "                                  data=stress, dofs=None)\n",
    "\n",
    "pb.save_state('triangle_load.vtk', out=out)\n",
    "\n",
    "## Calculate nodal stresses.\n",
    "\n",
    "# Setup\n",
    "gdata = geometry_data['2_3']\n",
    "nc = len(gdata.coors)\n",
    "\n",
    "integral_vn = Integral('ivn', coors=gdata.coors,\n",
    "                        weights=[gdata.volume / nc] * nc)\n",
    "\n",
    "integrals = Integrals([integral_vn])\n",
    "\n",
    "# Update problem time\n",
    "pb.time_update()\n",
    "\n",
    "# Evaluate stress at quadrature points\n",
    "stress1 = pb.evaluate('ev_cauchy_stress.ivn.Omega(Aluminum.D, u)', mode='qp', \n",
    "                        integrals=integrals, copy_materials=False)\n",
    "\n",
    "# Create stress field variable from quadrature points\n",
    "sfield = Field.from_args('stress1', np.float64, (3,), omega)\n",
    "svar = FieldVariable('sigma', 'parameter', sfield, \n",
    "                        primary_var_name='(set-to-None)')\n",
    "svar.set_from_qp(stress1, integrals['ivn'])\n"
   ]
  },
  {
   "cell_type": "code",
   "execution_count": 153,
   "metadata": {},
   "outputs": [
    {
     "name": "stdout",
     "output_type": "stream",
     "text": [
      "[[  2808848.0765256   15493220.65235461   5698561.04019556]\n",
      " [ 12824872.99606878  10007663.58653576 -10020633.55031441]\n",
      " [  2219484.00585672  60352659.97294801 -10274822.25199117]\n",
      " ...\n",
      " [  1815688.79330241   1178540.91106925  -1480382.85350555]\n",
      " [   825085.632021      300378.07860351    158345.61582387]\n",
      " [   177779.39552437   1177637.34603807   -458675.92156547]]\n"
     ]
    }
   ],
   "source": [
    "# Assuming 'svar' is your FieldVariable and 'Omega' is a region in your domain:\n",
    "stress_at_nodes = svar.get_state_in_region(omega, reshape=True)\n",
    "print(stress_at_nodes)"
   ]
  },
  {
   "cell_type": "code",
   "execution_count": 154,
   "metadata": {},
   "outputs": [
    {
     "data": {
      "text/plain": [
       "array([ 2808848.0765256 , 15493220.65235461,  5698561.04019556, ...,\n",
       "         177779.39552437,  1177637.34603807,  -458675.92156547])"
      ]
     },
     "execution_count": 154,
     "metadata": {},
     "output_type": "execute_result"
    }
   ],
   "source": [
    "svar.data[0]"
   ]
  },
  {
   "cell_type": "code",
   "execution_count": 155,
   "metadata": {},
   "outputs": [
    {
     "data": {
      "text/plain": [
       "(1057.9618842507898, -6000.0)"
      ]
     },
     "execution_count": 155,
     "metadata": {},
     "output_type": "execute_result"
    }
   ],
   "source": [
    "fx, fy"
   ]
  },
  {
   "cell_type": "code",
   "execution_count": 156,
   "metadata": {},
   "outputs": [
    {
     "data": {
      "text/plain": [
       "(2808848.076525604, 15493220.652354605)"
      ]
     },
     "execution_count": 156,
     "metadata": {},
     "output_type": "execute_result"
    }
   ],
   "source": [
    "s_x, s_y = stress_at_nodes[0, 0:2]\n",
    "s_x, s_y"
   ]
  },
  {
   "cell_type": "code",
   "execution_count": 157,
   "metadata": {},
   "outputs": [
    {
     "data": {
      "text/plain": [
       "79.72415646810038"
      ]
     },
     "execution_count": 157,
     "metadata": {},
     "output_type": "execute_result"
    }
   ],
   "source": [
    "np.rad2deg(np.arctan2(s_y, s_x))"
   ]
  },
  {
   "cell_type": "code",
   "execution_count": 158,
   "metadata": {},
   "outputs": [
    {
     "name": "stdout",
     "output_type": "stream",
     "text": [
      "sfepy:     equation \"tmp\":\n",
      "sfepy:     ev_cauchy_stress.ivn.Omega(Aluminum.D, u)\n",
      "sfepy:     updating materials...\n",
      "sfepy:         Aluminum\n",
      "sfepy:     ...done in 0.00 s\n"
     ]
    }
   ],
   "source": [
    "stress2 = pb.evaluate('ev_cauchy_stress.ivn.Omega(Aluminum.D, u)', mode='el_avg', \n",
    "                        integrals=integrals, copy_materials=False)"
   ]
  },
  {
   "cell_type": "code",
   "execution_count": 159,
   "metadata": {},
   "outputs": [
    {
     "data": {
      "text/plain": [
       "(279, 3)"
      ]
     },
     "execution_count": 159,
     "metadata": {},
     "output_type": "execute_result"
    }
   ],
   "source": [
    "stress_at_nodes.shape"
   ]
  },
  {
   "cell_type": "code",
   "execution_count": 160,
   "metadata": {},
   "outputs": [],
   "source": [
    "# Define a 2D fields for compressive stress that is order=0 so that it is over cells:\n",
    "compressive_field1 = Field.from_args('stress-compression', np.float64, (2,), omega, approx_order=1)\n",
    "compressive_field2 = Field.from_args('stress-compression', np.float64, (2,), omega, approx_order=0)"
   ]
  },
  {
   "cell_type": "code",
   "execution_count": 161,
   "metadata": {},
   "outputs": [],
   "source": [
    "xy_stress1 = stress_at_nodes[:, [0, 1]]\n",
    "xy_stress2 = stress[:, :, 0:2, 0]\n",
    "compressive_stress_data = xy_stress1.flatten()"
   ]
  },
  {
   "cell_type": "code",
   "execution_count": 162,
   "metadata": {},
   "outputs": [
    {
     "data": {
      "text/plain": [
       "(558,)"
      ]
     },
     "execution_count": 162,
     "metadata": {},
     "output_type": "execute_result"
    }
   ],
   "source": [
    "compressive_stress_data.shape"
   ]
  },
  {
   "cell_type": "code",
   "execution_count": 163,
   "metadata": {},
   "outputs": [
    {
     "name": "stdout",
     "output_type": "stream",
     "text": [
      "H1NodalVolumeField:stress-compression\n",
      "  approx_order:\n",
      "    1\n",
      "  basis_transform:\n",
      "    None\n",
      "  bf:\n",
      "    dict with keys: []\n",
      "  bubble_dofs:\n",
      "    None\n",
      "  bubble_remap:\n",
      "    None\n",
      "  cmesh:\n",
      "    CMesh: n_coor: 279, dim 2, tdim: 2, n_el 487\n",
      "  coors:\n",
      "    (279, 2) array of float64\n",
      "  domain:\n",
      "    FEDomain:domain\n",
      "  dtype:\n",
      "    <class 'numpy.float64'>\n",
      "  econn:\n",
      "    (487, 3) array of int32\n",
      "  econn0:\n",
      "    None\n",
      "  edge_dofs:\n",
      "    None\n",
      "  edge_remap:\n",
      "    None\n",
      "  efaces:\n",
      "    (3, 2) array of int32\n",
      "  extra_data:\n",
      "    dict with keys: []\n",
      "  face_dofs:\n",
      "    None\n",
      "  face_remap:\n",
      "    None\n",
      "  force_bubble:\n",
      "    False\n",
      "  gel:\n",
      "    GeometryElement:2_3\n",
      "  is_surface:\n",
      "    False\n",
      "  mappings:\n",
      "    dict with keys: []\n",
      "  mappings0:\n",
      "    dict with keys: []\n",
      "  n_bubble_dof:\n",
      "    0\n",
      "  n_components:\n",
      "    2\n",
      "  n_edge_dof:\n",
      "    0\n",
      "  n_face_dof:\n",
      "    0\n",
      "  n_nod:\n",
      "    279\n",
      "  n_vertex_dof:\n",
      "    279\n",
      "  name:\n",
      "    stress-compression\n",
      "  node_desc:\n",
      "    NodeDescription\n",
      "  ori:\n",
      "    None\n",
      "  poly_space:\n",
      "    LagrangeSimplexPolySpace:2_3_H1_lagrange_1\n",
      "  poly_space_base:\n",
      "    lagrange\n",
      "  qp_coors:\n",
      "    dict with keys: []\n",
      "  region:\n",
      "    Region:Omega\n",
      "  shape:\n",
      "    tuple: (2,)\n",
      "  space:\n",
      "    H1\n",
      "  stored_subs:\n",
      "    None\n",
      "  unused_dofs:\n",
      "    None\n",
      "  val_shape:\n",
      "    tuple: (2,)\n",
      "  vertex_remap:\n",
      "    (279,) array of int32\n",
      "  vertex_remap_i:\n",
      "    (279,) array of int32\n"
     ]
    }
   ],
   "source": [
    "print(compressive_field1)"
   ]
  },
  {
   "cell_type": "code",
   "execution_count": 164,
   "metadata": {},
   "outputs": [],
   "source": [
    "# Create a FieldVariable for the compressive stress (vector field)\n",
    "from sfepy.discrete import FieldVariable\n",
    "compressive_stress_var = FieldVariable('compressive_stress', 'parameter', compressive_field1, primary_var_name='(set-to-None)')\n",
    "\n",
    "# Set data for the vector field\n",
    "compressive_stress_var.set_data(compressive_stress_data)\n",
    "\n",
    "# Save as a VTK file for visualization\n",
    "# compressive_field.save_as_mesh('compressive_stress_vector.vtk')"
   ]
  },
  {
   "cell_type": "code",
   "execution_count": 165,
   "metadata": {},
   "outputs": [],
   "source": [
    "out = compressive_stress_var.create_output()"
   ]
  },
  {
   "cell_type": "code",
   "execution_count": 166,
   "metadata": {},
   "outputs": [
    {
     "data": {
      "text/html": [
       "<pre style=\"white-space:pre;overflow-x:auto;line-height:normal;font-family:Menlo,'DejaVu Sans Mono',consolas,'Courier New',monospace\"><span style=\"color: #808000; text-decoration-color: #808000; font-weight: bold\">Warning:</span><span style=\"color: #808000; text-decoration-color: #808000\"> VTK requires 3D vectors, but 2D vectors given. Appending </span><span style=\"color: #808000; text-decoration-color: #808000; font-weight: bold\">0</span><span style=\"color: #808000; text-decoration-color: #808000\"> third component to compressive_stress.</span>\n",
       "</pre>\n"
      ],
      "text/plain": [
       "\u001b[1;33mWarning:\u001b[0m\u001b[33m VTK requires 3D vectors, but 2D vectors given. Appending \u001b[0m\u001b[1;33m0\u001b[0m\u001b[33m third component to compressive_stress.\u001b[0m\n"
      ]
     },
     "metadata": {},
     "output_type": "display_data"
    }
   ],
   "source": [
    "pb.save_state('triangle_compressive_stress.vtk', out=out)"
   ]
  },
  {
   "cell_type": "code",
   "execution_count": null,
   "metadata": {},
   "outputs": [],
   "source": []
  }
 ],
 "metadata": {
  "kernelspec": {
   "display_name": "physics_env",
   "language": "python",
   "name": "python3"
  },
  "language_info": {
   "codemirror_mode": {
    "name": "ipython",
    "version": 3
   },
   "file_extension": ".py",
   "mimetype": "text/x-python",
   "name": "python",
   "nbconvert_exporter": "python",
   "pygments_lexer": "ipython3",
   "version": "3.12.5"
  }
 },
 "nbformat": 4,
 "nbformat_minor": 2
}
