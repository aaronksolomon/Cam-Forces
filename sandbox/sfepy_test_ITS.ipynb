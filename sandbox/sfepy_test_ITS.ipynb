{
 "cells": [
  {
   "cell_type": "code",
   "execution_count": 22,
   "metadata": {},
   "outputs": [],
   "source": [
    "import numpy as np\n",
    "\n",
    "import sys\n",
    "sys.path.append('.')\n",
    "\n",
    "from sfepy.base.base import output, IndexedStruct\n",
    "from sfepy.discrete import (FieldVariable, Material, Integral, Integrals,\n",
    "                            Equation, Equations, Problem)\n",
    "from sfepy.discrete.fem import Mesh, FEDomain, Field\n",
    "from sfepy.terms import Term\n",
    "from sfepy.discrete.conditions import Conditions, EssentialBC\n",
    "from sfepy.solvers.ls import ScipyDirect\n",
    "from sfepy.solvers.nls import Newton\n",
    "from sfepy.mechanics.matcoefs import stiffness_from_youngpoisson\n",
    "from sfepy import data_dir\n",
    "from sfepy.solvers.auto_fallback import AutoDirect\n",
    "\n"
   ]
  },
  {
   "cell_type": "code",
   "execution_count": 27,
   "metadata": {},
   "outputs": [
    {
     "name": "stdout",
     "output_type": "stream",
     "text": [
      "sfepy: reading mesh (triangle2d.mesh)...\n",
      "sfepy:   number of vertices: 279\n",
      "sfepy:   number of cells:\n",
      "sfepy:     2_3: 487\n",
      "sfepy: ...done in 0.01 s\n",
      "sfepy: updating variables...\n",
      "sfepy: ...done\n",
      "sfepy: setting up dof connectivities...\n",
      "sfepy: ...done in 0.00 s\n",
      "sfepy: matrix shape: (2006, 2006)\n",
      "sfepy: assembling matrix graph...\n",
      "sfepy: ...done in 0.00 s\n",
      "sfepy: matrix structural nonzeros: 43340 (1.08e+00% fill)\n",
      "sfepy: updating variables...\n",
      "sfepy: ...done\n",
      "sfepy: updating materials...\n",
      "sfepy:     Load\n",
      "sfepy:     Aluminum\n",
      "sfepy: ...done in 0.00 s\n",
      "sfepy: nls: iter: 0, residual: 1.057962e+03 (rel: 1.000000e+00)\n",
      "sfepy:   residual:    0.00 [s]\n",
      "sfepy:     matrix:    0.00 [s]\n",
      "sfepy:      solve:    0.01 [s]\n",
      "sfepy: nls: iter: 1, residual: 2.804157e-12 (rel: 2.650528e-15)\n"
     ]
    },
    {
     "data": {
      "text/html": [
       "<pre style=\"white-space:pre;overflow-x:auto;line-height:normal;font-family:Menlo,'DejaVu Sans Mono',consolas,'Courier New',monospace\"><span style=\"color: #808000; text-decoration-color: #808000; font-weight: bold\">Warning:</span><span style=\"color: #808000; text-decoration-color: #808000\"> VTK requires 3D vectors, but 2D vectors given. Appending </span><span style=\"color: #808000; text-decoration-color: #808000; font-weight: bold\">0</span><span style=\"color: #808000; text-decoration-color: #808000\"> third component to u.</span>\n",
       "</pre>\n"
      ],
      "text/plain": [
       "\u001b[1;33mWarning:\u001b[0m\u001b[33m VTK requires 3D vectors, but 2D vectors given. Appending \u001b[0m\u001b[1;33m0\u001b[0m\u001b[33m third component to u.\u001b[0m\n"
      ]
     },
     "metadata": {},
     "output_type": "display_data"
    },
    {
     "name": "stdout",
     "output_type": "stream",
     "text": [
      "sfepy: solved in 1 steps in 0.02 seconds\n",
      "sfepy: IndexedStruct\n",
      "  condition:\n",
      "    0\n",
      "  err:\n",
      "    2.804157190841315e-12\n",
      "  err0:\n",
      "    1057.9618842507898\n",
      "  ls_n_iter:\n",
      "    -1\n",
      "  n_iter:\n",
      "    1\n",
      "  time:\n",
      "    0.0139307499921415\n",
      "  time_stats:\n",
      "    dict with keys: ['residual', 'matrix', 'solve']\n",
      "sfepy: equation \"tmp\":\n",
      "sfepy: ev_cauchy_strain.2.Omega(u)\n",
      "sfepy: updating materials...\n",
      "sfepy: ...done in 0.00 s\n"
     ]
    }
   ],
   "source": [
    "# Build the problem definition.\n",
    "#mesh = Mesh.from_file(data_dir + '/meshes/2d/its2D.mesh')\n",
    "\n",
    "mesh = Mesh.from_file('triangle2d.mesh')\n",
    "domain = FEDomain('domain', mesh)\n",
    "\n",
    "omega = domain.create_region('Omega', 'all')\n",
    "top = domain.create_region('Top', 'vertex 3', 'vertex')\n",
    "bottom_left = domain.create_region('Bottom_Left', 'vertex 1', 'vertex')                                        \n",
    "bottom_right = domain.create_region('Bottom_Right', 'vertex 2', 'vertex')\n",
    "left = domain.create_region('Left',\n",
    "                            'vertices in x < 0.001', 'facet')\n",
    "bottom = domain.create_region('Bottom',\n",
    "                                'vertices in y < 0.001', 'facet')\n",
    "top = domain.create_region('Top', 'vertex 3', 'vertex')\n",
    "\n",
    "field = Field.from_args('fu', np.float64, 'vector', omega,\n",
    "                        approx_order=2)\n",
    "\n",
    "u = FieldVariable('u', 'unknown', field)\n",
    "v = FieldVariable('v', 'test', field, primary_var_name='u')\n",
    "\n",
    "# define elastic properties:\n",
    "# Aluminum properties in SI units\n",
    "E = 7.0e10  # Young's Modulus in Pa (70 GPa for Aluminum)\n",
    "nu = 0.33  # Poisson's ratio for Aluminum\n",
    "D = stiffness_from_youngpoisson(2, young=E, poisson=nu)\n",
    "\n",
    "aluminum = Material('Aluminum', D=D)\n",
    "\n",
    "#set up loading:\n",
    "# Define forces in Newtons\n",
    "fy = 6 * 1e3  # (kn)\n",
    "force_ratio = np.tan(np.radians(10))  # Work with an angle of 10 degrees.\n",
    "fx = fy * force_ratio  # Horizontal force\n",
    "load = Material('Load', values={'.val' : [fx, fy]})\n",
    "\n",
    "integral = Integral('i', order=2)\n",
    "integral0 = Integral('i', order=0)\n",
    "\n",
    "t1 = Term.new('dw_lin_elastic(Aluminum.D, v, u)',\n",
    "                integral, omega, Aluminum=aluminum, v=v, u=u)\n",
    "t2 = Term.new('dw_point_load(Load.val, v)',\n",
    "                integral0, top, Load=load, v=v)\n",
    "eq = Equation('balance', t1 - t2)\n",
    "eqs = Equations([eq])\n",
    "\n",
    "xsym = EssentialBC('XSym', bottom, {'u.1' : 0.0})\n",
    "ysym = EssentialBC('YSym', left, {'u.0' : 0.0})\n",
    "\n",
    "ls = ScipyDirect({})\n",
    "\n",
    "nls_status = IndexedStruct()\n",
    "nls = Newton({}, lin_solver=ls, status=nls_status)\n",
    "\n",
    "pb = Problem('elasticity', equations=eqs)\n",
    "\n",
    "pb.set_bcs(ebcs=Conditions([xsym, ysym]))\n",
    "\n",
    "pb.set_solver(nls)\n",
    "\n",
    "# Solve the problem.\n",
    "variables = pb.solve()\n",
    "output(nls_status)\n",
    "\n",
    "# Postprocess the solution.\n",
    "out = variables.create_output()\n",
    "\n",
    "ev = pb.evaluate\n",
    "strain = ev('ev_cauchy_strain.2.Omega(u)', mode='el_avg')\n",
    "#out = stress_strain(out, pb, variables, extend=True)\n",
    "#pb.save_state('its2D_interactive.vtk', out=out)\n",
    "\n"
   ]
  },
  {
   "cell_type": "code",
   "execution_count": 18,
   "metadata": {},
   "outputs": [
    {
     "name": "stdout",
     "output_type": "stream",
     "text": [
      "2024.2\n"
     ]
    }
   ],
   "source": [
    "import sfepy\n",
    "print(sfepy.__version__)\n"
   ]
  },
  {
   "cell_type": "code",
   "execution_count": null,
   "metadata": {},
   "outputs": [],
   "source": []
  }
 ],
 "metadata": {
  "kernelspec": {
   "display_name": "physics_env",
   "language": "python",
   "name": "python3"
  },
  "language_info": {
   "codemirror_mode": {
    "name": "ipython",
    "version": 3
   },
   "file_extension": ".py",
   "mimetype": "text/x-python",
   "name": "python",
   "nbconvert_exporter": "python",
   "pygments_lexer": "ipython3",
   "version": "3.12.5"
  }
 },
 "nbformat": 4,
 "nbformat_minor": 2
}
