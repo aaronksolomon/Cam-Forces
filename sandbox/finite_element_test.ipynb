{
 "cells": [
  {
   "cell_type": "code",
   "execution_count": 4,
   "metadata": {},
   "outputs": [],
   "source": [
    "\n",
    "\"\"\"\n",
    "Linear elasticity example \n",
    "\"\"\"\n",
    "import numpy as nm\n",
    "\n",
    "import sys\n",
    "sys.path.append('.')\n",
    "\n",
    "from sfepy.base.base import IndexedStruct\n",
    "from sfepy.discrete import (FieldVariable, Material, Integral, Function,\n",
    "                            Equation, Equations, Problem)\n",
    "from sfepy.discrete.fem import Mesh, FEDomain, Field\n",
    "from sfepy.terms import Term\n",
    "from sfepy.discrete.conditions import Conditions, EssentialBC\n",
    "from sfepy.solvers.ls import ScipyDirect\n",
    "from sfepy.solvers.nls import Newton\n",
    "from sfepy.mechanics.matcoefs import stiffness_from_lame\n",
    "\n",
    "\n",
    "def shift_u_fun(ts, coors, bc=None, problem=None, shift=0.0):\n",
    "    \"\"\"\n",
    "    Define a displacement depending on the y coordinate.\n",
    "    \"\"\"\n",
    "    val = shift * coors[:,1]**2\n",
    "\n",
    "    return val\n",
    "\n"
   ]
  },
  {
   "cell_type": "code",
   "execution_count": 10,
   "metadata": {},
   "outputs": [
    {
     "name": "stdout",
     "output_type": "stream",
     "text": [
      "sfepy: reading mesh (triangle2d.mesh)...\n",
      "sfepy:   number of vertices: 279\n",
      "sfepy:   number of cells:\n",
      "sfepy:     2_3: 487\n",
      "sfepy: ...done in 0.00 s\n",
      "sfepy: saving regions as groups...\n",
      "sfepy:   Omega\n",
      "sfepy:   Gamma1\n",
      "sfepy:   Gamma2\n",
      "sfepy: ...done\n",
      "sfepy: updating variables...\n",
      "sfepy: ...done\n",
      "sfepy: setting up dof connectivities...\n",
      "sfepy: ...done in 0.00 s\n",
      "sfepy: matrix shape: (1680, 1680)\n",
      "sfepy: assembling matrix graph...\n",
      "sfepy: ...done in 0.00 s\n",
      "sfepy: matrix structural nonzeros: 36242 (1.28e+00% fill)\n",
      "sfepy: updating variables...\n",
      "sfepy: ...done\n",
      "sfepy: updating materials...\n",
      "sfepy:     m\n",
      "sfepy:     f\n",
      "sfepy: ...done in 0.00 s\n",
      "sfepy: nls: iter: 0, residual: 4.084493e-04 (rel: 1.000000e+00)\n",
      "sfepy:   residual:    0.00 [s]\n",
      "sfepy:     matrix:    0.00 [s]\n",
      "sfepy:      solve:    0.00 [s]\n",
      "sfepy: nls: iter: 1, residual: 1.127107e-16 (rel: 2.759479e-13)\n"
     ]
    },
    {
     "data": {
      "text/html": [
       "<pre style=\"white-space:pre;overflow-x:auto;line-height:normal;font-family:Menlo,'DejaVu Sans Mono',consolas,'Courier New',monospace\"><span style=\"color: #808000; text-decoration-color: #808000; font-weight: bold\">Warning:</span><span style=\"color: #808000; text-decoration-color: #808000\"> VTK requires 3D vectors, but 2D vectors given. Appending </span><span style=\"color: #808000; text-decoration-color: #808000; font-weight: bold\">0</span><span style=\"color: #808000; text-decoration-color: #808000\"> third component to u.</span>\n",
       "</pre>\n"
      ],
      "text/plain": [
       "\u001b[1;33mWarning:\u001b[0m\u001b[33m VTK requires 3D vectors, but 2D vectors given. Appending \u001b[0m\u001b[1;33m0\u001b[0m\u001b[33m third component to u.\u001b[0m\n"
      ]
     },
     "metadata": {},
     "output_type": "display_data"
    },
    {
     "name": "stdout",
     "output_type": "stream",
     "text": [
      "sfepy: solved in 1 steps in 0.01 seconds\n",
      "Nonlinear solver status:\n",
      " IndexedStruct\n",
      "  condition:\n",
      "    0\n",
      "  err:\n",
      "    1.127107340625907e-16\n",
      "  err0:\n",
      "    0.0004084493399455091\n",
      "  ls_n_iter:\n",
      "    -1\n",
      "  n_iter:\n",
      "    1\n",
      "  time:\n",
      "    0.007282167003722861\n",
      "  time_stats:\n",
      "    dict with keys: ['residual', 'matrix', 'solve']\n",
      "Stationary solver status:\n",
      " IndexedStruct\n",
      "  n_step:\n",
      "    1\n",
      "  time:\n",
      "    0.01068404199759243\n"
     ]
    },
    {
     "data": {
      "text/html": [
       "<pre style=\"white-space:pre;overflow-x:auto;line-height:normal;font-family:Menlo,'DejaVu Sans Mono',consolas,'Courier New',monospace\"><span style=\"color: #808000; text-decoration-color: #808000; font-weight: bold\">Warning:</span><span style=\"color: #808000; text-decoration-color: #808000\"> VTK requires 3D vectors, but 2D vectors given. Appending </span><span style=\"color: #808000; text-decoration-color: #808000; font-weight: bold\">0</span><span style=\"color: #808000; text-decoration-color: #808000\"> third component to u.</span>\n",
       "</pre>\n"
      ],
      "text/plain": [
       "\u001b[1;33mWarning:\u001b[0m\u001b[33m VTK requires 3D vectors, but 2D vectors given. Appending \u001b[0m\u001b[1;33m0\u001b[0m\u001b[33m third component to u.\u001b[0m\n"
      ]
     },
     "metadata": {},
     "output_type": "display_data"
    }
   ],
   "source": [
    "from sfepy import data_dir\n",
    "\n",
    "#mesh = Mesh.from_file(data_dir + '/meshes/2d/rectangle_tri.mesh')\n",
    "mesh = Mesh.from_file('triangle2d.mesh')\n",
    "domain = FEDomain('domain', mesh)\n",
    "\n",
    "min_x, max_x = domain.get_mesh_bounding_box()[:,0]\n",
    "#eps = 1e-8 * (max_x - min_x)\n",
    "eps = 0.1 * (max_x - min_x)\n",
    "\n",
    "omega = domain.create_region('Omega', 'all')\n",
    "gamma1 = domain.create_region('Gamma1',\n",
    "                                'vertices in x < %.10f' % (min_x + eps),\n",
    "                                'facet')\n",
    "gamma2 = domain.create_region('Gamma2',\n",
    "                                'vertices in x > %.10f' % (max_x - eps),\n",
    "                                'facet')\n",
    "\n",
    "field = Field.from_args('fu', nm.float64, 'vector', omega,\n",
    "                        approx_order=2)\n",
    "\n",
    "u = FieldVariable('u', 'unknown', field)\n",
    "v = FieldVariable('v', 'test', field, primary_var_name='u')\n",
    "\n",
    "m = Material('m', D=stiffness_from_lame(dim=2, lam=1.0, mu=1.0))\n",
    "f = Material('f', val=[[0.02], [0.01]])\n",
    "\n",
    "integral = Integral('i', order=3)\n",
    "\n",
    "t1 = Term.new('dw_lin_elastic(m.D, v, u)',\n",
    "                integral, omega, m=m, v=v, u=u)\n",
    "t2 = Term.new('dw_volume_lvf(f.val, v)', integral, omega, f=f, v=v)\n",
    "eq = Equation('balance', t1 + t2)\n",
    "eqs = Equations([eq])\n",
    "\n",
    "fix_u = EssentialBC('fix_u', gamma1, {'u.all' : 0.0})\n",
    "\n",
    "bc_fun = Function('shift_u_fun', shift_u_fun,\n",
    "                    extra_args={'shift' : 0.01})\n",
    "shift_u = EssentialBC('shift_u', gamma2, {'u.0' : bc_fun})\n",
    "\n",
    "ls = ScipyDirect({})\n",
    "\n",
    "nls_status = IndexedStruct()\n",
    "nls = Newton({}, lin_solver=ls, status=nls_status)\n",
    "\n",
    "pb = Problem('elasticity', equations=eqs)\n",
    "pb.save_regions_as_groups('regions')\n",
    "\n",
    "pb.set_bcs(ebcs=Conditions([fix_u, shift_u]))\n",
    "\n",
    "pb.set_solver(nls)\n",
    "\n",
    "status = IndexedStruct()\n",
    "variables = pb.solve(status=status)\n",
    "\n",
    "print('Nonlinear solver status:\\n', nls_status)\n",
    "print('Stationary solver status:\\n', status)\n",
    "\n",
    "pb.save_state('linear_elasticity.vtk', variables)\n"
   ]
  },
  {
   "cell_type": "code",
   "execution_count": null,
   "metadata": {},
   "outputs": [],
   "source": []
  }
 ],
 "metadata": {
  "kernelspec": {
   "display_name": "physics_env",
   "language": "python",
   "name": "python3"
  },
  "language_info": {
   "codemirror_mode": {
    "name": "ipython",
    "version": 3
   },
   "file_extension": ".py",
   "mimetype": "text/x-python",
   "name": "python",
   "nbconvert_exporter": "python",
   "pygments_lexer": "ipython3",
   "version": "3.12.5"
  }
 },
 "nbformat": 4,
 "nbformat_minor": 2
}
