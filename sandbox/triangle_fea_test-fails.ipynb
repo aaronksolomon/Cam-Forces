{
 "cells": [
  {
   "cell_type": "code",
   "execution_count": 1,
   "metadata": {},
   "outputs": [],
   "source": [
    "# all imports\n",
    "\n",
    "import numpy as np\n",
    "\n",
    "import sys\n",
    "sys.path.append('.')\n",
    "\n",
    "from sfepy.base.base import IndexedStruct, Struct\n",
    "from sfepy.discrete import (FieldVariable, Material, Integral, Integrals,\n",
    "                            Equation, Equations, Problem)\n",
    "from sfepy.discrete.fem import Mesh, FEDomain, Field\n",
    "from sfepy.terms import Term\n",
    "from sfepy.discrete.conditions import Conditions, EssentialBC\n",
    "from sfepy.solvers.ls import ScipyDirect\n",
    "from sfepy.solvers.nls import Newton\n",
    "from sfepy.mechanics.matcoefs import stiffness_from_youngpoisson"
   ]
  },
  {
   "cell_type": "code",
   "execution_count": 2,
   "metadata": {},
   "outputs": [],
   "source": [
    "# this is the postprocessing function from sfepy.examples.linear_elasticity.its2D_2\n",
    "def stress_strain(out, pb, state):\n",
    "    \"\"\"\n",
    "    Calculate and output strain and stress for given displacements.\n",
    "    \"\"\"\n",
    "    from sfepy.base.base import Struct\n",
    "\n",
    "    ev = pb.evaluate\n",
    "    strain = ev('ev_cauchy_strain.2.Surface(u)', mode='el_avg')\n",
    "    stress = ev('ev_cauchy_stress.2.Surface(Aluminum.D, u)', mode='el_avg',\n",
    "                copy_materials=False)\n",
    "\n",
    "    out['cauchy_strain'] = Struct(name='output_data', mode='cell',\n",
    "                                  data=strain, dofs=None)\n",
    "    out['cauchy_stress'] = Struct(name='output_data', mode='cell',\n",
    "                                  data=stress, dofs=None)\n",
    "\n",
    "    return out\n"
   ]
  },
  {
   "cell_type": "code",
   "execution_count": 3,
   "metadata": {},
   "outputs": [],
   "source": [
    "def nodal_stress(pb, integrals=None):\n",
    "    '''\n",
    "    Calculate and print stresses at nodal points.\n",
    "    '''\n",
    "    # Update problem time\n",
    "    pb.time_update()\n",
    "\n",
    "    if integrals is None:\n",
    "        integrals = pb.get_integrals()\n",
    "\n",
    "    # Evaluate stress at quadrature points\n",
    "    stress = pb.evaluate('ev_cauchy_stress.ivn.Surface(Aluminum.D, u)', mode='qp', \n",
    "                         integrals=integrals, copy_materials=False)\n",
    "    \n",
    "    # Create stress field variable from quadrature points\n",
    "    sfield = Field.from_args('stress', np.float64, (3,), \n",
    "                             pb.domain.regions['Surface'])\n",
    "    svar = FieldVariable('sigma', 'parameter', sfield, \n",
    "                         primary_var_name='(set-to-None)')\n",
    "    svar.set_from_qp(stress, integrals['ivn'])\n",
    "\n",
    "    return svar()"
   ]
  },
  {
   "cell_type": "code",
   "execution_count": 4,
   "metadata": {},
   "outputs": [
    {
     "name": "stdout",
     "output_type": "stream",
     "text": [
      "sfepy: reading mesh (triangle2d.mesh)...\n",
      "sfepy:   number of vertices: 279\n",
      "sfepy:   number of cells:\n",
      "sfepy:     2_3: 487\n",
      "sfepy: ...done in 0.00 s\n"
     ]
    }
   ],
   "source": [
    "\"\"\"\n",
    "Testing a triangle under load\n",
    "\"\"\"\n",
    "\n",
    "# Aluminum properties in SI units\n",
    "E = 7.0e10  # Young's Modulus in Pa (70 GPa for Aluminum)\n",
    "nu = 0.33  # Poisson's ratio for Aluminum\n",
    "\n",
    "# Define forces in Newtons\n",
    "fy = 6 * 1e3  # Example force in the y-direction (kn)\n",
    "force_ratio = np.tan(np.radians(10))  # Work with an angle of 10 degrees.\n",
    "fx = fy * force_ratio  # Horizontal force\n",
    "\n",
    "mesh = Mesh.from_file('triangle2d.mesh')\n",
    "domain = FEDomain('domain', mesh)\n",
    "\n",
    "# Get the bounding box of the domain to determine the boundary values\n",
    "# min_x, max_x = domain.get_mesh_bounding_box()[:, 0]\n",
    "# min_y, max_y = domain.get_mesh_bounding_box()[:, 1]\n",
    "\n",
    "# print(min_x, max_x)\n",
    "# print(min_y, max_y)\n",
    "\n",
    "# # Define a small epsilon value for numerical tolerance\n",
    "# eps = 1e-8 * (max_x - min_x)\n",
    "\n",
    "#set up entire region as Omega\n",
    "Surface = domain.create_region('Surface', 'all')\n",
    "\n",
    "# Create regions for the top and bottom vertices at  (0, 1), (0,0) and (1,0)\n",
    "Top = domain.create_region('Top', 'vertex 3', 'vertex')\n",
    "Bottom_Left = domain.create_region('Bottom_Left', 'vertex 1', 'vertex')                                        \n",
    "Bottom_Right = domain.create_region('Bottom_Right', 'vertex 2', 'vertex')\n",
    "\n",
    "field = Field.from_args('fu', np.float64, 'vector', Surface, approx_order=2)\n",
    "\n",
    "u = FieldVariable('u', 'unknown', field)\n",
    "v = FieldVariable('v', 'test', field, primary_var_name='u')\n",
    "\n",
    "# define elastic properties:\n",
    "# Aluminum properties in SI units\n",
    "E = 7.0e10  # Young's Modulus in Pa (70 GPa for Aluminum)\n",
    "nu = 0.33  # Poisson's ratio for Aluminum\n",
    "aluminum = Material('Aluminum', D=stiffness_from_youngpoisson(2, young=E, poisson=nu))\n",
    "\n",
    "# # Define the force material load (force vector in the x,y-directions)\n",
    "load = Material('Load', values={'.val' : [fx, fy]})\n",
    "\n",
    "# Use order 2 integrals\n",
    "integral2 = Integral('i', order=2)\n",
    "integral0 = Integral('i', order=0)\n",
    "\n",
    "# Set up linear elastic conditions \n",
    "t_elastic = Term.new('dw_lin_elastic(Aluminum.D, v, u)',\n",
    "                integral2, Surface, Aluminum=aluminum, v=v, u=u)\n",
    "\n",
    "# Apply the force at the top vertex using a volume load\n",
    "t_load = Term.new('dw_point_load(Load.val, v)', integral0, Top, Load=load, v=v)\n",
    "\n",
    "eq = Equation('balance', t_elastic + t_load)\n",
    "eqs = Equations([eq])\n",
    "\n",
    "# Apply boundary conditions to the two bottom vertices\n",
    "fix_bottom_left = EssentialBC('fix_bottom_left', Bottom_Left, {'u.all': 0.0})  # Fix both x and y displacements\n",
    "fix_bottom_right = EssentialBC('fix_bottom_right', Bottom_Right, {'u.all': 0.0})  # Fix both x and y displacements\n",
    "\n",
    "ls = ScipyDirect({})\n",
    "\n",
    "nls_status = IndexedStruct()\n",
    "nls = Newton({}, lin_solver=ls, status=nls_status)\n",
    "\n"
   ]
  },
  {
   "cell_type": "code",
   "execution_count": 5,
   "metadata": {},
   "outputs": [
    {
     "name": "stdout",
     "output_type": "stream",
     "text": [
      "sfepy: saving regions as groups...\n",
      "sfepy:   Surface\n",
      "sfepy:   Top\n",
      "sfepy:   Bottom_Left\n",
      "sfepy:   Bottom_Right\n",
      "sfepy: ...done\n"
     ]
    }
   ],
   "source": [
    "pb = Problem('triangle load', equations=eqs)\n",
    "\n",
    "pb.save_regions_as_groups('regions')\n",
    "\n",
    "# Add the boundary conditions to the problem setup\n",
    "pb.set_bcs(ebcs=Conditions([fix_bottom_left, fix_bottom_right]))\n",
    "\n",
    "# Set up and solve the problem\n",
    "pb.set_solver(nls)\n",
    "\n",
    "status = IndexedStruct()\n"
   ]
  },
  {
   "cell_type": "code",
   "execution_count": 6,
   "metadata": {},
   "outputs": [
    {
     "name": "stdout",
     "output_type": "stream",
     "text": [
      "sfepy: updating variables...\n",
      "sfepy: ...done\n",
      "sfepy: setting up dof connectivities...\n",
      "sfepy: ...done in 0.00 s\n",
      "sfepy: matrix shape: (2084, 2084)\n",
      "sfepy: assembling matrix graph...\n",
      "sfepy: ...done in 0.00 s\n",
      "sfepy: matrix structural nonzeros: 45824 (1.06e+00% fill)\n",
      "sfepy: updating variables...\n",
      "sfepy: ...done\n",
      "sfepy: updating materials...\n",
      "sfepy:     Load\n",
      "sfepy:     Aluminum\n",
      "sfepy: ...done in 0.00 s\n",
      "sfepy: nls: iter: 0, residual: 6.092560e+03 (rel: 1.000000e+00)\n",
      "sfepy:   residual:    0.01 [s]\n",
      "sfepy:     matrix:    0.00 [s]\n",
      "sfepy:      solve:    0.01 [s]\n",
      "sfepy: warning: linear system solution precision is lower then the value set in solver options! (err = 1.974852e-09 < 1.000000e-10)\n",
      "sfepy: nls: iter: 1, residual: 1.998187e-09 (rel: 3.279716e-13)\n"
     ]
    },
    {
     "data": {
      "text/html": [
       "<pre style=\"white-space:pre;overflow-x:auto;line-height:normal;font-family:Menlo,'DejaVu Sans Mono',consolas,'Courier New',monospace\"><span style=\"color: #808000; text-decoration-color: #808000; font-weight: bold\">Warning:</span><span style=\"color: #808000; text-decoration-color: #808000\"> VTK requires 3D vectors, but 2D vectors given. Appending </span><span style=\"color: #808000; text-decoration-color: #808000; font-weight: bold\">0</span><span style=\"color: #808000; text-decoration-color: #808000\"> third component to u.</span>\n",
       "</pre>\n"
      ],
      "text/plain": [
       "\u001b[1;33mWarning:\u001b[0m\u001b[33m VTK requires 3D vectors, but 2D vectors given. Appending \u001b[0m\u001b[1;33m0\u001b[0m\u001b[33m third component to u.\u001b[0m\n"
      ]
     },
     "metadata": {},
     "output_type": "display_data"
    },
    {
     "name": "stdout",
     "output_type": "stream",
     "text": [
      "sfepy: solved in 1 steps in 0.03 seconds\n",
      "Nonlinear solver status:\n",
      " IndexedStruct\n",
      "  condition:\n",
      "    1\n",
      "  err:\n",
      "    1.9981868000187418e-09\n",
      "  err0:\n",
      "    6092.5596713144705\n",
      "  ls_n_iter:\n",
      "    -1\n",
      "  n_iter:\n",
      "    1\n",
      "  time:\n",
      "    0.021584250003797933\n",
      "  time_stats:\n",
      "    dict with keys: ['residual', 'matrix', 'solve']\n",
      "Stationary solver status:\n",
      " IndexedStruct\n",
      "  n_step:\n",
      "    1\n",
      "  time:\n",
      "    0.02864400000544265\n"
     ]
    }
   ],
   "source": [
    "variables = pb.solve(status=status)\n",
    "\n",
    "print('Nonlinear solver status:\\n', nls_status)\n",
    "print('Stationary solver status:\\n', status)\n",
    "\n",
    "#pb.save_state('triangle_load.vtk', variables)"
   ]
  },
  {
   "cell_type": "code",
   "execution_count": 7,
   "metadata": {},
   "outputs": [
    {
     "name": "stdout",
     "output_type": "stream",
     "text": [
      "sfepy: equation \"tmp\":\n",
      "sfepy: ev_cauchy_strain.2.Surface(u)\n",
      "sfepy: updating materials...\n",
      "sfepy: ...done in 0.00 s\n"
     ]
    }
   ],
   "source": [
    "ev = pb.evaluate\n",
    "\n",
    "strain = ev('ev_cauchy_strain.2.Surface(u)', mode='el_avg')\n",
    "#stress = ev('ev_cauchy_stress.2.Surface(Aluminum.D, u)', mode='el_avg',\n",
    "#                copy_materials=False)"
   ]
  },
  {
   "cell_type": "code",
   "execution_count": 8,
   "metadata": {},
   "outputs": [
    {
     "name": "stdout",
     "output_type": "stream",
     "text": [
      "sfepy: equation \"tmp\":\n",
      "sfepy: ev_cauchy_strain.2.Surface(u)\n",
      "sfepy: updating materials...\n",
      "sfepy: ...done in 0.00 s\n",
      "sfepy: equation \"tmp\":\n",
      "sfepy: ev_cauchy_stress.2.Surface(Aluminum.D, u)\n",
      "sfepy: updating materials...\n",
      "sfepy:     Aluminum\n",
      "sfepy: ...done in 0.00 s\n"
     ]
    },
    {
     "data": {
      "text/html": [
       "<pre style=\"white-space:pre;overflow-x:auto;line-height:normal;font-family:Menlo,'DejaVu Sans Mono',consolas,'Courier New',monospace\"><span style=\"color: #808000; text-decoration-color: #808000; font-weight: bold\">Warning:</span><span style=\"color: #808000; text-decoration-color: #808000\"> VTK requires 3D vectors, but 2D vectors given. Appending </span><span style=\"color: #808000; text-decoration-color: #808000; font-weight: bold\">0</span><span style=\"color: #808000; text-decoration-color: #808000\"> third component to u.</span>\n",
       "</pre>\n"
      ],
      "text/plain": [
       "\u001b[1;33mWarning:\u001b[0m\u001b[33m VTK requires 3D vectors, but 2D vectors given. Appending \u001b[0m\u001b[1;33m0\u001b[0m\u001b[33m third component to u.\u001b[0m\n"
      ]
     },
     "metadata": {},
     "output_type": "display_data"
    },
    {
     "name": "stdout",
     "output_type": "stream",
     "text": [
      "sfepy: updating variables...\n",
      "sfepy: ...done\n",
      "sfepy: equation \"tmp\":\n",
      "sfepy: ev_cauchy_stress.ivn.Surface(Aluminum.D, u)\n",
      "sfepy: updating materials...\n",
      "sfepy:     Aluminum\n",
      "sfepy: ...done in 0.00 s\n"
     ]
    },
    {
     "ename": "IndexError",
     "evalue": "too many indices for array: array is 1-dimensional, but 2 were indexed",
     "output_type": "error",
     "traceback": [
      "\u001b[0;31m---------------------------------------------------------------------------\u001b[0m",
      "\u001b[0;31mIndexError\u001b[0m                                Traceback (most recent call last)",
      "Cell \u001b[0;32mIn[8], line 25\u001b[0m\n\u001b[1;32m     21\u001b[0m specific_nodes \u001b[38;5;241m=\u001b[39m [\u001b[38;5;241m0\u001b[39m, \u001b[38;5;241m1\u001b[39m, \u001b[38;5;241m2\u001b[39m]  \u001b[38;5;66;03m# Replace these with actual node indices you're interested in\u001b[39;00m\n\u001b[1;32m     23\u001b[0m \u001b[38;5;28;01mfor\u001b[39;00m node \u001b[38;5;129;01min\u001b[39;00m specific_nodes:\n\u001b[1;32m     24\u001b[0m     \u001b[38;5;66;03m# Horizontal tensile stress (sigma_xx)\u001b[39;00m\n\u001b[0;32m---> 25\u001b[0m     sigma_xx \u001b[38;5;241m=\u001b[39m \u001b[43msdata\u001b[49m\u001b[43m[\u001b[49m\u001b[43mnode\u001b[49m\u001b[43m,\u001b[49m\u001b[43m \u001b[49m\u001b[38;5;241;43m0\u001b[39;49m\u001b[43m]\u001b[49m\n\u001b[1;32m     27\u001b[0m     \u001b[38;5;66;03m# Vertical compressive stress (sigma_yy)\u001b[39;00m\n\u001b[1;32m     28\u001b[0m     sigma_yy \u001b[38;5;241m=\u001b[39m sdata[node, \u001b[38;5;241m1\u001b[39m]\n",
      "\u001b[0;31mIndexError\u001b[0m: too many indices for array: array is 1-dimensional, but 2 were indexed"
     ]
    }
   ],
   "source": [
    "# post processing for stress and stress and nodes:\n",
    "from sfepy.discrete.fem.geometry_element import geometry_data\n",
    "\n",
    "out = variables.create_output()\n",
    "out = stress_strain(out, pb, variables)\n",
    "pb.save_state('triangle_load_ext.vtk', out=out)\n",
    "\n",
    "gdata = geometry_data['2_3']\n",
    "nc = len(gdata.coors)\n",
    "\n",
    "integral_vn = Integral('ivn', coors=gdata.coors,\n",
    "                        weights=[gdata.volume / nc] * nc)\n",
    "\n",
    "sdata = nodal_stress(pb, integrals=Integrals([integral_vn])) # get the stress data at nodes\n",
    "\n",
    "# Point load values\n",
    "mat = pb.get_materials()['Load']\n",
    "L_x, L_y = mat.get_data('special', 'val')\n",
    "\n",
    "# Example node indices to print stresses for\n",
    "specific_nodes = [0, 1, 2]  # Replace these with actual node indices you're interested in\n",
    "\n",
    "for node in specific_nodes:\n",
    "    # Horizontal tensile stress (sigma_xx)\n",
    "    sigma_xx = sdata[node, 0]\n",
    "\n",
    "    # Vertical compressive stress (sigma_yy)\n",
    "    sigma_yy = sdata[node, 1]\n",
    "\n",
    "    # Print stress at the node\n",
    "    print(f'Node {node}: Horizontal stress (sigma_xx) = {sigma_xx:.5e} Pascals')\n",
    "    print(f'Node {node}: Vertical stress (sigma_yy) = {sigma_yy:.5e} Pascals')\n"
   ]
  },
  {
   "cell_type": "code",
   "execution_count": 9,
   "metadata": {},
   "outputs": [],
   "source": [
    "# integral2 = Integral('i1', order=2)  # or the appropriate order for your problem\n",
    "# stress = pb.evaluate('ev_cauchy_stress.2.Omega(m.D, u)', mode='el_avg', m = m, integral=integral2)\n",
    "\n",
    "# # Create an output structure for the stress data at nodes\n",
    "# stress_out = {\n",
    "#     'cauchy_stress': Struct(name='stress_data', mode='el_avh', data=stress, dofs=None)\n",
    "# }"
   ]
  },
  {
   "cell_type": "code",
   "execution_count": 10,
   "metadata": {},
   "outputs": [
    {
     "ename": "NameError",
     "evalue": "name 'stress_out' is not defined",
     "output_type": "error",
     "traceback": [
      "\u001b[0;31m---------------------------------------------------------------------------\u001b[0m",
      "\u001b[0;31mNameError\u001b[0m                                 Traceback (most recent call last)",
      "Cell \u001b[0;32mIn[10], line 1\u001b[0m\n\u001b[0;32m----> 1\u001b[0m \u001b[43mstress_out\u001b[49m[\u001b[38;5;124m'\u001b[39m\u001b[38;5;124mcauchy_stress\u001b[39m\u001b[38;5;124m'\u001b[39m]\u001b[38;5;241m.\u001b[39mdata\u001b[38;5;241m.\u001b[39mshape\n",
      "\u001b[0;31mNameError\u001b[0m: name 'stress_out' is not defined"
     ]
    }
   ],
   "source": [
    "stress_out['cauchy_stress'].data.shape"
   ]
  },
  {
   "cell_type": "code",
   "execution_count": null,
   "metadata": {},
   "outputs": [],
   "source": [
    "qp_coors, qp_weights = integral.get_qp('2_3')  # '2_3' for 2D triangles"
   ]
  },
  {
   "cell_type": "code",
   "execution_count": null,
   "metadata": {},
   "outputs": [
    {
     "data": {
      "text/plain": [
       "array([[0.16666667, 0.16666667],\n",
       "       [0.66666667, 0.16666667],\n",
       "       [0.16666667, 0.66666667]])"
      ]
     },
     "execution_count": 151,
     "metadata": {},
     "output_type": "execute_result"
    }
   ],
   "source": [
    "qp_coors"
   ]
  },
  {
   "cell_type": "code",
   "execution_count": null,
   "metadata": {},
   "outputs": [],
   "source": [
    "displacement_out = variables.create_output()"
   ]
  },
  {
   "cell_type": "code",
   "execution_count": null,
   "metadata": {},
   "outputs": [
    {
     "data": {
      "text/plain": [
       "(279, 2)"
      ]
     },
     "execution_count": 132,
     "metadata": {},
     "output_type": "execute_result"
    }
   ],
   "source": [
    "displacement_out['u'].data.shape"
   ]
  },
  {
   "cell_type": "code",
   "execution_count": null,
   "metadata": {},
   "outputs": [
    {
     "data": {
      "text/plain": [
       "(487, 1, 3, 1)"
      ]
     },
     "execution_count": 133,
     "metadata": {},
     "output_type": "execute_result"
    }
   ],
   "source": [
    "stress_out['cauchy_stress'].data.shape"
   ]
  },
  {
   "cell_type": "code",
   "execution_count": null,
   "metadata": {},
   "outputs": [
    {
     "data": {
      "text/html": [
       "<pre style=\"white-space:pre;overflow-x:auto;line-height:normal;font-family:Menlo,'DejaVu Sans Mono',consolas,'Courier New',monospace\"><span style=\"color: #808000; text-decoration-color: #808000; font-weight: bold\">Warning:</span><span style=\"color: #808000; text-decoration-color: #808000\"> VTK requires 3D vectors, but 2D vectors given. Appending </span><span style=\"color: #808000; text-decoration-color: #808000; font-weight: bold\">0</span><span style=\"color: #808000; text-decoration-color: #808000\"> third component to u.</span>\n",
       "</pre>\n"
      ],
      "text/plain": [
       "\u001b[1;33mWarning:\u001b[0m\u001b[33m VTK requires 3D vectors, but 2D vectors given. Appending \u001b[0m\u001b[1;33m0\u001b[0m\u001b[33m third component to u.\u001b[0m\n"
      ]
     },
     "metadata": {},
     "output_type": "display_data"
    }
   ],
   "source": [
    "pb.save_state('displacement_out.vtk', out=displacement_out)"
   ]
  },
  {
   "cell_type": "code",
   "execution_count": null,
   "metadata": {},
   "outputs": [],
   "source": [
    "pb.save_state('stress_output.vtk', out=output_data)\n"
   ]
  },
  {
   "cell_type": "code",
   "execution_count": null,
   "metadata": {},
   "outputs": [
    {
     "data": {
      "text/plain": [
       "array([[[[ 19.25732568],\n",
       "         [ 19.74388076],\n",
       "         [-21.34047028]]],\n",
       "\n",
       "\n",
       "       [[[  0.        ],\n",
       "         [  0.        ],\n",
       "         [  0.        ]]],\n",
       "\n",
       "\n",
       "       [[[ 37.06850137],\n",
       "         [ 46.03084566],\n",
       "         [-41.42226812]]],\n",
       "\n",
       "\n",
       "       ...,\n",
       "\n",
       "\n",
       "       [[[ 11.17687793],\n",
       "         [-22.82142084],\n",
       "         [ -4.28716581]]],\n",
       "\n",
       "\n",
       "       [[[ 17.45381033],\n",
       "         [ 27.15767556],\n",
       "         [-21.79927093]]],\n",
       "\n",
       "\n",
       "       [[[ -7.03076706],\n",
       "         [  2.18073572],\n",
       "         [ 11.96223269]]]])"
      ]
     },
     "execution_count": 96,
     "metadata": {},
     "output_type": "execute_result"
    }
   ],
   "source": [
    "stress"
   ]
  },
  {
   "cell_type": "code",
   "execution_count": null,
   "metadata": {},
   "outputs": [],
   "source": [
    "# Compute the normal stress components\n",
    "sigma_xx = stress[:, 0, 0, 0]  # σ_xx component\n",
    "sigma_yy = stress[:, 0, 1, 0]  # σ_yy component\n",
    "\n",
    "# Prepare output for visualization\n",
    "stress_normal_out = {\n",
    "    'sigma_xx': Struct(name='output_data', mode='cell', data=sigma_xx, dofs=None),\n",
    "    'sigma_yy': Struct(name='output_data', mode='cell', data=sigma_yy, dofs=None),\n",
    "}\n",
    "\n",
    "# Save the normal stress components for visualization\n",
    "#pb.save_state('normal_stress_output.vtk', out=stress_normal_out)"
   ]
  },
  {
   "cell_type": "code",
   "execution_count": null,
   "metadata": {},
   "outputs": [
    {
     "name": "stdout",
     "output_type": "stream",
     "text": [
      "(487, 1, 3, 1)\n"
     ]
    }
   ],
   "source": [
    "print(stress.shape)"
   ]
  },
  {
   "cell_type": "code",
   "execution_count": null,
   "metadata": {},
   "outputs": [
    {
     "data": {
      "text/plain": [
       "array([19.25732568,  0.        , 37.06850137, ..., 11.17687793,\n",
       "       17.45381033, -7.03076706])"
      ]
     },
     "execution_count": 102,
     "metadata": {},
     "output_type": "execute_result"
    }
   ],
   "source": [
    "sigma_xx"
   ]
  },
  {
   "cell_type": "code",
   "execution_count": null,
   "metadata": {},
   "outputs": [
    {
     "data": {
      "text/plain": [
       "(2088,)"
      ]
     },
     "execution_count": 108,
     "metadata": {},
     "output_type": "execute_result"
    }
   ],
   "source": [
    "u_data = variables['u'].data  # Displacement data\n",
    "u_data[0].shape"
   ]
  },
  {
   "cell_type": "code",
   "execution_count": null,
   "metadata": {},
   "outputs": [
    {
     "data": {
      "text/plain": [
       "(487, 1, 3, 1)"
      ]
     },
     "execution_count": 103,
     "metadata": {},
     "output_type": "execute_result"
    }
   ],
   "source": [
    "stress.shape"
   ]
  },
  {
   "cell_type": "code",
   "execution_count": null,
   "metadata": {},
   "outputs": [
    {
     "data": {
      "text/plain": [
       "array([19.25732568,  0.        , 37.06850137, ..., 11.17687793,\n",
       "       17.45381033, -7.03076706])"
      ]
     },
     "execution_count": 104,
     "metadata": {},
     "output_type": "execute_result"
    }
   ],
   "source": [
    "sigma_xx"
   ]
  },
  {
   "cell_type": "code",
   "execution_count": null,
   "metadata": {},
   "outputs": [
    {
     "data": {
      "text/plain": [
       "Variables"
      ]
     },
     "execution_count": 109,
     "metadata": {},
     "output_type": "execute_result"
    }
   ],
   "source": [
    "variables"
   ]
  },
  {
   "cell_type": "code",
   "execution_count": null,
   "metadata": {},
   "outputs": [
    {
     "name": "stdout",
     "output_type": "stream",
     "text": [
      "['__add__', '__call__', '__class__', '__delattr__', '__dict__', '__dir__', '__doc__', '__eq__', '__format__', '__ge__', '__getattribute__', '__getitem__', '__getstate__', '__gt__', '__hash__', '__iadd__', '__init__', '__init_subclass__', '__iter__', '__le__', '__len__', '__lt__', '__module__', '__ne__', '__new__', '__reduce__', '__reduce_ex__', '__repr__', '__setattr__', '__setitem__', '__sizeof__', '__slotnames__', '__str__', '__subclasshook__', '__weakref__', '_create_dof_info', '_format_sequence', '_objs', '_str', 'adi', 'adof_conns', 'advance', 'append', 'apply_ebc', 'apply_ic', 'as_dict', 'avdi', 'bc_of_vars', 'check_vec_size', 'copy', 'create_output', 'create_reduced_vec', 'create_vec', 'di', 'dtype', 'ebcs', 'epbcs', 'equation_mapping', 'extend', 'fill_state', 'from_conf', 'get', 'get_dual_names', 'get_indx', 'get_lcbc_operator', 'get_matrix_shape', 'get_names', 'get_reduced_state', 'get_state', 'get_state_parts', 'get_vec_part', 'has_ebc', 'has_eq_map', 'has_key', 'has_lcbc', 'has_lcbc_rhs', 'has_virtual_dcs', 'has_virtuals', 'ic_of_vars', 'ics', 'init_history', 'init_state', 'insert', 'invalidate_evaluate_caches', 'iter_state', 'iteritems', 'iterkeys', 'itervalues', 'lcbcs', 'lcdi', 'link_duals', 'make_full_vec', 'mtx_lcbc', 'names', 'ordered_state', 'ordered_virtual', 'parameter', 'print_names', 'r_vec', 'reduce_vec', 'remove_name', 'set_adof_conns', 'set_data', 'set_default', 'set_full_state', 'set_reduced_state', 'set_state', 'set_state_parts', 'set_vec_part', 'setup_dof_info', 'setup_dtype', 'setup_initial_conditions', 'setup_lcbc_operators', 'setup_ordering', 'state', 'str_all', 'str_class', 'time_update', 'to_dict', 'update', 'vdi', 'vec', 'vec_lcbc', 'virtual']\n"
     ]
    }
   ],
   "source": [
    "print(dir(variables))"
   ]
  },
  {
   "cell_type": "code",
   "execution_count": null,
   "metadata": {},
   "outputs": [
    {
     "ename": "AttributeError",
     "evalue": "'Problem' object has no attribute 'get_qp'",
     "output_type": "error",
     "traceback": [
      "\u001b[0;31m---------------------------------------------------------------------------\u001b[0m",
      "\u001b[0;31mAttributeError\u001b[0m                            Traceback (most recent call last)",
      "Cell \u001b[0;32mIn[138], line 2\u001b[0m\n\u001b[1;32m      1\u001b[0m \u001b[38;5;66;03m# Get quadrature point coordinates for the element type you're using (e.g., '2_3' for triangles)\u001b[39;00m\n\u001b[0;32m----> 2\u001b[0m qp_coors, qp_weights \u001b[38;5;241m=\u001b[39m \u001b[43mpb\u001b[49m\u001b[38;5;241;43m.\u001b[39;49m\u001b[43mget_qp\u001b[49m(\u001b[38;5;124m'\u001b[39m\u001b[38;5;124m2_3\u001b[39m\u001b[38;5;124m'\u001b[39m)\n",
      "\u001b[0;31mAttributeError\u001b[0m: 'Problem' object has no attribute 'get_qp'"
     ]
    }
   ],
   "source": [
    "# Get quadrature point coordinates for the element type you're using (e.g., '2_3' for triangles)\n",
    "qp_coors, qp_weights = pb.get_qp('2_3')"
   ]
  },
  {
   "cell_type": "code",
   "execution_count": null,
   "metadata": {},
   "outputs": [],
   "source": []
  }
 ],
 "metadata": {
  "kernelspec": {
   "display_name": "physics_env",
   "language": "python",
   "name": "python3"
  },
  "language_info": {
   "codemirror_mode": {
    "name": "ipython",
    "version": 3
   },
   "file_extension": ".py",
   "mimetype": "text/x-python",
   "name": "python",
   "nbconvert_exporter": "python",
   "pygments_lexer": "ipython3",
   "version": "3.12.5"
  }
 },
 "nbformat": 4,
 "nbformat_minor": 2
}
