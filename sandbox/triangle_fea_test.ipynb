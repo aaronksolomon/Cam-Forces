{
 "cells": [
  {
   "cell_type": "code",
   "execution_count": 51,
   "metadata": {},
   "outputs": [],
   "source": [
    "# all imports\n",
    "\n",
    "import numpy as np\n",
    "\n",
    "import sys\n",
    "sys.path.append('.')\n",
    "\n",
    "from sfepy.base.base import IndexedStruct, Struct\n",
    "from sfepy.discrete import (FieldVariable, Material, Integral, Integrals,\n",
    "                            Equation, Equations, Problem)\n",
    "from sfepy.discrete.fem import Mesh, FEDomain, Field\n",
    "from sfepy.terms import Term\n",
    "from sfepy.discrete.conditions import Conditions, EssentialBC\n",
    "from sfepy.solvers.ls import ScipyDirect\n",
    "from sfepy.solvers.nls import Newton\n",
    "from sfepy.mechanics.matcoefs import stiffness_from_youngpoisson"
   ]
  },
  {
   "cell_type": "code",
   "execution_count": 57,
   "metadata": {},
   "outputs": [],
   "source": [
    "# this is the postprocessing function from sfepy.examples.linear_elasticity.its2D_2\n",
    "def stress_strain(out, pb, state):\n",
    "    \"\"\"\n",
    "    Calculate and output strain and stress for given displacements.\n",
    "    \"\"\"\n",
    "    from sfepy.base.base import Struct\n",
    "\n",
    "    ev = pb.evaluate\n",
    "    strain = ev('ev_cauchy_strain.2.Surface(u)', mode='el_avg')\n",
    "    stress = ev('ev_cauchy_stress.2.Surface(Aluminum.D, u)', mode='el_avg',\n",
    "                copy_materials=False)\n",
    "\n",
    "    out['cauchy_strain'] = Struct(name='output_data', mode='cell',\n",
    "                                  data=strain, dofs=None)\n",
    "    out['cauchy_stress'] = Struct(name='output_data', mode='cell',\n",
    "                                  data=stress, dofs=None)\n",
    "\n",
    "    return out\n"
   ]
  },
  {
   "cell_type": "code",
   "execution_count": 58,
   "metadata": {},
   "outputs": [],
   "source": [
    "def nodal_stress(pb, integrals=None):\n",
    "    '''\n",
    "    Calculate and print stresses at nodal points.\n",
    "    '''\n",
    "    # Update problem time\n",
    "    pb.time_update()\n",
    "\n",
    "    if integrals is None:\n",
    "        integrals = pb.get_integrals()\n",
    "\n",
    "    # Evaluate stress at quadrature points\n",
    "    stress = pb.evaluate('ev_cauchy_stress.ivn.Surface(Aluminum.D, u)', mode='qp', \n",
    "                         integrals=integrals, copy_materials=False)\n",
    "    \n",
    "    # Create stress field variable from quadrature points\n",
    "    sfield = Field.from_args('stress', np.float64, (3,), \n",
    "                             pb.domain.regions['Surface'])\n",
    "    svar = FieldVariable('sigma', 'parameter', sfield, \n",
    "                         primary_var_name='(set-to-None)')\n",
    "    svar.set_from_qp(stress, integrals['ivn'])\n",
    "\n",
    "    return svar()"
   ]
  },
  {
   "cell_type": "code",
   "execution_count": 59,
   "metadata": {},
   "outputs": [
    {
     "name": "stdout",
     "output_type": "stream",
     "text": [
      "sfepy: reading mesh (triangle2d.mesh)...\n",
      "sfepy:   number of vertices: 279\n",
      "sfepy:   number of cells:\n",
      "sfepy:     2_3: 487\n",
      "sfepy: ...done in 0.00 s\n"
     ]
    }
   ],
   "source": [
    "\"\"\"\n",
    "Testing a triangle under load\n",
    "\"\"\"\n",
    "\n",
    "# Aluminum properties in SI units\n",
    "E = 7.0e10  # Young's Modulus in Pa (70 GPa for Aluminum)\n",
    "nu = 0.33  # Poisson's ratio for Aluminum\n",
    "\n",
    "# Define forces in Newtons\n",
    "fy = 6 * 1e3  # Example force in the y-direction (kn)\n",
    "force_ratio = np.tan(np.radians(10))  # Work with an angle of 10 degrees.\n",
    "fx = fy * force_ratio  # Horizontal force\n",
    "\n",
    "mesh = Mesh.from_file('triangle2d.mesh')\n",
    "domain = FEDomain('domain', mesh)\n",
    "\n",
    "# Get the bounding box of the domain to determine the boundary values\n",
    "# min_x, max_x = domain.get_mesh_bounding_box()[:, 0]\n",
    "# min_y, max_y = domain.get_mesh_bounding_box()[:, 1]\n",
    "\n",
    "# print(min_x, max_x)\n",
    "# print(min_y, max_y)\n",
    "\n",
    "# # Define a small epsilon value for numerical tolerance\n",
    "# eps = 1e-8 * (max_x - min_x)\n",
    "\n",
    "#set up entire region as Omega\n",
    "Surface = domain.create_region('Surface', 'all')\n",
    "\n",
    "# Create regions for the top and bottom vertices at  (0, 1), (0,0) and (1,0)\n",
    "Top = domain.create_region('Top', 'vertex 3', 'vertex')\n",
    "Bottom_Left = domain.create_region('Bottom_Left', 'vertex 1', 'vertex')                                        \n",
    "Bottom_Right = domain.create_region('Bottom_Right', 'vertex 2', 'vertex')\n",
    "\n",
    "field = Field.from_args('fu', np.float64, 'vector', Surface, approx_order=2)\n",
    "\n",
    "u = FieldVariable('u', 'unknown', field)\n",
    "v = FieldVariable('v', 'test', field, primary_var_name='u')\n",
    "\n",
    "# define elastic properties:\n",
    "# Aluminum properties in SI units\n",
    "E = 7.0e10  # Young's Modulus in Pa (70 GPa for Aluminum)\n",
    "nu = 0.33  # Poisson's ratio for Aluminum\n",
    "aluminum = Material('Aluminum', D=stiffness_from_youngpoisson(2, young=E, poisson=nu))\n",
    "\n",
    "# # Define the force material load (force vector in the x,y-directions)\n",
    "load = Material('Load', values={'.val' : [fx, fy]})\n",
    "\n",
    "# Use order 2 integrals\n",
    "integral2 = Integral('i', order=2)\n",
    "integral0 = Integral('i', order=0)\n",
    "\n",
    "# Set up linear elastic conditions \n",
    "t_elastic = Term.new('dw_lin_elastic(Aluminum.D, v, u)',\n",
    "                integral2, Surface, Aluminum=aluminum, v=v, u=u)\n",
    "\n",
    "# Apply the force at the top vertex using a volume load\n",
    "t_load = Term.new('dw_point_load(Load.val, v)', integral0, Top, Load=load, v=v)\n",
    "\n",
    "eq = Equation('balance', t_elastic + t_load)\n",
    "eqs = Equations([eq])\n",
    "\n",
    "# Apply boundary conditions to the two bottom vertices\n",
    "fix_bottom_left = EssentialBC('fix_bottom_left', Bottom_Left, {'u.all': 0.0})  # Fix both x and y displacements\n",
    "fix_bottom_right = EssentialBC('fix_bottom_right', Bottom_Right, {'u.all': 0.0})  # Fix both x and y displacements\n",
    "\n",
    "ls = ScipyDirect({})\n",
    "\n",
    "nls_status = IndexedStruct()\n",
    "nls = Newton({}, lin_solver=ls, status=nls_status)\n",
    "\n"
   ]
  },
  {
   "cell_type": "code",
   "execution_count": 60,
   "metadata": {},
   "outputs": [
    {
     "name": "stdout",
     "output_type": "stream",
     "text": [
      "sfepy: saving regions as groups...\n",
      "sfepy:   Surface\n",
      "sfepy:   Top\n",
      "sfepy:   Bottom_Left\n",
      "sfepy:   Bottom_Right\n",
      "sfepy: ...done\n"
     ]
    }
   ],
   "source": [
    "pb = Problem('triangle load', equations=eqs)\n",
    "\n",
    "pb.save_regions_as_groups('regions')\n",
    "\n",
    "# Add the boundary conditions to the problem setup\n",
    "pb.set_bcs(ebcs=Conditions([fix_bottom_left, fix_bottom_right]))\n",
    "\n",
    "# Set up and solve the problem\n",
    "pb.set_solver(nls)\n",
    "\n",
    "status = IndexedStruct()\n"
   ]
  },
  {
   "cell_type": "code",
   "execution_count": 39,
   "metadata": {},
   "outputs": [
    {
     "name": "stdout",
     "output_type": "stream",
     "text": [
      "sfepy: updating variables...\n",
      "sfepy: ...done\n",
      "sfepy: setting up dof connectivities...\n",
      "sfepy: ...done in 0.00 s\n",
      "sfepy: matrix shape: (2084, 2084)\n",
      "sfepy: assembling matrix graph...\n",
      "sfepy: ...done in 0.00 s\n",
      "sfepy: matrix structural nonzeros: 45824 (1.06e+00% fill)\n",
      "sfepy: updating variables...\n",
      "sfepy: ...done\n",
      "sfepy: updating materials...\n",
      "sfepy:     Aluminum\n",
      "sfepy:     Load\n",
      "sfepy: ...done in 0.01 s\n",
      "sfepy: nls: iter: 0, residual: 6.092560e+03 (rel: 1.000000e+00)\n",
      "sfepy:   residual:    0.10 [s]\n",
      "sfepy:     matrix:    0.00 [s]\n",
      "sfepy:      solve:    0.01 [s]\n",
      "sfepy: warning: linear system solution precision is lower then the value set in solver options! (err = 1.974852e-09 < 1.000000e-10)\n",
      "sfepy: nls: iter: 1, residual: 1.998187e-09 (rel: 3.279716e-13)\n"
     ]
    },
    {
     "data": {
      "text/html": [
       "<pre style=\"white-space:pre;overflow-x:auto;line-height:normal;font-family:Menlo,'DejaVu Sans Mono',consolas,'Courier New',monospace\"><span style=\"color: #808000; text-decoration-color: #808000; font-weight: bold\">Warning:</span><span style=\"color: #808000; text-decoration-color: #808000\"> VTK requires 3D vectors, but 2D vectors given. Appending </span><span style=\"color: #808000; text-decoration-color: #808000; font-weight: bold\">0</span><span style=\"color: #808000; text-decoration-color: #808000\"> third component to u.</span>\n",
       "</pre>\n"
      ],
      "text/plain": [
       "\u001b[1;33mWarning:\u001b[0m\u001b[33m VTK requires 3D vectors, but 2D vectors given. Appending \u001b[0m\u001b[1;33m0\u001b[0m\u001b[33m third component to u.\u001b[0m\n"
      ]
     },
     "metadata": {},
     "output_type": "display_data"
    },
    {
     "name": "stdout",
     "output_type": "stream",
     "text": [
      "sfepy: solved in 1 steps in 0.14 seconds\n",
      "Nonlinear solver status:\n",
      " IndexedStruct\n",
      "  condition:\n",
      "    1\n",
      "  err:\n",
      "    1.9981868000187418e-09\n",
      "  err0:\n",
      "    6092.5596713144705\n",
      "  ls_n_iter:\n",
      "    -1\n",
      "  n_iter:\n",
      "    1\n",
      "  time:\n",
      "    0.11083349998807535\n",
      "  time_stats:\n",
      "    dict with keys: ['residual', 'matrix', 'solve']\n",
      "Stationary solver status:\n",
      " IndexedStruct\n",
      "  n_step:\n",
      "    1\n",
      "  time:\n",
      "    0.14145937497960404\n"
     ]
    },
    {
     "data": {
      "text/html": [
       "<pre style=\"white-space:pre;overflow-x:auto;line-height:normal;font-family:Menlo,'DejaVu Sans Mono',consolas,'Courier New',monospace\"><span style=\"color: #808000; text-decoration-color: #808000; font-weight: bold\">Warning:</span><span style=\"color: #808000; text-decoration-color: #808000\"> VTK requires 3D vectors, but 2D vectors given. Appending </span><span style=\"color: #808000; text-decoration-color: #808000; font-weight: bold\">0</span><span style=\"color: #808000; text-decoration-color: #808000\"> third component to u.</span>\n",
       "</pre>\n"
      ],
      "text/plain": [
       "\u001b[1;33mWarning:\u001b[0m\u001b[33m VTK requires 3D vectors, but 2D vectors given. Appending \u001b[0m\u001b[1;33m0\u001b[0m\u001b[33m third component to u.\u001b[0m\n"
      ]
     },
     "metadata": {},
     "output_type": "display_data"
    }
   ],
   "source": [
    "variables = pb.solve(status=status)\n",
    "\n",
    "print('Nonlinear solver status:\\n', nls_status)\n",
    "print('Stationary solver status:\\n', status)\n",
    "\n",
    "#pb.save_state('triangle_load.vtk', variables)"
   ]
  },
  {
   "cell_type": "code",
   "execution_count": 63,
   "metadata": {},
   "outputs": [
    {
     "name": "stdout",
     "output_type": "stream",
     "text": [
      "sfepy: equation \"tmp\":\n",
      "sfepy: ev_cauchy_strain.2.Surface(u)\n",
      "sfepy: updating materials...\n",
      "sfepy: ...done in 0.00 s\n"
     ]
    },
    {
     "ename": "ValueError",
     "evalue": "data of variable are not set! (u, step 0)",
     "output_type": "error",
     "traceback": [
      "\u001b[0;31m---------------------------------------------------------------------------\u001b[0m",
      "\u001b[0;31mValueError\u001b[0m                                Traceback (most recent call last)",
      "Cell \u001b[0;32mIn[63], line 3\u001b[0m\n\u001b[1;32m      1\u001b[0m ev \u001b[38;5;241m=\u001b[39m pb\u001b[38;5;241m.\u001b[39mevaluate\n\u001b[0;32m----> 3\u001b[0m strain \u001b[38;5;241m=\u001b[39m \u001b[43mev\u001b[49m\u001b[43m(\u001b[49m\u001b[38;5;124;43m'\u001b[39;49m\u001b[38;5;124;43mev_cauchy_strain.2.Surface(u)\u001b[39;49m\u001b[38;5;124;43m'\u001b[39;49m\u001b[43m,\u001b[49m\u001b[43m \u001b[49m\u001b[43mmode\u001b[49m\u001b[38;5;241;43m=\u001b[39;49m\u001b[38;5;124;43m'\u001b[39;49m\u001b[38;5;124;43mel_avg\u001b[39;49m\u001b[38;5;124;43m'\u001b[39;49m\u001b[43m)\u001b[49m\n\u001b[1;32m      4\u001b[0m \u001b[38;5;66;03m#stress = ev('ev_cauchy_stress.2.Surface(Aluminum.D, u)', mode='el_avg',\u001b[39;00m\n\u001b[1;32m      5\u001b[0m \u001b[38;5;66;03m#                copy_materials=False)\u001b[39;00m\n",
      "File \u001b[0;32m/opt/anaconda3/envs/physics_env/lib/python3.12/site-packages/sfepy/discrete/problem.py:1891\u001b[0m, in \u001b[0;36mProblem.evaluate\u001b[0;34m(self, expression, try_equations, auto_init, preserve_caches, copy_materials, integrals, ebcs, epbcs, lcbcs, ts, functions, mode, dw_mode, term_mode, var_dict, strip_variables, ret_variables, any_dof_conn, active_only, eterm_options, verbose, extra_args, **kwargs)\u001b[0m\n\u001b[1;32m   1874\u001b[0m aux \u001b[38;5;241m=\u001b[39m \u001b[38;5;28mself\u001b[39m\u001b[38;5;241m.\u001b[39mcreate_evaluable(expression,\n\u001b[1;32m   1875\u001b[0m                             try_equations\u001b[38;5;241m=\u001b[39mtry_equations,\n\u001b[1;32m   1876\u001b[0m                             auto_init\u001b[38;5;241m=\u001b[39mauto_init,\n\u001b[0;32m   (...)\u001b[0m\n\u001b[1;32m   1887\u001b[0m                             verbose\u001b[38;5;241m=\u001b[39mverbose,\n\u001b[1;32m   1888\u001b[0m                             \u001b[38;5;241m*\u001b[39m\u001b[38;5;241m*\u001b[39mkwargs)\n\u001b[1;32m   1889\u001b[0m equations, variables \u001b[38;5;241m=\u001b[39m aux\n\u001b[0;32m-> 1891\u001b[0m out \u001b[38;5;241m=\u001b[39m \u001b[43meval_equations\u001b[49m\u001b[43m(\u001b[49m\u001b[43mequations\u001b[49m\u001b[43m,\u001b[49m\u001b[43m \u001b[49m\u001b[43mvariables\u001b[49m\u001b[43m,\u001b[49m\n\u001b[1;32m   1892\u001b[0m \u001b[43m                     \u001b[49m\u001b[43mpreserve_caches\u001b[49m\u001b[38;5;241;43m=\u001b[39;49m\u001b[43mpreserve_caches\u001b[49m\u001b[43m,\u001b[49m\n\u001b[1;32m   1893\u001b[0m \u001b[43m                     \u001b[49m\u001b[43mmode\u001b[49m\u001b[38;5;241;43m=\u001b[39;49m\u001b[43mmode\u001b[49m\u001b[43m,\u001b[49m\u001b[43m \u001b[49m\u001b[43mdw_mode\u001b[49m\u001b[38;5;241;43m=\u001b[39;49m\u001b[43mdw_mode\u001b[49m\u001b[43m,\u001b[49m\u001b[43m \u001b[49m\u001b[43mterm_mode\u001b[49m\u001b[38;5;241;43m=\u001b[39;49m\u001b[43mterm_mode\u001b[49m\u001b[43m,\u001b[49m\n\u001b[1;32m   1894\u001b[0m \u001b[43m                     \u001b[49m\u001b[43mactive_only\u001b[49m\u001b[38;5;241;43m=\u001b[39;49m\u001b[43mactive_only\u001b[49m\u001b[43m,\u001b[49m\n\u001b[1;32m   1895\u001b[0m \u001b[43m                     \u001b[49m\u001b[43many_dof_conn\u001b[49m\u001b[38;5;241;43m=\u001b[39;49m\u001b[43many_dof_conn\u001b[49m\u001b[43m,\u001b[49m\n\u001b[1;32m   1896\u001b[0m \u001b[43m                     \u001b[49m\u001b[43mverbose\u001b[49m\u001b[38;5;241;43m=\u001b[39;49m\u001b[43mverbose\u001b[49m\u001b[43m)\u001b[49m\n\u001b[1;32m   1898\u001b[0m \u001b[38;5;28;01mif\u001b[39;00m ret_variables:\n\u001b[1;32m   1899\u001b[0m     out \u001b[38;5;241m=\u001b[39m (out, variables)\n",
      "File \u001b[0;32m/opt/anaconda3/envs/physics_env/lib/python3.12/site-packages/sfepy/discrete/evaluate.py:314\u001b[0m, in \u001b[0;36meval_equations\u001b[0;34m(equations, variables, names, preserve_caches, mode, dw_mode, term_mode, active_only, any_dof_conn, verbose)\u001b[0m\n\u001b[1;32m    311\u001b[0m \u001b[38;5;28;01mif\u001b[39;00m \u001b[38;5;129;01mnot\u001b[39;00m preserve_caches:\n\u001b[1;32m    312\u001b[0m     equations\u001b[38;5;241m.\u001b[39minvalidate_term_caches()\n\u001b[0;32m--> 314\u001b[0m out \u001b[38;5;241m=\u001b[39m \u001b[43mequations\u001b[49m\u001b[38;5;241;43m.\u001b[39;49m\u001b[43mevaluate\u001b[49m\u001b[43m(\u001b[49m\u001b[43mnames\u001b[49m\u001b[38;5;241;43m=\u001b[39;49m\u001b[43mnames\u001b[49m\u001b[43m,\u001b[49m\u001b[43m \u001b[49m\u001b[43mmode\u001b[49m\u001b[38;5;241;43m=\u001b[39;49m\u001b[43mmode\u001b[49m\u001b[43m,\u001b[49m\u001b[43m \u001b[49m\u001b[43mdw_mode\u001b[49m\u001b[38;5;241;43m=\u001b[39;49m\u001b[43mdw_mode\u001b[49m\u001b[43m,\u001b[49m\n\u001b[1;32m    315\u001b[0m \u001b[43m                         \u001b[49m\u001b[43mterm_mode\u001b[49m\u001b[38;5;241;43m=\u001b[39;49m\u001b[43mterm_mode\u001b[49m\u001b[43m,\u001b[49m\u001b[43m \u001b[49m\u001b[43masm_obj\u001b[49m\u001b[38;5;241;43m=\u001b[39;49m\u001b[43masm_obj\u001b[49m\u001b[43m)\u001b[49m\n\u001b[1;32m    317\u001b[0m \u001b[38;5;28;01mif\u001b[39;00m variables\u001b[38;5;241m.\u001b[39mhas_lcbc \u001b[38;5;129;01mand\u001b[39;00m mode \u001b[38;5;241m==\u001b[39m \u001b[38;5;124m'\u001b[39m\u001b[38;5;124mweak\u001b[39m\u001b[38;5;124m'\u001b[39m:\n\u001b[1;32m    318\u001b[0m     mtx_lcbc \u001b[38;5;241m=\u001b[39m variables\u001b[38;5;241m.\u001b[39mmtx_lcbc\n",
      "File \u001b[0;32m/opt/anaconda3/envs/physics_env/lib/python3.12/site-packages/sfepy/discrete/equations.py:626\u001b[0m, in \u001b[0;36mEquations.evaluate\u001b[0;34m(self, names, mode, dw_mode, term_mode, diff_vars, asm_obj)\u001b[0m\n\u001b[1;32m    624\u001b[0m out \u001b[38;5;241m=\u001b[39m {}\n\u001b[1;32m    625\u001b[0m \u001b[38;5;28;01mfor\u001b[39;00m eq \u001b[38;5;129;01min\u001b[39;00m eqs:\n\u001b[0;32m--> 626\u001b[0m     eout \u001b[38;5;241m=\u001b[39m \u001b[43meq\u001b[49m\u001b[38;5;241;43m.\u001b[39;49m\u001b[43mevaluate\u001b[49m\u001b[43m(\u001b[49m\u001b[43mmode\u001b[49m\u001b[38;5;241;43m=\u001b[39;49m\u001b[43mmode\u001b[49m\u001b[43m,\u001b[49m\u001b[43m \u001b[49m\u001b[43mdw_mode\u001b[49m\u001b[38;5;241;43m=\u001b[39;49m\u001b[43mdw_mode\u001b[49m\u001b[43m,\u001b[49m\n\u001b[1;32m    627\u001b[0m \u001b[43m                       \u001b[49m\u001b[43mterm_mode\u001b[49m\u001b[38;5;241;43m=\u001b[39;49m\u001b[43mterm_mode\u001b[49m\u001b[43m)\u001b[49m\n\u001b[1;32m    628\u001b[0m     out[eq\u001b[38;5;241m.\u001b[39mname] \u001b[38;5;241m=\u001b[39m eout\n\u001b[1;32m    630\u001b[0m \u001b[38;5;28;01mif\u001b[39;00m single:\n",
      "File \u001b[0;32m/opt/anaconda3/envs/physics_env/lib/python3.12/site-packages/sfepy/discrete/equations.py:844\u001b[0m, in \u001b[0;36mEquation.evaluate\u001b[0;34m(self, mode, dw_mode, term_mode, diff_vars, asm_obj)\u001b[0m\n\u001b[1;32m    842\u001b[0m val \u001b[38;5;241m=\u001b[39m \u001b[38;5;241m0.0\u001b[39m\n\u001b[1;32m    843\u001b[0m \u001b[38;5;28;01mfor\u001b[39;00m term \u001b[38;5;129;01min\u001b[39;00m \u001b[38;5;28mself\u001b[39m\u001b[38;5;241m.\u001b[39mterms:\n\u001b[0;32m--> 844\u001b[0m     aux, status \u001b[38;5;241m=\u001b[39m \u001b[43mterm\u001b[49m\u001b[38;5;241;43m.\u001b[39;49m\u001b[43mevaluate\u001b[49m\u001b[43m(\u001b[49m\u001b[43mmode\u001b[49m\u001b[38;5;241;43m=\u001b[39;49m\u001b[43mmode\u001b[49m\u001b[43m,\u001b[49m\n\u001b[1;32m    845\u001b[0m \u001b[43m                                \u001b[49m\u001b[43mterm_mode\u001b[49m\u001b[38;5;241;43m=\u001b[39;49m\u001b[43mterm_mode\u001b[49m\u001b[43m,\u001b[49m\n\u001b[1;32m    846\u001b[0m \u001b[43m                                \u001b[49m\u001b[43mstandalone\u001b[49m\u001b[38;5;241;43m=\u001b[39;49m\u001b[38;5;28;43;01mFalse\u001b[39;49;00m\u001b[43m,\u001b[49m\n\u001b[1;32m    847\u001b[0m \u001b[43m                                \u001b[49m\u001b[43mret_status\u001b[49m\u001b[38;5;241;43m=\u001b[39;49m\u001b[38;5;28;43;01mTrue\u001b[39;49;00m\u001b[43m)\u001b[49m\n\u001b[1;32m    848\u001b[0m     val \u001b[38;5;241m+\u001b[39m\u001b[38;5;241m=\u001b[39m aux\n\u001b[1;32m    850\u001b[0m out \u001b[38;5;241m=\u001b[39m val\n",
      "File \u001b[0;32m/opt/anaconda3/envs/physics_env/lib/python3.12/site-packages/sfepy/terms/terms.py:1434\u001b[0m, in \u001b[0;36mTerm.evaluate\u001b[0;34m(self, mode, diff_var, standalone, ret_status, **kwargs)\u001b[0m\n\u001b[1;32m   1431\u001b[0m     status \u001b[38;5;241m=\u001b[39m \u001b[38;5;241m0\u001b[39m\n\u001b[1;32m   1433\u001b[0m \u001b[38;5;28;01melse\u001b[39;00m:\n\u001b[0;32m-> 1434\u001b[0m     fargs \u001b[38;5;241m=\u001b[39m \u001b[38;5;28;43mself\u001b[39;49m\u001b[38;5;241;43m.\u001b[39;49m\u001b[43mcall_get_fargs\u001b[49m\u001b[43m(\u001b[49m\u001b[43m_args\u001b[49m\u001b[43m,\u001b[49m\u001b[43m \u001b[49m\u001b[43mkwargs\u001b[49m\u001b[43m)\u001b[49m\n\u001b[1;32m   1436\u001b[0m     \u001b[38;5;28;01mif\u001b[39;00m dtype \u001b[38;5;241m==\u001b[39m nm\u001b[38;5;241m.\u001b[39mfloat64:\n\u001b[1;32m   1437\u001b[0m         val, status \u001b[38;5;241m=\u001b[39m \u001b[38;5;28mself\u001b[39m\u001b[38;5;241m.\u001b[39meval_real(shape, fargs, mode,\n\u001b[1;32m   1438\u001b[0m                                      term_mode,\n\u001b[1;32m   1439\u001b[0m                                      \u001b[38;5;241m*\u001b[39m\u001b[38;5;241m*\u001b[39mkwargs)\n",
      "File \u001b[0;32m/opt/anaconda3/envs/physics_env/lib/python3.12/site-packages/sfepy/terms/terms.py:1300\u001b[0m, in \u001b[0;36mTerm.call_get_fargs\u001b[0;34m(self, args, kwargs)\u001b[0m\n\u001b[1;32m   1298\u001b[0m \u001b[38;5;28;01mdef\u001b[39;00m \u001b[38;5;21mcall_get_fargs\u001b[39m(\u001b[38;5;28mself\u001b[39m, args, kwargs):\n\u001b[1;32m   1299\u001b[0m     \u001b[38;5;28;01mtry\u001b[39;00m:\n\u001b[0;32m-> 1300\u001b[0m         fargs \u001b[38;5;241m=\u001b[39m \u001b[38;5;28;43mself\u001b[39;49m\u001b[38;5;241;43m.\u001b[39;49m\u001b[43mget_fargs\u001b[49m\u001b[43m(\u001b[49m\u001b[38;5;241;43m*\u001b[39;49m\u001b[43margs\u001b[49m\u001b[43m,\u001b[49m\u001b[43m \u001b[49m\u001b[38;5;241;43m*\u001b[39;49m\u001b[38;5;241;43m*\u001b[39;49m\u001b[43mkwargs\u001b[49m\u001b[43m)\u001b[49m\n\u001b[1;32m   1302\u001b[0m     \u001b[38;5;28;01mexcept\u001b[39;00m (\u001b[38;5;167;01mRuntimeError\u001b[39;00m, \u001b[38;5;167;01mValueError\u001b[39;00m):\n\u001b[1;32m   1303\u001b[0m         terms\u001b[38;5;241m.\u001b[39merrclear()\n",
      "File \u001b[0;32m/opt/anaconda3/envs/physics_env/lib/python3.12/site-packages/sfepy/terms/terms_elastic.py:424\u001b[0m, in \u001b[0;36mCauchyStrainTerm.get_fargs\u001b[0;34m(self, parameter, mode, term_mode, diff_var, **kwargs)\u001b[0m\n\u001b[1;32m    420\u001b[0m \u001b[38;5;28;01mdef\u001b[39;00m \u001b[38;5;21mget_fargs\u001b[39m(\u001b[38;5;28mself\u001b[39m, parameter,\n\u001b[1;32m    421\u001b[0m               mode\u001b[38;5;241m=\u001b[39m\u001b[38;5;28;01mNone\u001b[39;00m, term_mode\u001b[38;5;241m=\u001b[39m\u001b[38;5;28;01mNone\u001b[39;00m, diff_var\u001b[38;5;241m=\u001b[39m\u001b[38;5;28;01mNone\u001b[39;00m, \u001b[38;5;241m*\u001b[39m\u001b[38;5;241m*\u001b[39mkwargs):\n\u001b[1;32m    422\u001b[0m     vg, _ \u001b[38;5;241m=\u001b[39m \u001b[38;5;28mself\u001b[39m\u001b[38;5;241m.\u001b[39mget_mapping(parameter)\n\u001b[0;32m--> 424\u001b[0m     strain \u001b[38;5;241m=\u001b[39m \u001b[38;5;28;43mself\u001b[39;49m\u001b[38;5;241;43m.\u001b[39;49m\u001b[43mget\u001b[49m\u001b[43m(\u001b[49m\u001b[43mparameter\u001b[49m\u001b[43m,\u001b[49m\u001b[43m \u001b[49m\u001b[38;5;124;43m'\u001b[39;49m\u001b[38;5;124;43mcauchy_strain\u001b[39;49m\u001b[38;5;124;43m'\u001b[39;49m\u001b[43m)\u001b[49m\n\u001b[1;32m    426\u001b[0m     fmode \u001b[38;5;241m=\u001b[39m {\u001b[38;5;124m'\u001b[39m\u001b[38;5;124meval\u001b[39m\u001b[38;5;124m'\u001b[39m : \u001b[38;5;241m0\u001b[39m, \u001b[38;5;124m'\u001b[39m\u001b[38;5;124mel_avg\u001b[39m\u001b[38;5;124m'\u001b[39m : \u001b[38;5;241m1\u001b[39m, \u001b[38;5;124m'\u001b[39m\u001b[38;5;124mqp\u001b[39m\u001b[38;5;124m'\u001b[39m : \u001b[38;5;241m2\u001b[39m}\u001b[38;5;241m.\u001b[39mget(mode, \u001b[38;5;241m1\u001b[39m)\n\u001b[1;32m    428\u001b[0m     \u001b[38;5;28;01mreturn\u001b[39;00m strain, vg, fmode\n",
      "File \u001b[0;32m/opt/anaconda3/envs/physics_env/lib/python3.12/site-packages/sfepy/terms/terms.py:1118\u001b[0m, in \u001b[0;36mTerm.get\u001b[0;34m(self, variable, quantity_name, bf, integration, step, time_derivative)\u001b[0m\n\u001b[1;32m   1114\u001b[0m time_derivative \u001b[38;5;241m=\u001b[39m get_default(time_derivative,\n\u001b[1;32m   1115\u001b[0m                               \u001b[38;5;28mself\u001b[39m\u001b[38;5;241m.\u001b[39marg_derivatives[name])\n\u001b[1;32m   1116\u001b[0m integration \u001b[38;5;241m=\u001b[39m get_default(integration, \u001b[38;5;28mself\u001b[39m\u001b[38;5;241m.\u001b[39mgeometry_types[name][\u001b[38;5;241m0\u001b[39m])\n\u001b[0;32m-> 1118\u001b[0m data \u001b[38;5;241m=\u001b[39m \u001b[43mvariable\u001b[49m\u001b[38;5;241;43m.\u001b[39;49m\u001b[43mevaluate\u001b[49m\u001b[43m(\u001b[49m\u001b[43mmode\u001b[49m\u001b[38;5;241;43m=\u001b[39;49m\u001b[43mquantity_name\u001b[49m\u001b[43m,\u001b[49m\n\u001b[1;32m   1119\u001b[0m \u001b[43m                         \u001b[49m\u001b[43mregion\u001b[49m\u001b[38;5;241;43m=\u001b[39;49m\u001b[38;5;28;43mself\u001b[39;49m\u001b[38;5;241;43m.\u001b[39;49m\u001b[43mregion\u001b[49m\u001b[43m,\u001b[49m\u001b[43m \u001b[49m\u001b[43mintegral\u001b[49m\u001b[38;5;241;43m=\u001b[39;49m\u001b[38;5;28;43mself\u001b[39;49m\u001b[38;5;241;43m.\u001b[39;49m\u001b[43mintegral\u001b[49m\u001b[43m,\u001b[49m\n\u001b[1;32m   1120\u001b[0m \u001b[43m                         \u001b[49m\u001b[43mintegration\u001b[49m\u001b[38;5;241;43m=\u001b[39;49m\u001b[43mintegration\u001b[49m\u001b[43m,\u001b[49m\n\u001b[1;32m   1121\u001b[0m \u001b[43m                         \u001b[49m\u001b[43mstep\u001b[49m\u001b[38;5;241;43m=\u001b[39;49m\u001b[43mstep\u001b[49m\u001b[43m,\u001b[49m\u001b[43m \u001b[49m\u001b[43mtime_derivative\u001b[49m\u001b[38;5;241;43m=\u001b[39;49m\u001b[43mtime_derivative\u001b[49m\u001b[43m,\u001b[49m\n\u001b[1;32m   1122\u001b[0m \u001b[43m                         \u001b[49m\u001b[43mtrace_region\u001b[49m\u001b[38;5;241;43m=\u001b[39;49m\u001b[38;5;28;43mself\u001b[39;49m\u001b[38;5;241;43m.\u001b[39;49m\u001b[43marg_trace_regions\u001b[49m\u001b[43m[\u001b[49m\u001b[43mname\u001b[49m\u001b[43m]\u001b[49m\u001b[43m,\u001b[49m\n\u001b[1;32m   1123\u001b[0m \u001b[43m                         \u001b[49m\u001b[43mbf\u001b[49m\u001b[38;5;241;43m=\u001b[39;49m\u001b[43mbf\u001b[49m\u001b[43m)\u001b[49m\n\u001b[1;32m   1124\u001b[0m \u001b[38;5;28;01mreturn\u001b[39;00m data\n",
      "File \u001b[0;32m/opt/anaconda3/envs/physics_env/lib/python3.12/site-packages/sfepy/discrete/variables.py:1732\u001b[0m, in \u001b[0;36mFieldVariable.evaluate\u001b[0;34m(self, mode, region, integral, integration, step, time_derivative, trace_region, dt, bf)\u001b[0m\n\u001b[1;32m   1729\u001b[0m     out \u001b[38;5;241m=\u001b[39m cache[key]\n\u001b[1;32m   1731\u001b[0m \u001b[38;5;28;01melse\u001b[39;00m:\n\u001b[0;32m-> 1732\u001b[0m     vec \u001b[38;5;241m=\u001b[39m \u001b[38;5;28;43mself\u001b[39;49m\u001b[43m(\u001b[49m\u001b[43mstep\u001b[49m\u001b[38;5;241;43m=\u001b[39;49m\u001b[43mstep\u001b[49m\u001b[43m,\u001b[49m\u001b[43m \u001b[49m\u001b[43mderivative\u001b[49m\u001b[38;5;241;43m=\u001b[39;49m\u001b[43mtime_derivative\u001b[49m\u001b[43m,\u001b[49m\u001b[43m \u001b[49m\u001b[43mdt\u001b[49m\u001b[38;5;241;43m=\u001b[39;49m\u001b[43mdt\u001b[49m\u001b[43m)\u001b[49m\n\u001b[1;32m   1733\u001b[0m     conn \u001b[38;5;241m=\u001b[39m field\u001b[38;5;241m.\u001b[39mget_econn(dct, region, trace_region)\n\u001b[1;32m   1735\u001b[0m     shape \u001b[38;5;241m=\u001b[39m \u001b[38;5;28mself\u001b[39m\u001b[38;5;241m.\u001b[39mget_data_shape(integral, integration, region\u001b[38;5;241m.\u001b[39mname)\n",
      "File \u001b[0;32m/opt/anaconda3/envs/physics_env/lib/python3.12/site-packages/sfepy/discrete/variables.py:1325\u001b[0m, in \u001b[0;36mVariable.__call__\u001b[0;34m(self, step, derivative, dt)\u001b[0m\n\u001b[1;32m   1322\u001b[0m         data \u001b[38;5;241m=\u001b[39m \u001b[38;5;28mself\u001b[39m\u001b[38;5;241m.\u001b[39mdata[\u001b[38;5;241m-\u001b[39mstep]\n\u001b[1;32m   1324\u001b[0m     \u001b[38;5;28;01mif\u001b[39;00m data \u001b[38;5;129;01mis\u001b[39;00m \u001b[38;5;28;01mNone\u001b[39;00m:\n\u001b[0;32m-> 1325\u001b[0m         \u001b[38;5;28;01mraise\u001b[39;00m \u001b[38;5;167;01mValueError\u001b[39;00m(\u001b[38;5;124m'\u001b[39m\u001b[38;5;124mdata of variable are not set! (\u001b[39m\u001b[38;5;132;01m%s\u001b[39;00m\u001b[38;5;124m, step \u001b[39m\u001b[38;5;132;01m%d\u001b[39;00m\u001b[38;5;124m)\u001b[39m\u001b[38;5;124m'\u001b[39m \\\n\u001b[1;32m   1326\u001b[0m                          \u001b[38;5;241m%\u001b[39m (\u001b[38;5;28mself\u001b[39m\u001b[38;5;241m.\u001b[39mname, step))\n\u001b[1;32m   1328\u001b[0m     \u001b[38;5;28;01mreturn\u001b[39;00m data[\u001b[38;5;28mself\u001b[39m\u001b[38;5;241m.\u001b[39mindx]\n\u001b[1;32m   1330\u001b[0m \u001b[38;5;28;01melse\u001b[39;00m:\n",
      "\u001b[0;31mValueError\u001b[0m: data of variable are not set! (u, step 0)"
     ]
    }
   ],
   "source": [
    "ev = pb.evaluate\n",
    "\n",
    "strain = ev('ev_cauchy_strain.2.Surface(u)', mode='el_avg')\n",
    "#stress = ev('ev_cauchy_stress.2.Surface(Aluminum.D, u)', mode='el_avg',\n",
    "#                copy_materials=False)"
   ]
  },
  {
   "cell_type": "code",
   "execution_count": 61,
   "metadata": {},
   "outputs": [
    {
     "name": "stdout",
     "output_type": "stream",
     "text": [
      "sfepy: equation \"tmp\":\n",
      "sfepy: ev_cauchy_strain.2.Surface(u)\n",
      "sfepy: updating materials...\n",
      "sfepy: ...done in 0.00 s\n"
     ]
    },
    {
     "ename": "ValueError",
     "evalue": "data of variable are not set! (u, step 0)",
     "output_type": "error",
     "traceback": [
      "\u001b[0;31m---------------------------------------------------------------------------\u001b[0m",
      "\u001b[0;31mValueError\u001b[0m                                Traceback (most recent call last)",
      "Cell \u001b[0;32mIn[61], line 5\u001b[0m\n\u001b[1;32m      2\u001b[0m \u001b[38;5;28;01mfrom\u001b[39;00m \u001b[38;5;21;01msfepy\u001b[39;00m\u001b[38;5;21;01m.\u001b[39;00m\u001b[38;5;21;01mdiscrete\u001b[39;00m\u001b[38;5;21;01m.\u001b[39;00m\u001b[38;5;21;01mfem\u001b[39;00m\u001b[38;5;21;01m.\u001b[39;00m\u001b[38;5;21;01mgeometry_element\u001b[39;00m \u001b[38;5;28;01mimport\u001b[39;00m geometry_data\n\u001b[1;32m      4\u001b[0m out \u001b[38;5;241m=\u001b[39m variables\u001b[38;5;241m.\u001b[39mcreate_output()\n\u001b[0;32m----> 5\u001b[0m out \u001b[38;5;241m=\u001b[39m \u001b[43mstress_strain\u001b[49m\u001b[43m(\u001b[49m\u001b[43mout\u001b[49m\u001b[43m,\u001b[49m\u001b[43m \u001b[49m\u001b[43mpb\u001b[49m\u001b[43m,\u001b[49m\u001b[43m \u001b[49m\u001b[43mvariables\u001b[49m\u001b[43m)\u001b[49m\n\u001b[1;32m      6\u001b[0m pb\u001b[38;5;241m.\u001b[39msave_state(\u001b[38;5;124m'\u001b[39m\u001b[38;5;124mtriangle_load_ext.vtk\u001b[39m\u001b[38;5;124m'\u001b[39m, out\u001b[38;5;241m=\u001b[39mout)\n\u001b[1;32m      8\u001b[0m gdata \u001b[38;5;241m=\u001b[39m geometry_data[\u001b[38;5;124m'\u001b[39m\u001b[38;5;124m2_3\u001b[39m\u001b[38;5;124m'\u001b[39m]\n",
      "Cell \u001b[0;32mIn[57], line 9\u001b[0m, in \u001b[0;36mstress_strain\u001b[0;34m(out, pb, state)\u001b[0m\n\u001b[1;32m      6\u001b[0m \u001b[38;5;28;01mfrom\u001b[39;00m \u001b[38;5;21;01msfepy\u001b[39;00m\u001b[38;5;21;01m.\u001b[39;00m\u001b[38;5;21;01mbase\u001b[39;00m\u001b[38;5;21;01m.\u001b[39;00m\u001b[38;5;21;01mbase\u001b[39;00m \u001b[38;5;28;01mimport\u001b[39;00m Struct\n\u001b[1;32m      8\u001b[0m ev \u001b[38;5;241m=\u001b[39m pb\u001b[38;5;241m.\u001b[39mevaluate\n\u001b[0;32m----> 9\u001b[0m strain \u001b[38;5;241m=\u001b[39m \u001b[43mev\u001b[49m\u001b[43m(\u001b[49m\u001b[38;5;124;43m'\u001b[39;49m\u001b[38;5;124;43mev_cauchy_strain.2.Surface(u)\u001b[39;49m\u001b[38;5;124;43m'\u001b[39;49m\u001b[43m,\u001b[49m\u001b[43m \u001b[49m\u001b[43mmode\u001b[49m\u001b[38;5;241;43m=\u001b[39;49m\u001b[38;5;124;43m'\u001b[39;49m\u001b[38;5;124;43mel_avg\u001b[39;49m\u001b[38;5;124;43m'\u001b[39;49m\u001b[43m)\u001b[49m\n\u001b[1;32m     10\u001b[0m stress \u001b[38;5;241m=\u001b[39m ev(\u001b[38;5;124m'\u001b[39m\u001b[38;5;124mev_cauchy_stress.2.Surface(Aluminum.D, u)\u001b[39m\u001b[38;5;124m'\u001b[39m, mode\u001b[38;5;241m=\u001b[39m\u001b[38;5;124m'\u001b[39m\u001b[38;5;124mel_avg\u001b[39m\u001b[38;5;124m'\u001b[39m,\n\u001b[1;32m     11\u001b[0m             copy_materials\u001b[38;5;241m=\u001b[39m\u001b[38;5;28;01mFalse\u001b[39;00m)\n\u001b[1;32m     13\u001b[0m out[\u001b[38;5;124m'\u001b[39m\u001b[38;5;124mcauchy_strain\u001b[39m\u001b[38;5;124m'\u001b[39m] \u001b[38;5;241m=\u001b[39m Struct(name\u001b[38;5;241m=\u001b[39m\u001b[38;5;124m'\u001b[39m\u001b[38;5;124moutput_data\u001b[39m\u001b[38;5;124m'\u001b[39m, mode\u001b[38;5;241m=\u001b[39m\u001b[38;5;124m'\u001b[39m\u001b[38;5;124mcell\u001b[39m\u001b[38;5;124m'\u001b[39m,\n\u001b[1;32m     14\u001b[0m                               data\u001b[38;5;241m=\u001b[39mstrain, dofs\u001b[38;5;241m=\u001b[39m\u001b[38;5;28;01mNone\u001b[39;00m)\n",
      "File \u001b[0;32m/opt/anaconda3/envs/physics_env/lib/python3.12/site-packages/sfepy/discrete/problem.py:1891\u001b[0m, in \u001b[0;36mProblem.evaluate\u001b[0;34m(self, expression, try_equations, auto_init, preserve_caches, copy_materials, integrals, ebcs, epbcs, lcbcs, ts, functions, mode, dw_mode, term_mode, var_dict, strip_variables, ret_variables, any_dof_conn, active_only, eterm_options, verbose, extra_args, **kwargs)\u001b[0m\n\u001b[1;32m   1874\u001b[0m aux \u001b[38;5;241m=\u001b[39m \u001b[38;5;28mself\u001b[39m\u001b[38;5;241m.\u001b[39mcreate_evaluable(expression,\n\u001b[1;32m   1875\u001b[0m                             try_equations\u001b[38;5;241m=\u001b[39mtry_equations,\n\u001b[1;32m   1876\u001b[0m                             auto_init\u001b[38;5;241m=\u001b[39mauto_init,\n\u001b[0;32m   (...)\u001b[0m\n\u001b[1;32m   1887\u001b[0m                             verbose\u001b[38;5;241m=\u001b[39mverbose,\n\u001b[1;32m   1888\u001b[0m                             \u001b[38;5;241m*\u001b[39m\u001b[38;5;241m*\u001b[39mkwargs)\n\u001b[1;32m   1889\u001b[0m equations, variables \u001b[38;5;241m=\u001b[39m aux\n\u001b[0;32m-> 1891\u001b[0m out \u001b[38;5;241m=\u001b[39m \u001b[43meval_equations\u001b[49m\u001b[43m(\u001b[49m\u001b[43mequations\u001b[49m\u001b[43m,\u001b[49m\u001b[43m \u001b[49m\u001b[43mvariables\u001b[49m\u001b[43m,\u001b[49m\n\u001b[1;32m   1892\u001b[0m \u001b[43m                     \u001b[49m\u001b[43mpreserve_caches\u001b[49m\u001b[38;5;241;43m=\u001b[39;49m\u001b[43mpreserve_caches\u001b[49m\u001b[43m,\u001b[49m\n\u001b[1;32m   1893\u001b[0m \u001b[43m                     \u001b[49m\u001b[43mmode\u001b[49m\u001b[38;5;241;43m=\u001b[39;49m\u001b[43mmode\u001b[49m\u001b[43m,\u001b[49m\u001b[43m \u001b[49m\u001b[43mdw_mode\u001b[49m\u001b[38;5;241;43m=\u001b[39;49m\u001b[43mdw_mode\u001b[49m\u001b[43m,\u001b[49m\u001b[43m \u001b[49m\u001b[43mterm_mode\u001b[49m\u001b[38;5;241;43m=\u001b[39;49m\u001b[43mterm_mode\u001b[49m\u001b[43m,\u001b[49m\n\u001b[1;32m   1894\u001b[0m \u001b[43m                     \u001b[49m\u001b[43mactive_only\u001b[49m\u001b[38;5;241;43m=\u001b[39;49m\u001b[43mactive_only\u001b[49m\u001b[43m,\u001b[49m\n\u001b[1;32m   1895\u001b[0m \u001b[43m                     \u001b[49m\u001b[43many_dof_conn\u001b[49m\u001b[38;5;241;43m=\u001b[39;49m\u001b[43many_dof_conn\u001b[49m\u001b[43m,\u001b[49m\n\u001b[1;32m   1896\u001b[0m \u001b[43m                     \u001b[49m\u001b[43mverbose\u001b[49m\u001b[38;5;241;43m=\u001b[39;49m\u001b[43mverbose\u001b[49m\u001b[43m)\u001b[49m\n\u001b[1;32m   1898\u001b[0m \u001b[38;5;28;01mif\u001b[39;00m ret_variables:\n\u001b[1;32m   1899\u001b[0m     out \u001b[38;5;241m=\u001b[39m (out, variables)\n",
      "File \u001b[0;32m/opt/anaconda3/envs/physics_env/lib/python3.12/site-packages/sfepy/discrete/evaluate.py:314\u001b[0m, in \u001b[0;36meval_equations\u001b[0;34m(equations, variables, names, preserve_caches, mode, dw_mode, term_mode, active_only, any_dof_conn, verbose)\u001b[0m\n\u001b[1;32m    311\u001b[0m \u001b[38;5;28;01mif\u001b[39;00m \u001b[38;5;129;01mnot\u001b[39;00m preserve_caches:\n\u001b[1;32m    312\u001b[0m     equations\u001b[38;5;241m.\u001b[39minvalidate_term_caches()\n\u001b[0;32m--> 314\u001b[0m out \u001b[38;5;241m=\u001b[39m \u001b[43mequations\u001b[49m\u001b[38;5;241;43m.\u001b[39;49m\u001b[43mevaluate\u001b[49m\u001b[43m(\u001b[49m\u001b[43mnames\u001b[49m\u001b[38;5;241;43m=\u001b[39;49m\u001b[43mnames\u001b[49m\u001b[43m,\u001b[49m\u001b[43m \u001b[49m\u001b[43mmode\u001b[49m\u001b[38;5;241;43m=\u001b[39;49m\u001b[43mmode\u001b[49m\u001b[43m,\u001b[49m\u001b[43m \u001b[49m\u001b[43mdw_mode\u001b[49m\u001b[38;5;241;43m=\u001b[39;49m\u001b[43mdw_mode\u001b[49m\u001b[43m,\u001b[49m\n\u001b[1;32m    315\u001b[0m \u001b[43m                         \u001b[49m\u001b[43mterm_mode\u001b[49m\u001b[38;5;241;43m=\u001b[39;49m\u001b[43mterm_mode\u001b[49m\u001b[43m,\u001b[49m\u001b[43m \u001b[49m\u001b[43masm_obj\u001b[49m\u001b[38;5;241;43m=\u001b[39;49m\u001b[43masm_obj\u001b[49m\u001b[43m)\u001b[49m\n\u001b[1;32m    317\u001b[0m \u001b[38;5;28;01mif\u001b[39;00m variables\u001b[38;5;241m.\u001b[39mhas_lcbc \u001b[38;5;129;01mand\u001b[39;00m mode \u001b[38;5;241m==\u001b[39m \u001b[38;5;124m'\u001b[39m\u001b[38;5;124mweak\u001b[39m\u001b[38;5;124m'\u001b[39m:\n\u001b[1;32m    318\u001b[0m     mtx_lcbc \u001b[38;5;241m=\u001b[39m variables\u001b[38;5;241m.\u001b[39mmtx_lcbc\n",
      "File \u001b[0;32m/opt/anaconda3/envs/physics_env/lib/python3.12/site-packages/sfepy/discrete/equations.py:626\u001b[0m, in \u001b[0;36mEquations.evaluate\u001b[0;34m(self, names, mode, dw_mode, term_mode, diff_vars, asm_obj)\u001b[0m\n\u001b[1;32m    624\u001b[0m out \u001b[38;5;241m=\u001b[39m {}\n\u001b[1;32m    625\u001b[0m \u001b[38;5;28;01mfor\u001b[39;00m eq \u001b[38;5;129;01min\u001b[39;00m eqs:\n\u001b[0;32m--> 626\u001b[0m     eout \u001b[38;5;241m=\u001b[39m \u001b[43meq\u001b[49m\u001b[38;5;241;43m.\u001b[39;49m\u001b[43mevaluate\u001b[49m\u001b[43m(\u001b[49m\u001b[43mmode\u001b[49m\u001b[38;5;241;43m=\u001b[39;49m\u001b[43mmode\u001b[49m\u001b[43m,\u001b[49m\u001b[43m \u001b[49m\u001b[43mdw_mode\u001b[49m\u001b[38;5;241;43m=\u001b[39;49m\u001b[43mdw_mode\u001b[49m\u001b[43m,\u001b[49m\n\u001b[1;32m    627\u001b[0m \u001b[43m                       \u001b[49m\u001b[43mterm_mode\u001b[49m\u001b[38;5;241;43m=\u001b[39;49m\u001b[43mterm_mode\u001b[49m\u001b[43m)\u001b[49m\n\u001b[1;32m    628\u001b[0m     out[eq\u001b[38;5;241m.\u001b[39mname] \u001b[38;5;241m=\u001b[39m eout\n\u001b[1;32m    630\u001b[0m \u001b[38;5;28;01mif\u001b[39;00m single:\n",
      "File \u001b[0;32m/opt/anaconda3/envs/physics_env/lib/python3.12/site-packages/sfepy/discrete/equations.py:844\u001b[0m, in \u001b[0;36mEquation.evaluate\u001b[0;34m(self, mode, dw_mode, term_mode, diff_vars, asm_obj)\u001b[0m\n\u001b[1;32m    842\u001b[0m val \u001b[38;5;241m=\u001b[39m \u001b[38;5;241m0.0\u001b[39m\n\u001b[1;32m    843\u001b[0m \u001b[38;5;28;01mfor\u001b[39;00m term \u001b[38;5;129;01min\u001b[39;00m \u001b[38;5;28mself\u001b[39m\u001b[38;5;241m.\u001b[39mterms:\n\u001b[0;32m--> 844\u001b[0m     aux, status \u001b[38;5;241m=\u001b[39m \u001b[43mterm\u001b[49m\u001b[38;5;241;43m.\u001b[39;49m\u001b[43mevaluate\u001b[49m\u001b[43m(\u001b[49m\u001b[43mmode\u001b[49m\u001b[38;5;241;43m=\u001b[39;49m\u001b[43mmode\u001b[49m\u001b[43m,\u001b[49m\n\u001b[1;32m    845\u001b[0m \u001b[43m                                \u001b[49m\u001b[43mterm_mode\u001b[49m\u001b[38;5;241;43m=\u001b[39;49m\u001b[43mterm_mode\u001b[49m\u001b[43m,\u001b[49m\n\u001b[1;32m    846\u001b[0m \u001b[43m                                \u001b[49m\u001b[43mstandalone\u001b[49m\u001b[38;5;241;43m=\u001b[39;49m\u001b[38;5;28;43;01mFalse\u001b[39;49;00m\u001b[43m,\u001b[49m\n\u001b[1;32m    847\u001b[0m \u001b[43m                                \u001b[49m\u001b[43mret_status\u001b[49m\u001b[38;5;241;43m=\u001b[39;49m\u001b[38;5;28;43;01mTrue\u001b[39;49;00m\u001b[43m)\u001b[49m\n\u001b[1;32m    848\u001b[0m     val \u001b[38;5;241m+\u001b[39m\u001b[38;5;241m=\u001b[39m aux\n\u001b[1;32m    850\u001b[0m out \u001b[38;5;241m=\u001b[39m val\n",
      "File \u001b[0;32m/opt/anaconda3/envs/physics_env/lib/python3.12/site-packages/sfepy/terms/terms.py:1434\u001b[0m, in \u001b[0;36mTerm.evaluate\u001b[0;34m(self, mode, diff_var, standalone, ret_status, **kwargs)\u001b[0m\n\u001b[1;32m   1431\u001b[0m     status \u001b[38;5;241m=\u001b[39m \u001b[38;5;241m0\u001b[39m\n\u001b[1;32m   1433\u001b[0m \u001b[38;5;28;01melse\u001b[39;00m:\n\u001b[0;32m-> 1434\u001b[0m     fargs \u001b[38;5;241m=\u001b[39m \u001b[38;5;28;43mself\u001b[39;49m\u001b[38;5;241;43m.\u001b[39;49m\u001b[43mcall_get_fargs\u001b[49m\u001b[43m(\u001b[49m\u001b[43m_args\u001b[49m\u001b[43m,\u001b[49m\u001b[43m \u001b[49m\u001b[43mkwargs\u001b[49m\u001b[43m)\u001b[49m\n\u001b[1;32m   1436\u001b[0m     \u001b[38;5;28;01mif\u001b[39;00m dtype \u001b[38;5;241m==\u001b[39m nm\u001b[38;5;241m.\u001b[39mfloat64:\n\u001b[1;32m   1437\u001b[0m         val, status \u001b[38;5;241m=\u001b[39m \u001b[38;5;28mself\u001b[39m\u001b[38;5;241m.\u001b[39meval_real(shape, fargs, mode,\n\u001b[1;32m   1438\u001b[0m                                      term_mode,\n\u001b[1;32m   1439\u001b[0m                                      \u001b[38;5;241m*\u001b[39m\u001b[38;5;241m*\u001b[39mkwargs)\n",
      "File \u001b[0;32m/opt/anaconda3/envs/physics_env/lib/python3.12/site-packages/sfepy/terms/terms.py:1300\u001b[0m, in \u001b[0;36mTerm.call_get_fargs\u001b[0;34m(self, args, kwargs)\u001b[0m\n\u001b[1;32m   1298\u001b[0m \u001b[38;5;28;01mdef\u001b[39;00m \u001b[38;5;21mcall_get_fargs\u001b[39m(\u001b[38;5;28mself\u001b[39m, args, kwargs):\n\u001b[1;32m   1299\u001b[0m     \u001b[38;5;28;01mtry\u001b[39;00m:\n\u001b[0;32m-> 1300\u001b[0m         fargs \u001b[38;5;241m=\u001b[39m \u001b[38;5;28;43mself\u001b[39;49m\u001b[38;5;241;43m.\u001b[39;49m\u001b[43mget_fargs\u001b[49m\u001b[43m(\u001b[49m\u001b[38;5;241;43m*\u001b[39;49m\u001b[43margs\u001b[49m\u001b[43m,\u001b[49m\u001b[43m \u001b[49m\u001b[38;5;241;43m*\u001b[39;49m\u001b[38;5;241;43m*\u001b[39;49m\u001b[43mkwargs\u001b[49m\u001b[43m)\u001b[49m\n\u001b[1;32m   1302\u001b[0m     \u001b[38;5;28;01mexcept\u001b[39;00m (\u001b[38;5;167;01mRuntimeError\u001b[39;00m, \u001b[38;5;167;01mValueError\u001b[39;00m):\n\u001b[1;32m   1303\u001b[0m         terms\u001b[38;5;241m.\u001b[39merrclear()\n",
      "File \u001b[0;32m/opt/anaconda3/envs/physics_env/lib/python3.12/site-packages/sfepy/terms/terms_elastic.py:424\u001b[0m, in \u001b[0;36mCauchyStrainTerm.get_fargs\u001b[0;34m(self, parameter, mode, term_mode, diff_var, **kwargs)\u001b[0m\n\u001b[1;32m    420\u001b[0m \u001b[38;5;28;01mdef\u001b[39;00m \u001b[38;5;21mget_fargs\u001b[39m(\u001b[38;5;28mself\u001b[39m, parameter,\n\u001b[1;32m    421\u001b[0m               mode\u001b[38;5;241m=\u001b[39m\u001b[38;5;28;01mNone\u001b[39;00m, term_mode\u001b[38;5;241m=\u001b[39m\u001b[38;5;28;01mNone\u001b[39;00m, diff_var\u001b[38;5;241m=\u001b[39m\u001b[38;5;28;01mNone\u001b[39;00m, \u001b[38;5;241m*\u001b[39m\u001b[38;5;241m*\u001b[39mkwargs):\n\u001b[1;32m    422\u001b[0m     vg, _ \u001b[38;5;241m=\u001b[39m \u001b[38;5;28mself\u001b[39m\u001b[38;5;241m.\u001b[39mget_mapping(parameter)\n\u001b[0;32m--> 424\u001b[0m     strain \u001b[38;5;241m=\u001b[39m \u001b[38;5;28;43mself\u001b[39;49m\u001b[38;5;241;43m.\u001b[39;49m\u001b[43mget\u001b[49m\u001b[43m(\u001b[49m\u001b[43mparameter\u001b[49m\u001b[43m,\u001b[49m\u001b[43m \u001b[49m\u001b[38;5;124;43m'\u001b[39;49m\u001b[38;5;124;43mcauchy_strain\u001b[39;49m\u001b[38;5;124;43m'\u001b[39;49m\u001b[43m)\u001b[49m\n\u001b[1;32m    426\u001b[0m     fmode \u001b[38;5;241m=\u001b[39m {\u001b[38;5;124m'\u001b[39m\u001b[38;5;124meval\u001b[39m\u001b[38;5;124m'\u001b[39m : \u001b[38;5;241m0\u001b[39m, \u001b[38;5;124m'\u001b[39m\u001b[38;5;124mel_avg\u001b[39m\u001b[38;5;124m'\u001b[39m : \u001b[38;5;241m1\u001b[39m, \u001b[38;5;124m'\u001b[39m\u001b[38;5;124mqp\u001b[39m\u001b[38;5;124m'\u001b[39m : \u001b[38;5;241m2\u001b[39m}\u001b[38;5;241m.\u001b[39mget(mode, \u001b[38;5;241m1\u001b[39m)\n\u001b[1;32m    428\u001b[0m     \u001b[38;5;28;01mreturn\u001b[39;00m strain, vg, fmode\n",
      "File \u001b[0;32m/opt/anaconda3/envs/physics_env/lib/python3.12/site-packages/sfepy/terms/terms.py:1118\u001b[0m, in \u001b[0;36mTerm.get\u001b[0;34m(self, variable, quantity_name, bf, integration, step, time_derivative)\u001b[0m\n\u001b[1;32m   1114\u001b[0m time_derivative \u001b[38;5;241m=\u001b[39m get_default(time_derivative,\n\u001b[1;32m   1115\u001b[0m                               \u001b[38;5;28mself\u001b[39m\u001b[38;5;241m.\u001b[39marg_derivatives[name])\n\u001b[1;32m   1116\u001b[0m integration \u001b[38;5;241m=\u001b[39m get_default(integration, \u001b[38;5;28mself\u001b[39m\u001b[38;5;241m.\u001b[39mgeometry_types[name][\u001b[38;5;241m0\u001b[39m])\n\u001b[0;32m-> 1118\u001b[0m data \u001b[38;5;241m=\u001b[39m \u001b[43mvariable\u001b[49m\u001b[38;5;241;43m.\u001b[39;49m\u001b[43mevaluate\u001b[49m\u001b[43m(\u001b[49m\u001b[43mmode\u001b[49m\u001b[38;5;241;43m=\u001b[39;49m\u001b[43mquantity_name\u001b[49m\u001b[43m,\u001b[49m\n\u001b[1;32m   1119\u001b[0m \u001b[43m                         \u001b[49m\u001b[43mregion\u001b[49m\u001b[38;5;241;43m=\u001b[39;49m\u001b[38;5;28;43mself\u001b[39;49m\u001b[38;5;241;43m.\u001b[39;49m\u001b[43mregion\u001b[49m\u001b[43m,\u001b[49m\u001b[43m \u001b[49m\u001b[43mintegral\u001b[49m\u001b[38;5;241;43m=\u001b[39;49m\u001b[38;5;28;43mself\u001b[39;49m\u001b[38;5;241;43m.\u001b[39;49m\u001b[43mintegral\u001b[49m\u001b[43m,\u001b[49m\n\u001b[1;32m   1120\u001b[0m \u001b[43m                         \u001b[49m\u001b[43mintegration\u001b[49m\u001b[38;5;241;43m=\u001b[39;49m\u001b[43mintegration\u001b[49m\u001b[43m,\u001b[49m\n\u001b[1;32m   1121\u001b[0m \u001b[43m                         \u001b[49m\u001b[43mstep\u001b[49m\u001b[38;5;241;43m=\u001b[39;49m\u001b[43mstep\u001b[49m\u001b[43m,\u001b[49m\u001b[43m \u001b[49m\u001b[43mtime_derivative\u001b[49m\u001b[38;5;241;43m=\u001b[39;49m\u001b[43mtime_derivative\u001b[49m\u001b[43m,\u001b[49m\n\u001b[1;32m   1122\u001b[0m \u001b[43m                         \u001b[49m\u001b[43mtrace_region\u001b[49m\u001b[38;5;241;43m=\u001b[39;49m\u001b[38;5;28;43mself\u001b[39;49m\u001b[38;5;241;43m.\u001b[39;49m\u001b[43marg_trace_regions\u001b[49m\u001b[43m[\u001b[49m\u001b[43mname\u001b[49m\u001b[43m]\u001b[49m\u001b[43m,\u001b[49m\n\u001b[1;32m   1123\u001b[0m \u001b[43m                         \u001b[49m\u001b[43mbf\u001b[49m\u001b[38;5;241;43m=\u001b[39;49m\u001b[43mbf\u001b[49m\u001b[43m)\u001b[49m\n\u001b[1;32m   1124\u001b[0m \u001b[38;5;28;01mreturn\u001b[39;00m data\n",
      "File \u001b[0;32m/opt/anaconda3/envs/physics_env/lib/python3.12/site-packages/sfepy/discrete/variables.py:1732\u001b[0m, in \u001b[0;36mFieldVariable.evaluate\u001b[0;34m(self, mode, region, integral, integration, step, time_derivative, trace_region, dt, bf)\u001b[0m\n\u001b[1;32m   1729\u001b[0m     out \u001b[38;5;241m=\u001b[39m cache[key]\n\u001b[1;32m   1731\u001b[0m \u001b[38;5;28;01melse\u001b[39;00m:\n\u001b[0;32m-> 1732\u001b[0m     vec \u001b[38;5;241m=\u001b[39m \u001b[38;5;28;43mself\u001b[39;49m\u001b[43m(\u001b[49m\u001b[43mstep\u001b[49m\u001b[38;5;241;43m=\u001b[39;49m\u001b[43mstep\u001b[49m\u001b[43m,\u001b[49m\u001b[43m \u001b[49m\u001b[43mderivative\u001b[49m\u001b[38;5;241;43m=\u001b[39;49m\u001b[43mtime_derivative\u001b[49m\u001b[43m,\u001b[49m\u001b[43m \u001b[49m\u001b[43mdt\u001b[49m\u001b[38;5;241;43m=\u001b[39;49m\u001b[43mdt\u001b[49m\u001b[43m)\u001b[49m\n\u001b[1;32m   1733\u001b[0m     conn \u001b[38;5;241m=\u001b[39m field\u001b[38;5;241m.\u001b[39mget_econn(dct, region, trace_region)\n\u001b[1;32m   1735\u001b[0m     shape \u001b[38;5;241m=\u001b[39m \u001b[38;5;28mself\u001b[39m\u001b[38;5;241m.\u001b[39mget_data_shape(integral, integration, region\u001b[38;5;241m.\u001b[39mname)\n",
      "File \u001b[0;32m/opt/anaconda3/envs/physics_env/lib/python3.12/site-packages/sfepy/discrete/variables.py:1325\u001b[0m, in \u001b[0;36mVariable.__call__\u001b[0;34m(self, step, derivative, dt)\u001b[0m\n\u001b[1;32m   1322\u001b[0m         data \u001b[38;5;241m=\u001b[39m \u001b[38;5;28mself\u001b[39m\u001b[38;5;241m.\u001b[39mdata[\u001b[38;5;241m-\u001b[39mstep]\n\u001b[1;32m   1324\u001b[0m     \u001b[38;5;28;01mif\u001b[39;00m data \u001b[38;5;129;01mis\u001b[39;00m \u001b[38;5;28;01mNone\u001b[39;00m:\n\u001b[0;32m-> 1325\u001b[0m         \u001b[38;5;28;01mraise\u001b[39;00m \u001b[38;5;167;01mValueError\u001b[39;00m(\u001b[38;5;124m'\u001b[39m\u001b[38;5;124mdata of variable are not set! (\u001b[39m\u001b[38;5;132;01m%s\u001b[39;00m\u001b[38;5;124m, step \u001b[39m\u001b[38;5;132;01m%d\u001b[39;00m\u001b[38;5;124m)\u001b[39m\u001b[38;5;124m'\u001b[39m \\\n\u001b[1;32m   1326\u001b[0m                          \u001b[38;5;241m%\u001b[39m (\u001b[38;5;28mself\u001b[39m\u001b[38;5;241m.\u001b[39mname, step))\n\u001b[1;32m   1328\u001b[0m     \u001b[38;5;28;01mreturn\u001b[39;00m data[\u001b[38;5;28mself\u001b[39m\u001b[38;5;241m.\u001b[39mindx]\n\u001b[1;32m   1330\u001b[0m \u001b[38;5;28;01melse\u001b[39;00m:\n",
      "\u001b[0;31mValueError\u001b[0m: data of variable are not set! (u, step 0)"
     ]
    }
   ],
   "source": [
    "# post processing for stress and stress and nodes:\n",
    "from sfepy.discrete.fem.geometry_element import geometry_data\n",
    "\n",
    "out = variables.create_output()\n",
    "out = stress_strain(out, pb, variables)\n",
    "pb.save_state('triangle_load_ext.vtk', out=out)\n",
    "\n",
    "gdata = geometry_data['2_3']\n",
    "nc = len(gdata.coors)\n",
    "\n",
    "integral_vn = Integral('ivn', coors=gdata.coors,\n",
    "                        weights=[gdata.volume / nc] * nc)\n",
    "\n",
    "sdata = nodal_stress(pb, integrals=Integrals([integral_vn])) # get the stress data at nodes\n",
    "\n",
    "# Point load values\n",
    "mat = pb.get_materials()['Load']\n",
    "L_x, L_y = mat.get_data('special', 'val')\n",
    "\n",
    "# Example node indices to print stresses for\n",
    "specific_nodes = [0, 1, 2]  # Replace these with actual node indices you're interested in\n",
    "\n",
    "for node in specific_nodes:\n",
    "    # Horizontal tensile stress (sigma_xx)\n",
    "    sigma_xx = sdata[node, 0]\n",
    "\n",
    "    # Vertical compressive stress (sigma_yy)\n",
    "    sigma_yy = sdata[node, 1]\n",
    "\n",
    "    # Print stress at the node\n",
    "    print(f'Node {node}: Horizontal stress (sigma_xx) = {sigma_xx:.5e} Pascals')\n",
    "    print(f'Node {node}: Vertical stress (sigma_yy) = {sigma_yy:.5e} Pascals')\n"
   ]
  },
  {
   "cell_type": "code",
   "execution_count": null,
   "metadata": {},
   "outputs": [
    {
     "name": "stdout",
     "output_type": "stream",
     "text": [
      "sfepy:   equation \"tmp\":\n",
      "sfepy:   ev_cauchy_stress.2.Omega(m.D, u)\n",
      "sfepy:   updating materials...\n",
      "sfepy:       m\n",
      "sfepy:   ...done in 0.00 s\n"
     ]
    }
   ],
   "source": [
    "# integral2 = Integral('i1', order=2)  # or the appropriate order for your problem\n",
    "# stress = pb.evaluate('ev_cauchy_stress.2.Omega(m.D, u)', mode='el_avg', m = m, integral=integral2)\n",
    "\n",
    "# # Create an output structure for the stress data at nodes\n",
    "# stress_out = {\n",
    "#     'cauchy_stress': Struct(name='stress_data', mode='el_avh', data=stress, dofs=None)\n",
    "# }"
   ]
  },
  {
   "cell_type": "code",
   "execution_count": null,
   "metadata": {},
   "outputs": [
    {
     "data": {
      "text/plain": [
       "(487, 3, 3, 1)"
      ]
     },
     "execution_count": 146,
     "metadata": {},
     "output_type": "execute_result"
    }
   ],
   "source": [
    "stress_out['cauchy_stress'].data.shape"
   ]
  },
  {
   "cell_type": "code",
   "execution_count": null,
   "metadata": {},
   "outputs": [],
   "source": [
    "qp_coors, qp_weights = integral.get_qp('2_3')  # '2_3' for 2D triangles"
   ]
  },
  {
   "cell_type": "code",
   "execution_count": null,
   "metadata": {},
   "outputs": [
    {
     "data": {
      "text/plain": [
       "array([[0.16666667, 0.16666667],\n",
       "       [0.66666667, 0.16666667],\n",
       "       [0.16666667, 0.66666667]])"
      ]
     },
     "execution_count": 151,
     "metadata": {},
     "output_type": "execute_result"
    }
   ],
   "source": [
    "qp_coors"
   ]
  },
  {
   "cell_type": "code",
   "execution_count": null,
   "metadata": {},
   "outputs": [],
   "source": [
    "displacement_out = variables.create_output()"
   ]
  },
  {
   "cell_type": "code",
   "execution_count": null,
   "metadata": {},
   "outputs": [
    {
     "data": {
      "text/plain": [
       "(279, 2)"
      ]
     },
     "execution_count": 132,
     "metadata": {},
     "output_type": "execute_result"
    }
   ],
   "source": [
    "displacement_out['u'].data.shape"
   ]
  },
  {
   "cell_type": "code",
   "execution_count": null,
   "metadata": {},
   "outputs": [
    {
     "data": {
      "text/plain": [
       "(487, 1, 3, 1)"
      ]
     },
     "execution_count": 133,
     "metadata": {},
     "output_type": "execute_result"
    }
   ],
   "source": [
    "stress_out['cauchy_stress'].data.shape"
   ]
  },
  {
   "cell_type": "code",
   "execution_count": null,
   "metadata": {},
   "outputs": [
    {
     "data": {
      "text/html": [
       "<pre style=\"white-space:pre;overflow-x:auto;line-height:normal;font-family:Menlo,'DejaVu Sans Mono',consolas,'Courier New',monospace\"><span style=\"color: #808000; text-decoration-color: #808000; font-weight: bold\">Warning:</span><span style=\"color: #808000; text-decoration-color: #808000\"> VTK requires 3D vectors, but 2D vectors given. Appending </span><span style=\"color: #808000; text-decoration-color: #808000; font-weight: bold\">0</span><span style=\"color: #808000; text-decoration-color: #808000\"> third component to u.</span>\n",
       "</pre>\n"
      ],
      "text/plain": [
       "\u001b[1;33mWarning:\u001b[0m\u001b[33m VTK requires 3D vectors, but 2D vectors given. Appending \u001b[0m\u001b[1;33m0\u001b[0m\u001b[33m third component to u.\u001b[0m\n"
      ]
     },
     "metadata": {},
     "output_type": "display_data"
    }
   ],
   "source": [
    "pb.save_state('displacement_out.vtk', out=displacement_out)"
   ]
  },
  {
   "cell_type": "code",
   "execution_count": null,
   "metadata": {},
   "outputs": [],
   "source": [
    "pb.save_state('stress_output.vtk', out=output_data)\n"
   ]
  },
  {
   "cell_type": "code",
   "execution_count": null,
   "metadata": {},
   "outputs": [
    {
     "data": {
      "text/plain": [
       "array([[[[ 19.25732568],\n",
       "         [ 19.74388076],\n",
       "         [-21.34047028]]],\n",
       "\n",
       "\n",
       "       [[[  0.        ],\n",
       "         [  0.        ],\n",
       "         [  0.        ]]],\n",
       "\n",
       "\n",
       "       [[[ 37.06850137],\n",
       "         [ 46.03084566],\n",
       "         [-41.42226812]]],\n",
       "\n",
       "\n",
       "       ...,\n",
       "\n",
       "\n",
       "       [[[ 11.17687793],\n",
       "         [-22.82142084],\n",
       "         [ -4.28716581]]],\n",
       "\n",
       "\n",
       "       [[[ 17.45381033],\n",
       "         [ 27.15767556],\n",
       "         [-21.79927093]]],\n",
       "\n",
       "\n",
       "       [[[ -7.03076706],\n",
       "         [  2.18073572],\n",
       "         [ 11.96223269]]]])"
      ]
     },
     "execution_count": 96,
     "metadata": {},
     "output_type": "execute_result"
    }
   ],
   "source": [
    "stress"
   ]
  },
  {
   "cell_type": "code",
   "execution_count": null,
   "metadata": {},
   "outputs": [],
   "source": [
    "# Compute the normal stress components\n",
    "sigma_xx = stress[:, 0, 0, 0]  # σ_xx component\n",
    "sigma_yy = stress[:, 0, 1, 0]  # σ_yy component\n",
    "\n",
    "# Prepare output for visualization\n",
    "stress_normal_out = {\n",
    "    'sigma_xx': Struct(name='output_data', mode='cell', data=sigma_xx, dofs=None),\n",
    "    'sigma_yy': Struct(name='output_data', mode='cell', data=sigma_yy, dofs=None),\n",
    "}\n",
    "\n",
    "# Save the normal stress components for visualization\n",
    "#pb.save_state('normal_stress_output.vtk', out=stress_normal_out)"
   ]
  },
  {
   "cell_type": "code",
   "execution_count": null,
   "metadata": {},
   "outputs": [
    {
     "name": "stdout",
     "output_type": "stream",
     "text": [
      "(487, 1, 3, 1)\n"
     ]
    }
   ],
   "source": [
    "print(stress.shape)"
   ]
  },
  {
   "cell_type": "code",
   "execution_count": null,
   "metadata": {},
   "outputs": [
    {
     "data": {
      "text/plain": [
       "array([19.25732568,  0.        , 37.06850137, ..., 11.17687793,\n",
       "       17.45381033, -7.03076706])"
      ]
     },
     "execution_count": 102,
     "metadata": {},
     "output_type": "execute_result"
    }
   ],
   "source": [
    "sigma_xx"
   ]
  },
  {
   "cell_type": "code",
   "execution_count": null,
   "metadata": {},
   "outputs": [
    {
     "data": {
      "text/plain": [
       "(2088,)"
      ]
     },
     "execution_count": 108,
     "metadata": {},
     "output_type": "execute_result"
    }
   ],
   "source": [
    "u_data = variables['u'].data  # Displacement data\n",
    "u_data[0].shape"
   ]
  },
  {
   "cell_type": "code",
   "execution_count": null,
   "metadata": {},
   "outputs": [
    {
     "data": {
      "text/plain": [
       "(487, 1, 3, 1)"
      ]
     },
     "execution_count": 103,
     "metadata": {},
     "output_type": "execute_result"
    }
   ],
   "source": [
    "stress.shape"
   ]
  },
  {
   "cell_type": "code",
   "execution_count": null,
   "metadata": {},
   "outputs": [
    {
     "data": {
      "text/plain": [
       "array([19.25732568,  0.        , 37.06850137, ..., 11.17687793,\n",
       "       17.45381033, -7.03076706])"
      ]
     },
     "execution_count": 104,
     "metadata": {},
     "output_type": "execute_result"
    }
   ],
   "source": [
    "sigma_xx"
   ]
  },
  {
   "cell_type": "code",
   "execution_count": null,
   "metadata": {},
   "outputs": [
    {
     "data": {
      "text/plain": [
       "Variables"
      ]
     },
     "execution_count": 109,
     "metadata": {},
     "output_type": "execute_result"
    }
   ],
   "source": [
    "variables"
   ]
  },
  {
   "cell_type": "code",
   "execution_count": null,
   "metadata": {},
   "outputs": [
    {
     "name": "stdout",
     "output_type": "stream",
     "text": [
      "['__add__', '__call__', '__class__', '__delattr__', '__dict__', '__dir__', '__doc__', '__eq__', '__format__', '__ge__', '__getattribute__', '__getitem__', '__getstate__', '__gt__', '__hash__', '__iadd__', '__init__', '__init_subclass__', '__iter__', '__le__', '__len__', '__lt__', '__module__', '__ne__', '__new__', '__reduce__', '__reduce_ex__', '__repr__', '__setattr__', '__setitem__', '__sizeof__', '__slotnames__', '__str__', '__subclasshook__', '__weakref__', '_create_dof_info', '_format_sequence', '_objs', '_str', 'adi', 'adof_conns', 'advance', 'append', 'apply_ebc', 'apply_ic', 'as_dict', 'avdi', 'bc_of_vars', 'check_vec_size', 'copy', 'create_output', 'create_reduced_vec', 'create_vec', 'di', 'dtype', 'ebcs', 'epbcs', 'equation_mapping', 'extend', 'fill_state', 'from_conf', 'get', 'get_dual_names', 'get_indx', 'get_lcbc_operator', 'get_matrix_shape', 'get_names', 'get_reduced_state', 'get_state', 'get_state_parts', 'get_vec_part', 'has_ebc', 'has_eq_map', 'has_key', 'has_lcbc', 'has_lcbc_rhs', 'has_virtual_dcs', 'has_virtuals', 'ic_of_vars', 'ics', 'init_history', 'init_state', 'insert', 'invalidate_evaluate_caches', 'iter_state', 'iteritems', 'iterkeys', 'itervalues', 'lcbcs', 'lcdi', 'link_duals', 'make_full_vec', 'mtx_lcbc', 'names', 'ordered_state', 'ordered_virtual', 'parameter', 'print_names', 'r_vec', 'reduce_vec', 'remove_name', 'set_adof_conns', 'set_data', 'set_default', 'set_full_state', 'set_reduced_state', 'set_state', 'set_state_parts', 'set_vec_part', 'setup_dof_info', 'setup_dtype', 'setup_initial_conditions', 'setup_lcbc_operators', 'setup_ordering', 'state', 'str_all', 'str_class', 'time_update', 'to_dict', 'update', 'vdi', 'vec', 'vec_lcbc', 'virtual']\n"
     ]
    }
   ],
   "source": [
    "print(dir(variables))"
   ]
  },
  {
   "cell_type": "code",
   "execution_count": null,
   "metadata": {},
   "outputs": [
    {
     "ename": "AttributeError",
     "evalue": "'Problem' object has no attribute 'get_qp'",
     "output_type": "error",
     "traceback": [
      "\u001b[0;31m---------------------------------------------------------------------------\u001b[0m",
      "\u001b[0;31mAttributeError\u001b[0m                            Traceback (most recent call last)",
      "Cell \u001b[0;32mIn[138], line 2\u001b[0m\n\u001b[1;32m      1\u001b[0m \u001b[38;5;66;03m# Get quadrature point coordinates for the element type you're using (e.g., '2_3' for triangles)\u001b[39;00m\n\u001b[0;32m----> 2\u001b[0m qp_coors, qp_weights \u001b[38;5;241m=\u001b[39m \u001b[43mpb\u001b[49m\u001b[38;5;241;43m.\u001b[39;49m\u001b[43mget_qp\u001b[49m(\u001b[38;5;124m'\u001b[39m\u001b[38;5;124m2_3\u001b[39m\u001b[38;5;124m'\u001b[39m)\n",
      "\u001b[0;31mAttributeError\u001b[0m: 'Problem' object has no attribute 'get_qp'"
     ]
    }
   ],
   "source": [
    "# Get quadrature point coordinates for the element type you're using (e.g., '2_3' for triangles)\n",
    "qp_coors, qp_weights = pb.get_qp('2_3')"
   ]
  },
  {
   "cell_type": "code",
   "execution_count": null,
   "metadata": {},
   "outputs": [],
   "source": []
  }
 ],
 "metadata": {
  "kernelspec": {
   "display_name": "physics_env",
   "language": "python",
   "name": "python3"
  },
  "language_info": {
   "codemirror_mode": {
    "name": "ipython",
    "version": 3
   },
   "file_extension": ".py",
   "mimetype": "text/x-python",
   "name": "python",
   "nbconvert_exporter": "python",
   "pygments_lexer": "ipython3",
   "version": "3.12.5"
  }
 },
 "nbformat": 4,
 "nbformat_minor": 2
}
