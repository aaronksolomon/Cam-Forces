{
 "cells": [
  {
   "metadata": {
    "trusted": true
   },
   "cell_type": "code",
   "source": "import math\nimport numpy as np\n\ndef calculate_triangle_angles(r1, theta1, r2, theta2, decimals=3):\n    \"\"\"\n    Calculate the angles of the triangle formed by two vectors (r1, theta1) and (r2, theta2)\n    with a third side connecting the endpoints of the vectors.\n    \n    Parameters:\n    r1 (float): Magnitude of the first vector.\n    theta1 (float): Angle of the first vector in radians.\n    r2 (float): Magnitude of the second vector.\n    theta2 (float): Angle of the second vector in radians.\n    decimals (int): Number of decimal places to round the results to.\n    \n    Returns:\n    tuple: Two numpy arrays containing the angles of the triangle, \n           one in radians and the other in degrees, rounded to the specified decimal places.\n    \"\"\"\n    # Convert the vectors from polar to Cartesian coordinates\n    x1, y1 = r1 * math.cos(theta1), r1 * math.sin(theta1)\n    x2, y2 = r2 * math.cos(theta2), r2 * math.sin(theta2)\n    \n    # Calculate the angle at the origin\n    angle_A = abs(theta2 - theta1)\n    \n    # Calculate the vector from the endpoint of the first vector to the endpoint of the second vector\n    x3, y3 = x2 - x1, y2 - y1\n    \n    # Calculate the angle of this new vector\n    theta3 = math.atan2(y3, x3)\n    \n    # Calculate the other two angles\n    angle_B = abs(theta1 - theta3)\n    angle_C = abs(theta2 - theta3)\n    \n    # Ensure the angles are within the correct range\n    angle_A = angle_A % (2 * math.pi)\n    angle_B = angle_B % (2 * math.pi)\n    angle_C = angle_C % (2 * math.pi)\n    \n    # Create numpy arrays for the angles in radians and degrees\n    angles_radians = np.array([angle_A, angle_B, angle_C])\n    angles_degrees = np.degrees(angles_radians)\n    \n    # Round the results to the specified number of decimal places\n    angles_radians_rounded = np.round(angles_radians, decimals=decimals)\n    angles_degrees_rounded = np.round(angles_degrees, decimals=decimals)\n    \n    return angles_radians_rounded, angles_degrees_rounded\n\n# Example usage\nr1, theta1 = 5, math.radians(30)  # Example values in polar coordinates\nr2, theta2 = 8, math.radians(75)\n\nangles_radians, angles_degrees = calculate_triangle_angles(r1, theta1, r2, theta2)\nprint(\"Angles of the triangle (in radians):\", angles_radians)\nprint(\"Angles of the triangle (in degrees):\", angles_degrees)\n",
   "execution_count": 1,
   "outputs": [
    {
     "output_type": "stream",
     "text": "Angles of the triangle (in radians): [0.785 1.455 0.67 ]\nAngles of the triangle (in degrees): [45.    83.377 38.377]\n",
     "name": "stdout"
    }
   ]
  },
  {
   "metadata": {
    "trusted": false
   },
   "cell_type": "code",
   "source": "",
   "execution_count": null,
   "outputs": []
  }
 ],
 "metadata": {
  "kernelspec": {
   "name": "python3",
   "display_name": "Python 3",
   "language": "python"
  },
  "language_info": {
   "name": "python",
   "version": "3.10.4",
   "mimetype": "text/x-python",
   "codemirror_mode": {
    "name": "ipython",
    "version": 3
   },
   "pygments_lexer": "ipython3",
   "nbconvert_exporter": "python",
   "file_extension": ".py"
  }
 },
 "nbformat": 4,
 "nbformat_minor": 2
}