{
 "cells": [
  {
   "cell_type": "code",
   "execution_count": 1,
   "metadata": {},
   "outputs": [],
   "source": [
    "def convert_mesh(input_file, output_file):\n",
    "    with open(input_file, 'r') as f:\n",
    "        lines = f.readlines()\n",
    "\n",
    "    output_lines = []\n",
    "    inside_vertices = False\n",
    "    \n",
    "    for line in lines:\n",
    "        # Detect start of the vertices section\n",
    "        if 'Vertices' in line:\n",
    "            output_lines.append(line)\n",
    "            inside_vertices = True\n",
    "            continue\n",
    "        \n",
    "        # Stop modifying when 'Triangles' section is encountered\n",
    "        if 'Triangles' in line:\n",
    "            inside_vertices = False\n",
    "        \n",
    "        if inside_vertices:\n",
    "            # Process lines inside 'Vertices' section\n",
    "            parts = line.split()\n",
    "            if len(parts) == 4:\n",
    "                # Remove the third number (Z-coordinate)\n",
    "                output_lines.append(f'{parts[0]} {parts[1]} {parts[3]}\\n')\n",
    "            else:\n",
    "                # Just add the line if it's not a vertex (header or count lines)\n",
    "                output_lines.append(line)\n",
    "        else:\n",
    "            # Outside 'Vertices', add the line without changes\n",
    "            output_lines.append(line)\n",
    "\n",
    "    # Write the modified content to the output file\n",
    "    with open(output_file, 'w') as f:\n",
    "        f.writelines(output_lines)\n",
    "\n",
    "# Example usage\n",
    "input_mesh_file = 'triangle.mesh'\n",
    "output_mesh_file = 'triangle2d.mesh'\n",
    "\n",
    "convert_mesh(input_mesh_file, output_mesh_file)"
   ]
  },
  {
   "cell_type": "code",
   "execution_count": null,
   "metadata": {},
   "outputs": [],
   "source": []
  }
 ],
 "metadata": {
  "kernelspec": {
   "display_name": "physics_env",
   "language": "python",
   "name": "python3"
  },
  "language_info": {
   "codemirror_mode": {
    "name": "ipython",
    "version": 3
   },
   "file_extension": ".py",
   "mimetype": "text/x-python",
   "name": "python",
   "nbconvert_exporter": "python",
   "pygments_lexer": "ipython3",
   "version": "3.12.5"
  }
 },
 "nbformat": 4,
 "nbformat_minor": 2
}
