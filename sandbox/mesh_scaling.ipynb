{
 "cells": [
  {
   "cell_type": "code",
   "execution_count": 2,
   "metadata": {},
   "outputs": [],
   "source": [
    "def scale_mesh(input_file, output_file, scale_x, scale_y):\n",
    "    \"\"\"\n",
    "    Scales a 2D mesh by the specified scale factors in the x and y directions.\n",
    "\n",
    "    Parameters:\n",
    "    input_file (str): Path to the input .mesh file.\n",
    "    output_file (str): Path to the output .mesh file where scaled mesh will be saved.\n",
    "    scale_x (float): Scaling factor for the x direction.\n",
    "    scale_y (float): Scaling factor for the y direction.\n",
    "    \"\"\"\n",
    "    # Read the original mesh\n",
    "    with open(input_file, 'r') as f:\n",
    "        lines = f.readlines()\n",
    "\n",
    "    scaling = False  # Flag to track when we are in the Vertices section\n",
    "    scaled_lines = []\n",
    "\n",
    "    for line in lines:\n",
    "        if line.strip() == \"Vertices\":  # Start scaling after this line\n",
    "            scaled_lines.append(line)\n",
    "            scaling = True\n",
    "            continue\n",
    "        if scaling:\n",
    "            if line.strip().isdigit():  # Number of vertices line\n",
    "                scaled_lines.append(line)\n",
    "                continue\n",
    "            elif line.strip().startswith(\"Triangles\"):  # End scaling at \"Triangles\"\n",
    "                scaling = False\n",
    "                scaled_lines.append(line)\n",
    "                continue\n",
    "            else:\n",
    "                # Split the line, scale the first two numbers (x and y), and leave the rest unchanged\n",
    "                vertex = line.split()\n",
    "                x, y = float(vertex[0]) * scale_x, float(vertex[1]) * scale_y\n",
    "                remaining = \" \".join(vertex[2:])  # Keep the rest of the line unchanged\n",
    "                scaled_lines.append(f\"{x:.16e} {y:.16e} {remaining}\\n\")\n",
    "        else:\n",
    "            scaled_lines.append(line)\n",
    "\n",
    "    # Write the scaled mesh to the output file\n",
    "    with open(output_file, 'w') as f:\n",
    "        f.writelines(scaled_lines)"
   ]
  },
  {
   "cell_type": "code",
   "execution_count": 4,
   "metadata": {},
   "outputs": [],
   "source": [
    "scale_mesh('triangle2d.mesh', 'cm_triangle2d.mesh', 0.01/2, 0.01)"
   ]
  },
  {
   "cell_type": "code",
   "execution_count": null,
   "metadata": {},
   "outputs": [],
   "source": []
  }
 ],
 "metadata": {
  "kernelspec": {
   "display_name": "physics_env",
   "language": "python",
   "name": "python3"
  },
  "language_info": {
   "codemirror_mode": {
    "name": "ipython",
    "version": 3
   },
   "file_extension": ".py",
   "mimetype": "text/x-python",
   "name": "python",
   "nbconvert_exporter": "python",
   "pygments_lexer": "ipython3",
   "version": "3.12.5"
  }
 },
 "nbformat": 4,
 "nbformat_minor": 2
}
